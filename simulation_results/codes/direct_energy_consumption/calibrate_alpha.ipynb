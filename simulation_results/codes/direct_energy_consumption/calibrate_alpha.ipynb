{
 "cells": [
  {
   "cell_type": "code",
   "execution_count": 1,
   "id": "f9b45ca1-ad18-413d-a98e-147f01719a45",
   "metadata": {},
   "outputs": [],
   "source": [
    "from sympy import *\n",
    "from scipy.optimize import minimize\n",
    "import numpy as np\n",
    "x,a = symbols('x a')"
   ]
  },
  {
   "cell_type": "code",
   "execution_count": 5,
   "id": "639f3f56-79b8-4873-ba4d-fee9731cdb53",
   "metadata": {},
   "outputs": [],
   "source": [
    "# given rho, calculate the correct value of alpha, then change the values of rho and alpha in ces_direct_energy_util for correct results.\n",
    "# The point of this is that share of energy used in goods production is held constant at 0.15\n",
    "rho = -1.22\n",
    "## define CES production function and its derivative\n",
    "def g(p, rho = rho, alpha = 0.15):\n",
    "    if rho == 0:\n",
    "        return alpha**(-alpha) * (1-alpha)**(-(1-alpha)) * p**alpha\n",
    "    else:\n",
    "        t1 = (1-alpha)**(1/(1-rho))\n",
    "        t2 = alpha**(1/(1-rho)) * p**(-rho/(1-rho))\n",
    "        return (t1 + t2)**(-(1-rho)/rho)\n",
    "\n",
    "def gprime(p, rho, alpha):\n",
    "    if rho == 0:\n",
    "        return (alpha/(1-alpha))**(1-alpha) * p**(-(1-alpha))\n",
    "    else:\n",
    "        t1 = (1-alpha)**(1/(1-rho))\n",
    "        t2 = alpha**(1/(1-rho)) * p**(-rho/(1-rho))\n",
    "        coef = alpha **(1/(1-rho)) * p**(-rho/(1-rho) - 1)\n",
    "        return (t1 + t2)**(-(1-rho)/rho - 1) * coef"
   ]
  },
  {
   "cell_type": "code",
   "execution_count": 6,
   "id": "ec6ddd32-7d13-495d-a360-afbdfb93d561",
   "metadata": {},
   "outputs": [],
   "source": [
    "# minimizing absolute difference is much faster than sympy solve\n",
    "def obj_fun(a):\n",
    "    return abs(gprime(1,rho,a) / g(1,rho,a) - 0.15)"
   ]
  },
  {
   "cell_type": "code",
   "execution_count": 7,
   "id": "d8a51aeb-aef5-4a7e-a979-73edc210d232",
   "metadata": {},
   "outputs": [
    {
     "name": "stderr",
     "output_type": "stream",
     "text": [
      "C:\\Users\\Alex\\AppData\\Local\\Temp/ipykernel_22036/1674084930.py:18: RuntimeWarning: invalid value encountered in power\n",
      "  t2 = alpha**(1/(1-rho)) * p**(-rho/(1-rho))\n",
      "C:\\Users\\Alex\\AppData\\Local\\Temp/ipykernel_22036/1674084930.py:19: RuntimeWarning: invalid value encountered in power\n",
      "  coef = alpha **(1/(1-rho)) * p**(-rho/(1-rho) - 1)\n",
      "C:\\Users\\Alex\\AppData\\Local\\Temp/ipykernel_22036/1674084930.py:10: RuntimeWarning: invalid value encountered in power\n",
      "  t2 = alpha**(1/(1-rho)) * p**(-rho/(1-rho))\n"
     ]
    },
    {
     "data": {
      "text/plain": [
       "array([0.02081955])"
      ]
     },
     "execution_count": 7,
     "metadata": {},
     "output_type": "execute_result"
    }
   ],
   "source": [
    "res = minimize(obj_fun, 0.15, method='Nelder-Mead', tol=1e-6)\n",
    "if res.fun > 0.01:\n",
    "    print(\"did not converge, result is incorrect\")\n",
    "res.x"
   ]
  },
  {
   "cell_type": "code",
   "execution_count": 8,
   "id": "e54ba09a-0491-427f-b078-506e06e84713",
   "metadata": {},
   "outputs": [
    {
     "data": {
      "text/plain": [
       "0.14999947425284368"
      ]
     },
     "execution_count": 8,
     "metadata": {},
     "output_type": "execute_result"
    }
   ],
   "source": [
    "gprime(1,rho,0.02081955) / g(1,rho,0.02081955)"
   ]
  },
  {
   "cell_type": "code",
   "execution_count": null,
   "id": "61914931-20df-44c0-9c85-8674057ebcbf",
   "metadata": {},
   "outputs": [],
   "source": []
  }
 ],
 "metadata": {
  "kernelspec": {
   "display_name": "Python 3 (ipykernel)",
   "language": "python",
   "name": "python3"
  },
  "language_info": {
   "codemirror_mode": {
    "name": "ipython",
    "version": 3
   },
   "file_extension": ".py",
   "mimetype": "text/x-python",
   "name": "python",
   "nbconvert_exporter": "python",
   "pygments_lexer": "ipython3",
   "version": "3.9.5"
  }
 },
 "nbformat": 4,
 "nbformat_minor": 5
}
