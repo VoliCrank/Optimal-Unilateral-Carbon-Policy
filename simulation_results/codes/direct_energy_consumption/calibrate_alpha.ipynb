{
 "cells": [
  {
   "cell_type": "code",
   "execution_count": 2,
   "id": "f9b45ca1-ad18-413d-a98e-147f01719a45",
   "metadata": {},
   "outputs": [],
   "source": [
    "from sympy import *\n",
    "import numpy as np\n",
    "x,a = symbols('x a')"
   ]
  },
  {
   "cell_type": "code",
   "execution_count": 5,
   "id": "639f3f56-79b8-4873-ba4d-fee9731cdb53",
   "metadata": {},
   "outputs": [],
   "source": [
    "rho = 0.5\n",
    "## define CES production function and its derivative\n",
    "def g(p, rho = rho, alpha = 0.15):\n",
    "    if rho == 0:\n",
    "        return alpha**(-alpha) * (1-alpha)**(-(1-alpha)) * p**alpha\n",
    "    else:\n",
    "        t1 = (1-alpha)**(1/(1-rho))\n",
    "        t2 = alpha**(1/(1-rho)) * p**(-rho/(1-rho))\n",
    "        return (t1 + t2)**(-(1-rho)/rho)\n",
    "\n",
    "def gprime(p, rho, alpha):\n",
    "    if rho == 0:\n",
    "        return (alpha/(1-alpha))**(1-alpha) * p**(-(1-alpha))\n",
    "    else:\n",
    "        t1 = (1-alpha)**(1/(1-rho))\n",
    "        t2 = alpha**(1/(1-rho)) * p**(-rho/(1-rho))\n",
    "        coef = alpha **(1/(1-rho)) * p**(-rho/(1-rho) - 1)\n",
    "        return (t1 + t2)**(-(1-rho)/rho - 1) * coef"
   ]
  },
  {
   "cell_type": "code",
   "execution_count": 3,
   "id": "58ccf33e-68d4-4676-8b89-ccc1ff91a556",
   "metadata": {},
   "outputs": [
    {
     "data": {
      "text/plain": [
       "[-0.724387744895918, 0.295816316324489]"
      ]
     },
     "execution_count": 3,
     "metadata": {},
     "output_type": "execute_result"
    }
   ],
   "source": [
    "# select positive root as new value for alpha\n",
    "solve(gprime(1,rho, a) / g(1,rho, a) - 0.15 , a)"
   ]
  },
  {
   "cell_type": "code",
   "execution_count": 9,
   "id": "2d95307e-5235-4117-b9dd-7828fb6b9476",
   "metadata": {},
   "outputs": [
    {
     "name": "stdout",
     "output_type": "stream",
     "text": [
      "nan\n",
      "1.5197889182058049\n",
      "0.43113772455089816\n",
      "0.2006269592476489\n",
      "0.11556982343499199\n",
      "0.07504885993485343\n",
      "0.05263157894736842\n",
      "0.038942600229869506\n",
      "0.029975020815986683\n",
      "0.02378298030471944\n",
      "0.01932885906040269\n",
      "0.01601824299897105\n",
      "0.013490725126475542\n",
      "0.011517466157445361\n",
      "0.009947499309201437\n",
      "0.008677966101694917\n",
      "0.007636826474331778\n",
      "0.006772407143948925\n",
      "0.006046863189720334\n",
      "0.005431963711464649\n",
      "0.004906303236797275\n",
      "0.0044534131236517996\n",
      "0.0040604556733589\n",
      "0.0037173041800311066\n",
      "0.0034158838599487613\n",
      "0.0031496924128503073\n",
      "0.0029134463642617246\n",
      "0.0027028168419274464\n",
      "0.0025142298425114367\n",
      "0.002344713607073219\n",
      "0.0021917808219178085\n",
      "0.0020533368506233094\n",
      "0.001927607624759049\n",
      "0.0018130825235842373\n",
      "0.001708468784851577\n",
      "0.0016126548610625045\n",
      "0.0015246807699637892\n",
      "0.0014437139541470434\n",
      "0.0013690295101916642\n",
      "0.001299993906278564\n",
      "0.001236051502145923\n",
      "0.0011767133334286688\n",
      "0.0011215477358755084\n",
      "0.001070172472414261\n",
      "0.0010222480939332417\n",
      "0.0009774723176785034\n",
      "0.0009355752488370279\n",
      "0.0008963153038057609\n",
      "0.000859475719810915\n",
      "0.0008248615564392903\n",
      "0.0007922971114167814\n",
      "0.0007616236864966499\n",
      "0.0007326976502793409\n",
      "0.0007053887537029846\n",
      "0.0006795786612300374\n",
      "0.0006551596667330168\n",
      "0.0006320335680050561\n",
      "0.0006101106778901611\n",
      "0.0005893089534036684\n",
      "0.0005695532270233232\n",
      "0.0005507745266781411\n",
      "0.0005329094729284764\n",
      "0.0005158997434831832\n",
      "0.0004996915965927278\n",
      "0.0004842354460346497\n",
      "0.0004694854814060112\n",
      "0.00045539932828599083\n",
      "0.00044193774355488275\n",
      "0.0004290643417735852\n",
      "0.00041674534905678813\n",
      "0.00040494938132733406\n",
      "0.00039364724423009514\n",
      "0.0003828117523207963\n",
      "0.00037241756543654643\n",
      "0.00036244104040714206\n",
      "0.00035286009648518267\n",
      "0.00034365409306343753\n",
      "0.0003348037184137977\n",
      "0.0003262908883269434\n",
      "0.0003180986536584935\n",
      "0.00031021111589831977\n",
      "0.0003026133499770677\n",
      "0.0002952913336094855\n",
      "0.00028823188254951113\n",
      "0.0002814225911985085\n",
      "0.0002748517780667327\n",
      "0.0002685084356400197\n",
      "0.00026238218424968937\n",
      "0.00025646322958445834\n",
      "0.0002507423235194123\n",
      "0.0002452107279693487\n",
      "0.00023986018150253254\n",
      "0.00023468286847654963\n",
      "0.00022967139048083856\n",
      "0.00022481873989096295\n",
      "0.00022011827535802663\n",
      "0.000215563699073076\n",
      "0.0002111490356610926\n",
      "0.0002068686125724399\n",
      "0.0002027170418515668\n"
     ]
    },
    {
     "name": "stderr",
     "output_type": "stream",
     "text": [
      "/var/folders/9j/krll5bd51gg0w1t7kc1n3jdr0000gn/T/ipykernel_51162/3438626552.py:16: RuntimeWarning: divide by zero encountered in double_scalars\n",
      "  t2 = alpha**(1/(1-rho)) * p**(-rho/(1-rho))\n",
      "/var/folders/9j/krll5bd51gg0w1t7kc1n3jdr0000gn/T/ipykernel_51162/3438626552.py:17: RuntimeWarning: divide by zero encountered in double_scalars\n",
      "  coef = alpha **(1/(1-rho)) * p**(-rho/(1-rho) - 1)\n",
      "/var/folders/9j/krll5bd51gg0w1t7kc1n3jdr0000gn/T/ipykernel_51162/3438626552.py:18: RuntimeWarning: invalid value encountered in double_scalars\n",
      "  return (t1 + t2)**(-(1-rho)/rho - 1) * coef\n",
      "/var/folders/9j/krll5bd51gg0w1t7kc1n3jdr0000gn/T/ipykernel_51162/3438626552.py:8: RuntimeWarning: divide by zero encountered in double_scalars\n",
      "  t2 = alpha**(1/(1-rho)) * p**(-rho/(1-rho))\n"
     ]
    }
   ],
   "source": [
    "theta = 4\n",
    "jxbar_prime = 0.2\n",
    "for pe in np.arange(0,10,0.1):\n",
    "    print(theta * gprime(pe, rho, 0.15) / g(pe) * jxbar_prime * (1 - jxbar_prime))"
   ]
  },
  {
   "cell_type": "code",
   "execution_count": null,
   "id": "d8a51aeb-aef5-4a7e-a979-73edc210d232",
   "metadata": {},
   "outputs": [],
   "source": []
  }
 ],
 "metadata": {
  "kernelspec": {
   "display_name": "Python 3 (ipykernel)",
   "language": "python",
   "name": "python3"
  },
  "language_info": {
   "codemirror_mode": {
    "name": "ipython",
    "version": 3
   },
   "file_extension": ".py",
   "mimetype": "text/x-python",
   "name": "python",
   "nbconvert_exporter": "python",
   "pygments_lexer": "ipython3",
   "version": "3.9.9"
  }
 },
 "nbformat": 4,
 "nbformat_minor": 5
}
