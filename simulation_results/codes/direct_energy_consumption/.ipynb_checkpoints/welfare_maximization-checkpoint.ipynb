{
 "cells": [
  {
   "cell_type": "code",
   "execution_count": 1,
   "id": "a9a437ab-47da-47fb-afea-f0baacedb892",
   "metadata": {},
   "outputs": [],
   "source": [
    "import math\n",
    "import numpy as np\n",
    "import pandas as pd\n",
    "from oucp_utils import *\n",
    "from scipy.optimize import fsolve\n",
    "from scipy.optimize import minimize\n",
    "import warnings\n",
    "warnings.filterwarnings('ignore')"
   ]
  },
  {
   "cell_type": "code",
   "execution_count": 2,
   "id": "b6027d02-8dd8-499d-9bcf-5cacfeba6806",
   "metadata": {},
   "outputs": [],
   "source": [
    "# carbon content per unit of energy\n",
    "h1 = 1\n",
    "\n",
    "# elasticity parameters\n",
    "sigma = 1\n",
    "sigmaE = 1\n",
    "theta = 4\n",
    "rho = 0\n",
    "alpha = 0.15\n",
    "\n",
    "scenario = 'opt'\n",
    "\n",
    "# elasticity of supply of renewables\n",
    "epsilonSstar1 = 0.5\n",
    "epsilonS1 = 0.5\n",
    "\n",
    "# baseline, no renewable energy\n",
    "epsilonSvec = [(epsilonS1, h1, 1)]\n",
    "epsilonSstarvec = [(epsilonSstar1, h1, 1)]\n",
    "assert(sum(k for i,j,k in epsilonSvec) == 1)\n",
    "assert(sum(k for i,j,k in epsilonSstarvec) == 1)\n",
    "\n",
    "\n",
    "data = pd.read_excel(\"../../raw_data/baselinecarbon_direct_2018.xlsx\")\n",
    "data = pd.read_csv(\"../../raw_data/BaselineCarbon_2015.csv\")\n",
    "#data['Cey'] = data['Cey'] + data['Ced']\n",
    "#data['Ceystar'] = data['Ceystar'] + data['Cedstar']\n",
    "#data['Ced'] = 0\n",
    "#data['Cedstar'] = 0\n",
    "data['jxbar']=data['Cex']/(data['Cex'] + data['Ceystar'])\n",
    "data['jmbar']=data['Cey']/(data['Cey'] + data['Cem'])\n",
    "\n",
    "if scenario == 'constrained':\n",
    "    data = data[(data['region_scenario'] == 3)] \n",
    "    tax_scenario= ['purete','puretc','puretp','EC_hybrid','EP_hybrid','PC_hybrid','EPC_hybrid']\n",
    "elif scenario == 'global':\n",
    "    data = data[(data['region_scenario'] == 3)] \n",
    "    tax_scenario= ['global']\n",
    "elif scenario == 'opt':\n",
    "    data = data[data['region_scenario'] != 4]\n",
    "    tax_scenario= ['Unilateral']\n",
    "#tax_scenario = ['Unilateral']\n",
    "data = data[(data['region_scenario'] == 3)]\n",
    "tax_scenario = ['EPC_hybrid']"
   ]
  },
  {
   "cell_type": "code",
   "execution_count": 3,
   "id": "6be9e82e-8a00-4a3f-a88d-026ebd4df305",
   "metadata": {},
   "outputs": [],
   "source": [
    "def max_welfare(p, phi, tax, region_data):\n",
    "    return -model.comp_welfare(p, phi, tax,region_data)"
   ]
  },
  {
   "cell_type": "code",
   "execution_count": 4,
   "id": "4020cd2a-6ed3-4983-99d8-2971036b01a5",
   "metadata": {},
   "outputs": [],
   "source": [
    "phi_list = np.arange(0,2,0.1)\n",
    "model_parameters = (theta, sigma, sigmaE, epsilonSvec, epsilonSstarvec, rho, alpha)\n",
    "model = taxModel(data, tax_scenario, phi_list, model_parameters)"
   ]
  },
  {
   "cell_type": "code",
   "execution_count": 22,
   "id": "d8b37639-8cfc-4a62-a46f-bd1a558971d4",
   "metadata": {},
   "outputs": [],
   "source": [
    "index, region_data = next(model.data.iterrows())\n",
    "tax = 'PC_hybrid'\n",
    "phi = 9.9"
   ]
  },
  {
   "cell_type": "code",
   "execution_count": 16,
   "id": "ca8da75b-1063-4927-9614-5a6988b79627",
   "metadata": {},
   "outputs": [
    {
     "data": {
      "text/plain": [
       " final_simplex: (array([[3.57213726, 0.        ],\n",
       "       [3.57213726, 0.        ],\n",
       "       [3.57213726, 0.        ]]), array([-35.02207126, -35.02207126, -35.02207126]))\n",
       "           fun: -35.02207126095468\n",
       "       message: 'Optimization terminated successfully.'\n",
       "          nfev: 125\n",
       "           nit: 65\n",
       "        status: 0\n",
       "       success: True\n",
       "             x: array([3.57213726, 0.        ])"
      ]
     },
     "execution_count": 16,
     "metadata": {},
     "output_type": "execute_result"
    }
   ],
   "source": [
    "res = minimize(max_welfare, [1, 0], args = (phi, tax, region_data), method='nelder-mead', tol=1e-10, options={'maxfev': 1000}, bounds = [(0.01,np.inf), (0, 0)])\n",
    "res"
   ]
  },
  {
   "cell_type": "code",
   "execution_count": 23,
   "id": "819fc2fe-77b9-4521-a93a-00769cc84e0a",
   "metadata": {},
   "outputs": [
    {
     "data": {
      "text/plain": [
       " barrier_parameter: 3.276800000000003e-12\n",
       " barrier_tolerance: 3.276800000000003e-12\n",
       "          cg_niter: 225\n",
       "      cg_stop_cond: 2\n",
       "            constr: [array([3.5817335 , 0.77230867])]\n",
       "       constr_nfev: [0]\n",
       "       constr_nhev: [0]\n",
       "       constr_njev: [0]\n",
       "    constr_penalty: 1.0\n",
       "  constr_violation: 0.0\n",
       "    execution_time: 43.392499685287476\n",
       "               fun: -36.38994086659706\n",
       "              grad: array([1.73069355e-06, 1.23977661e-05])\n",
       "               jac: [<2x2 sparse matrix of type '<class 'numpy.float64'>'\n",
       "\twith 2 stored elements in Compressed Sparse Row format>]\n",
       "   lagrangian_grad: array([1.60489069e-06, 5.64422010e-07])\n",
       "           message: '`xtol` termination condition is satisfied.'\n",
       "            method: 'tr_interior_point'\n",
       "              nfev: 456\n",
       "              nhev: 0\n",
       "               nit: 141\n",
       "             niter: 141\n",
       "              njev: 152\n",
       "        optimality: 1.6048906857409015e-06\n",
       "            status: 2\n",
       "           success: True\n",
       "         tr_radius: 1.0000000000000006e-12\n",
       "                 v: [array([-1.25802864e-07, -1.18333441e-05])]\n",
       "                 x: array([3.5817335 , 0.77230867])"
      ]
     },
     "execution_count": 23,
     "metadata": {},
     "output_type": "execute_result"
    }
   ],
   "source": [
    "res = minimize(max_welfare, [1, 0], args = (phi, tax, region_data), method='trust-constr', tol=1e-11, bounds = [(0.01,np.inf), (0, 1)])\n",
    "res"
   ]
  },
  {
   "cell_type": "code",
   "execution_count": 24,
   "id": "8a1a1e47-bc22-428c-b535-69f901c814e2",
   "metadata": {},
   "outputs": [
    {
     "data": {
      "text/plain": [
       "0.7399307759860462"
      ]
     },
     "execution_count": 24,
     "metadata": {},
     "output_type": "execute_result"
    }
   ],
   "source": [
    "pe = fsolve(model.comp_cons_eq, [1], args = (2, res.x, phi, tax, region_data))[0]\n",
    "pe"
   ]
  },
  {
   "cell_type": "code",
   "execution_count": 25,
   "id": "64bbbdd3-141b-4c23-b959-b4a020711e75",
   "metadata": {},
   "outputs": [
    {
     "data": {
      "text/plain": [
       "36.38994086659706"
      ]
     },
     "execution_count": 25,
     "metadata": {},
     "output_type": "execute_result"
    }
   ],
   "source": [
    "arr = [pe, res.x[0], res.x[1]]\n",
    "model.comp_all(pe, 2, arr[1:3], phi, tax, region_data)['welfare']"
   ]
  },
  {
   "cell_type": "code",
   "execution_count": 26,
   "id": "5e2a9263-550a-44e8-85c9-fee67c49294d",
   "metadata": {},
   "outputs": [
    {
     "data": {
      "text/plain": [
       "(-7.105427357601002e-13, 7.43483940368606e-6, 1.05814453519315e-5)"
      ]
     },
     "execution_count": 26,
     "metadata": {},
     "output_type": "execute_result"
    }
   ],
   "source": [
    "model.comp_obj(arr[0], 2, arr[1:3], phi, tax, region_data)"
   ]
  },
  {
   "cell_type": "code",
   "execution_count": 11,
   "id": "3187a031-2df7-4b38-9a20-35e2ded63b30",
   "metadata": {},
   "outputs": [
    {
     "data": {
      "text/plain": [
       "(0.8793545784443226, 3.6839741177666023, 0, 9.9, 1)"
      ]
     },
     "execution_count": 11,
     "metadata": {},
     "output_type": "execute_result"
    }
   ],
   "source": [
    "res_foc = model.solveOne(phi, tax, region_data, 1,0,0,0)\n",
    "res_foc"
   ]
  },
  {
   "cell_type": "code",
   "execution_count": 12,
   "id": "e2fc7b6f-3184-4a3a-b014-e1d5d61a96b1",
   "metadata": {},
   "outputs": [
    {
     "data": {
      "text/plain": [
       "1.2206121224878075e-08"
      ]
     },
     "execution_count": 12,
     "metadata": {},
     "output_type": "execute_result"
    }
   ],
   "source": [
    "pe - res_foc[0]"
   ]
  },
  {
   "cell_type": "code",
   "execution_count": 13,
   "id": "363f2e5f-685e-47d7-8100-4571db42cf75",
   "metadata": {},
   "outputs": [
    {
     "data": {
      "text/plain": [
       "-3.276121587347802e-07"
      ]
     },
     "execution_count": 13,
     "metadata": {},
     "output_type": "execute_result"
    }
   ],
   "source": [
    "res.x[0] - res_foc[1]"
   ]
  },
  {
   "cell_type": "code",
   "execution_count": 14,
   "id": "3a8b7503-f342-43a2-b8a9-2829b52f1245",
   "metadata": {},
   "outputs": [
    {
     "data": {
      "text/plain": [
       "(1.7763568394002505e-12, -2.52953213930596e-12, 0)"
      ]
     },
     "execution_count": 14,
     "metadata": {},
     "output_type": "execute_result"
    }
   ],
   "source": [
    "model.comp_obj(res_foc[0], 2, [res_foc[1],0], phi, tax, region_data)"
   ]
  },
  {
   "cell_type": "code",
   "execution_count": 14,
   "id": "35c9314d-faed-4363-800a-edd2b5278c22",
   "metadata": {},
   "outputs": [
    {
     "data": {
      "text/plain": [
       "87.90613059476104"
      ]
     },
     "execution_count": 14,
     "metadata": {},
     "output_type": "execute_result"
    }
   ],
   "source": [
    "model.comp_all(res_foc[0], 2, [res_foc[1],0], phi, tax, region_data)['welfare']"
   ]
  },
  {
   "cell_type": "code",
   "execution_count": 14,
   "id": "c5a306a8-5257-433d-8a99-26f691979866",
   "metadata": {},
   "outputs": [
    {
     "data": {
      "text/plain": [
       "(-0.5452638053042485, 0.606415162319092, 0)"
      ]
     },
     "execution_count": 14,
     "metadata": {},
     "output_type": "execute_result"
    }
   ],
   "source": [
    "model.comp_obj(1.05739466576942, 2, [0.8465, 0], phi, tax, region_data)"
   ]
  },
  {
   "cell_type": "code",
   "execution_count": 16,
   "id": "1abaa094-f671-4305-996a-3e0b0588cb4c",
   "metadata": {},
   "outputs": [],
   "source": [
    "def obj_fn_te(p, phi, tax, region_data):\n",
    "    diff, diff1 = model.te_obj(p, phi, tax, region_data)\n",
    "    return abs(diff) + abs(diff1)\n",
    "\n",
    "def obj_fn(p, phi, tax, region_data):\n",
    "    diff, diff1, diff2 = model.obj_system(p, phi, tax, region_data)\n",
    "    return abs(diff) + abs(diff1) + abs(diff2)"
   ]
  },
  {
   "cell_type": "code",
   "execution_count": 21,
   "id": "69ae7a8e-5893-444c-9a08-009341f29b11",
   "metadata": {},
   "outputs": [
    {
     "name": "stdout",
     "output_type": "stream",
     "text": [
      "did not converge, tax is PC_hybrid region is OECD37 as Home phi is 2 guess is [1, 0, 2]\n",
      "converged on second try\n"
     ]
    },
    {
     "data": {
      "text/plain": [
       "(0.8566417266416129,\n",
       " 0.8158650732485632,\n",
       " 0.5275261066696807,\n",
       " 0.8158650732485632,\n",
       " 1)"
      ]
     },
     "execution_count": 21,
     "metadata": {},
     "output_type": "execute_result"
    }
   ],
   "source": [
    "model.solveOne(phi,tax,region_data, 1,0,2,1)"
   ]
  },
  {
   "cell_type": "code",
   "execution_count": 10,
   "id": "82767634-63dc-4e69-b91a-05e360598a6b",
   "metadata": {},
   "outputs": [],
   "source": [
    "init_guess = np.random.rand(1000, 2) * 10000\n",
    "result = []\n",
    "for pe, tb in init_guess:\n",
    "    #res = model.solve_obj(phi, tax, region_data, init_guess = [pe,tb, 0], verbose = False, second_try = False)\n",
    "    res = minimize(obj_fn, [pe,tb], args = (phi, tax, region_data), method='nelder-mead', tol=0.000001, options={'maxfev': 100000})\n",
    "    result.append((res.x,res.fun, (pe,tb)))"
   ]
  },
  {
   "cell_type": "code",
   "execution_count": 13,
   "id": "41d43f34-d8c0-4b81-8c8e-3bbdcd648dd4",
   "metadata": {},
   "outputs": [
    {
     "name": "stdout",
     "output_type": "stream",
     "text": [
      "(array([ 1.09860833, -0.79654207]), 26.688391712445423, (5.699311173572585, 5093.960546141944))\n"
     ]
    }
   ],
   "source": [
    "for res in result:\n",
    "    if not (np.isclose(abs(res[0]), [1.24094625,1.33333333])).all():\n",
    "        print(res)\n",
    "    #if res[1] == 1:\n",
    "    #    print(res)"
   ]
  },
  {
   "cell_type": "code",
   "execution_count": 15,
   "id": "7baa5362-dec3-40f7-abbb-cc15f2e302d5",
   "metadata": {},
   "outputs": [
    {
     "data": {
      "text/plain": [
       "(array([1.24094625, 1.33333333]),\n",
       " {'nfev': 10,\n",
       "  'fjac': array([[-0.92146996,  0.38844962],\n",
       "         [-0.38844962, -0.92146996]]),\n",
       "  'r': array([-44.30783921, -21.44420869,  30.04099335]),\n",
       "  'qtf': array([7.19505380e-08, 9.34561708e-08]),\n",
       "  'fvec': array([-7.13491488e-11, -4.09308143e-11])},\n",
       " 1,\n",
       " 'The solution converged.')"
      ]
     },
     "execution_count": 15,
     "metadata": {},
     "output_type": "execute_result"
    }
   ],
   "source": [
    "#model.solve_obj(2, tax, region_data, init_guess = [1,0,0], verbose = False)\n",
    "fsolve(model.te_obj, [1,2], args = (phi, tax, region_data), full_output = True, maxfev = 100000)"
   ]
  },
  {
   "cell_type": "code",
   "execution_count": null,
   "id": "773efc1e-eda8-4db3-bfc4-e578c025a024",
   "metadata": {},
   "outputs": [],
   "source": []
  }
 ],
 "metadata": {
  "kernelspec": {
   "display_name": "Python 3 (ipykernel)",
   "language": "python",
   "name": "python3"
  },
  "language_info": {
   "codemirror_mode": {
    "name": "ipython",
    "version": 3
   },
   "file_extension": ".py",
   "mimetype": "text/x-python",
   "name": "python",
   "nbconvert_exporter": "python",
   "pygments_lexer": "ipython3",
   "version": "3.9.5"
  }
 },
 "nbformat": 4,
 "nbformat_minor": 5
}
