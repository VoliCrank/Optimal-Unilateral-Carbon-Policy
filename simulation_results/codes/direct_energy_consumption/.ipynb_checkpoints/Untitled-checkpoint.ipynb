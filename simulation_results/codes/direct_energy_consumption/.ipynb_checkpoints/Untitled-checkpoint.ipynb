{
 "cells": [
  {
   "cell_type": "code",
   "execution_count": 23,
   "id": "f8fb627b-b28a-41d0-a882-4d42ece703d6",
   "metadata": {},
   "outputs": [],
   "source": [
    "from sympy import *"
   ]
  },
  {
   "cell_type": "code",
   "execution_count": 24,
   "id": "c638aca3-c595-4ef9-a738-503ed407d442",
   "metadata": {},
   "outputs": [],
   "source": [
    "cex, cey, cem, ceystar, jxbar, jmbar, alpha_n, jxbar0, jmbar0 = symbols('C_e^x C_e^y C_e^m C_e^{y*} j_x j_m alpha_n, j_x^0, j_m^0')"
   ]
  },
  {
   "cell_type": "code",
   "execution_count": 25,
   "id": "06f2c999-34e3-4792-8b2c-1cc6e693f44e",
   "metadata": {},
   "outputs": [
    {
     "data": {
      "text/latex": [
       "$\\displaystyle C_e^{y*}$"
      ],
      "text/plain": [
       "C_e^{y*}"
      ]
     },
     "execution_count": 25,
     "metadata": {},
     "output_type": "execute_result"
    }
   ],
   "source": [
    "ceystar"
   ]
  },
  {
   "cell_type": "code",
   "execution_count": 26,
   "id": "1507230c-5684-4ad6-837d-99d187921ce9",
   "metadata": {},
   "outputs": [
    {
     "data": {
      "text/latex": [
       "$\\displaystyle - \\frac{C^{x}_{e}}{C^{x}_{e} + \\frac{C_e^{y*}}{- \\alpha_{n} \\left(- \\frac{1 - j_{m}}{1 - j_{x}} + 1\\right) + 1}} + j_{x}$"
      ],
      "text/plain": [
       "-C_e^x/(C_e^x + C_e^{y*}/(-alpha_n*(-(1 - j_m)/(1 - j_x) + 1) + 1)) + j_x"
      ]
     },
     "execution_count": 26,
     "metadata": {},
     "output_type": "execute_result"
    }
   ],
   "source": [
    "expr1 = jxbar - cex / (cex + ceystar / (1- alpha_n * (1- (1-jmbar) / (1-jxbar))))\n",
    "expr1"
   ]
  },
  {
   "cell_type": "code",
   "execution_count": 27,
   "id": "578d715a-e3f0-4fa0-9c46-80cbbae776f4",
   "metadata": {},
   "outputs": [
    {
     "data": {
      "text/latex": [
       "$\\displaystyle - \\frac{C^{y}_{e}}{C^{m}_{e} \\left(- \\alpha_{n} \\left(1 - \\frac{j_{x}}{j_{m}}\\right) + 1\\right) + C^{y}_{e}} + j_{m}$"
      ],
      "text/plain": [
       "-C_e^y/(C_e^m*(-alpha_n*(1 - j_x/j_m) + 1) + C_e^y) + j_m"
      ]
     },
     "execution_count": 27,
     "metadata": {},
     "output_type": "execute_result"
    }
   ],
   "source": [
    "expr2 = jmbar - cey / (cey + (1-alpha_n * (1- jxbar/ jmbar)) * cem)\n",
    "expr2"
   ]
  },
  {
   "cell_type": "code",
   "execution_count": 28,
   "id": "62a99834-e553-4ac1-8e83-87b67aa06212",
   "metadata": {},
   "outputs": [],
   "source": [
    "sol = solve((expr1, expr2),(jxbar, jmbar))"
   ]
  },
  {
   "cell_type": "code",
   "execution_count": 29,
   "id": "0abec07a-7236-4c18-89b2-d32f4457c041",
   "metadata": {},
   "outputs": [
    {
     "data": {
      "text/latex": [
       "$\\displaystyle \\frac{C^{x}_{e} \\left(C^{m}_{e} + C^{y}_{e}\\right) \\left(\\alpha_{n} - 1\\right)}{2 C^{m}_{e} C^{x}_{e} \\alpha_{n} - C^{m}_{e} C^{x}_{e} + C^{m}_{e} C_e^{y*} \\alpha_{n} - C^{m}_{e} C_e^{y*} + C^{x}_{e} C^{y}_{e} \\alpha_{n} - C^{x}_{e} C^{y}_{e} - C^{y}_{e} C_e^{y*}}$"
      ],
      "text/plain": [
       "C_e^x*(C_e^m + C_e^y)*(alpha_n - 1)/(2*C_e^m*C_e^x*alpha_n - C_e^m*C_e^x + C_e^m*C_e^{y*}*alpha_n - C_e^m*C_e^{y*} + C_e^x*C_e^y*alpha_n - C_e^x*C_e^y - C_e^y*C_e^{y*})"
      ]
     },
     "execution_count": 29,
     "metadata": {},
     "output_type": "execute_result"
    }
   ],
   "source": [
    "factor(sol[0][0])"
   ]
  },
  {
   "cell_type": "code",
   "execution_count": 30,
   "id": "d971e6a5-e09d-4a57-8900-28cfaccf678f",
   "metadata": {},
   "outputs": [
    {
     "data": {
      "text/latex": [
       "$\\displaystyle \\frac{C^{m}_{e} C^{x}_{e} \\alpha_{n} + C^{x}_{e} C^{y}_{e} \\alpha_{n} - C^{x}_{e} C^{y}_{e} - C^{y}_{e} C_e^{y*}}{2 C^{m}_{e} C^{x}_{e} \\alpha_{n} - C^{m}_{e} C^{x}_{e} + C^{m}_{e} C_e^{y*} \\alpha_{n} - C^{m}_{e} C_e^{y*} + C^{x}_{e} C^{y}_{e} \\alpha_{n} - C^{x}_{e} C^{y}_{e} - C^{y}_{e} C_e^{y*}}$"
      ],
      "text/plain": [
       "(C_e^m*C_e^x*alpha_n + C_e^x*C_e^y*alpha_n - C_e^x*C_e^y - C_e^y*C_e^{y*})/(2*C_e^m*C_e^x*alpha_n - C_e^m*C_e^x + C_e^m*C_e^{y*}*alpha_n - C_e^m*C_e^{y*} + C_e^x*C_e^y*alpha_n - C_e^x*C_e^y - C_e^y*C_e^{y*})"
      ]
     },
     "execution_count": 30,
     "metadata": {},
     "output_type": "execute_result"
    }
   ],
   "source": [
    "factor(sol[0][1])"
   ]
  },
  {
   "cell_type": "code",
   "execution_count": 31,
   "id": "e0341d1f-9ad4-47c0-8c7f-5503bfb1e2e9",
   "metadata": {},
   "outputs": [
    {
     "data": {
      "text/latex": [
       "$\\displaystyle 0.0336375286869205$"
      ],
      "text/plain": [
       "0.0336375286869205"
      ]
     },
     "execution_count": 31,
     "metadata": {},
     "output_type": "execute_result"
    }
   ],
   "source": [
    "factor(sol[0][0]).subs([(cey, 8.7523), (cex, 1.0261), (cem, 2.4744), (ceystar, 16.6918), (alpha_n, 0.5)])"
   ]
  },
  {
   "cell_type": "code",
   "execution_count": 32,
   "id": "7ad465e9-ffd9-4316-8821-d3816e54528d",
   "metadata": {},
   "outputs": [
    {
     "data": {
      "text/latex": [
       "$\\displaystyle 0.871983948096355$"
      ],
      "text/plain": [
       "0.871983948096355"
      ]
     },
     "execution_count": 32,
     "metadata": {},
     "output_type": "execute_result"
    }
   ],
   "source": [
    "factor(sol[0][1]).subs([(cey, 8.7523), (cex, 1.0261), (cem, 2.4744), (ceystar, 16.6918), (alpha_n, 0.5)])"
   ]
  },
  {
   "cell_type": "code",
   "execution_count": 33,
   "id": "020b7a13-9d9e-4362-8a06-3226c3a4894f",
   "metadata": {},
   "outputs": [],
   "source": [
    "jxbar_temp = cex / (cex + ceystar)\n",
    "jmbar_temp = cey / (cey + cem)"
   ]
  },
  {
   "cell_type": "code",
   "execution_count": 34,
   "id": "72ece877-acb0-46bb-a617-7efb05dd4d70",
   "metadata": {},
   "outputs": [
    {
     "data": {
      "text/latex": [
       "$\\displaystyle 0.0336375286869205$"
      ],
      "text/plain": [
       "0.0336375286869205"
      ]
     },
     "execution_count": 34,
     "metadata": {},
     "output_type": "execute_result"
    }
   ],
   "source": [
    "expr3 = jxbar_temp / (1+ alpha_n / (1-alpha_n) * (jmbar_temp - jxbar_temp))\n",
    "expr3.subs([(cey, 8.7523), (cex, 1.0261), (cem, 2.4744), (ceystar, 16.6918), (alpha_n, 0.5)])"
   ]
  },
  {
   "cell_type": "code",
   "execution_count": 35,
   "id": "38785359-6607-4699-842f-582c3ffd9af6",
   "metadata": {},
   "outputs": [
    {
     "data": {
      "text/latex": [
       "$\\displaystyle 0.871983948096355$"
      ],
      "text/plain": [
       "0.871983948096355"
      ]
     },
     "execution_count": 35,
     "metadata": {},
     "output_type": "execute_result"
    }
   ],
   "source": [
    "expr4 = (jmbar_temp - alpha_n * jxbar_temp) / (1-alpha_n * (jxbar_temp + 1 - jmbar_temp))\n",
    "expr4.subs([(cey, 8.7523), (cex, 1.0261), (cem, 2.4744), (ceystar, 16.6918), (alpha_n, 0.5)])"
   ]
  },
  {
   "cell_type": "code",
   "execution_count": 43,
   "id": "f3fcf1b3-5d45-473a-9147-b9697e7697f3",
   "metadata": {},
   "outputs": [],
   "source": [
    "eq1 = jxbar0 - jxbar / (1+ alpha_n / (1-alpha_n) * (jmbar - jxbar))\n",
    "eq2 = jmbar0 -  (jmbar - alpha_n * jxbar) / (1-alpha_n * (jxbar + 1 - jmbar))\n",
    "sol = solve((eq1, eq2),(jxbar, jmbar))"
   ]
  },
  {
   "cell_type": "code",
   "execution_count": 44,
   "id": "ac1e0ed2-3208-489c-bffd-2454529c78c9",
   "metadata": {},
   "outputs": [
    {
     "data": {
      "text/latex": [
       "$\\displaystyle \\left\\{ j_{m} : \\frac{\\alpha_{n} j^{0}_{m} - \\alpha_{n} j^{0}_{x} - j^{0}_{m}}{\\alpha_{n} j^{0}_{m} - \\alpha_{n} j^{0}_{x} - 1}, \\  j_{x} : - \\frac{j^{0}_{x}}{\\alpha_{n} j^{0}_{m} - \\alpha_{n} j^{0}_{x} - 1}\\right\\}$"
      ],
      "text/plain": [
       "{j_m: (alpha_n*j_m^0 - alpha_n*j_x^0 - j_m^0)/(alpha_n*j_m^0 - alpha_n*j_x^0 - 1), j_x: -j_x^0/(alpha_n*j_m^0 - alpha_n*j_x^0 - 1)}"
      ]
     },
     "execution_count": 44,
     "metadata": {},
     "output_type": "execute_result"
    }
   ],
   "source": [
    "factor(sol)"
   ]
  },
  {
   "cell_type": "code",
   "execution_count": null,
   "id": "736fb18f-7ddb-4a7d-b3a9-bfe07e3b4c48",
   "metadata": {},
   "outputs": [],
   "source": []
  }
 ],
 "metadata": {
  "kernelspec": {
   "display_name": "Python 3 (ipykernel)",
   "language": "python",
   "name": "python3"
  },
  "language_info": {
   "codemirror_mode": {
    "name": "ipython",
    "version": 3
   },
   "file_extension": ".py",
   "mimetype": "text/x-python",
   "name": "python",
   "nbconvert_exporter": "python",
   "pygments_lexer": "ipython3",
   "version": "3.9.5"
  }
 },
 "nbformat": 4,
 "nbformat_minor": 5
}
