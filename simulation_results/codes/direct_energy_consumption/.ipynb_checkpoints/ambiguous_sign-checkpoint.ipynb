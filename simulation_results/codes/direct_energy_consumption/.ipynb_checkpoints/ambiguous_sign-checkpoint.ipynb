{
 "cells": [
  {
   "cell_type": "code",
   "execution_count": 19,
   "id": "1f9fcccf-d2b4-4290-b881-1ade4e69c1c7",
   "metadata": {},
   "outputs": [],
   "source": [
    "import math\n",
    "import numpy as np\n",
    "import pandas as pd\n",
    "from oucp_utils import *\n",
    "from scipy.optimize import fsolve\n",
    "from scipy.optimize import minimize\n",
    "import warnings\n",
    "warnings.filterwarnings('ignore')\n",
    "x = symbols('x')\n",
    "import matplotlib.pyplot as plt"
   ]
  },
  {
   "cell_type": "code",
   "execution_count": 92,
   "id": "e42328c7-7d77-404b-9cbb-12ddbd9a02c3",
   "metadata": {},
   "outputs": [],
   "source": [
    "rho = 0\n",
    "alpha = 0.15\n",
    "sigma = 1\n",
    "theta = 4\n",
    "sigmatilde = (sigma - 1) / theta\n",
    "Cey = 10\n",
    "Cem = 4\n",
    "Cex = 5\n",
    "Ceystar = 3\n",
    "pe = 1.1\n",
    "ve = pe + 0.2\n",
    "jxbar = Cex / (Cex + Ceystar)\n",
    "jmbar = Cey / (Cey + Cem)"
   ]
  },
  {
   "cell_type": "code",
   "execution_count": 93,
   "id": "5abfa855-6ffd-4cc0-a483-2ead587bcb63",
   "metadata": {
    "tags": []
   },
   "outputs": [],
   "source": [
    "def A(j):\n",
    "    return ((1-j)/j)**(1/theta)\n",
    "\n",
    "# define CES production function and its derivative\n",
    "def g(p):\n",
    "    if rho == 0:\n",
    "        return alpha ** (-alpha) * (1 - alpha) ** (-(1 - alpha)) * p ** alpha\n",
    "    else:\n",
    "        t1 = (1 - alpha) ** (1 / (1 - rho))\n",
    "        t2 = alpha ** (1 / (1 - rho)) * p ** (-rho / (1 - rho))\n",
    "        return (t1 + t2) ** (-(1 - rho) / rho)\n",
    "\n",
    "def gprime(p):\n",
    "    if rho == 0:\n",
    "        return (alpha / (1 - alpha)) ** (1 - alpha) * p ** (-(1 - alpha))\n",
    "    else:\n",
    "        t1 = (1 - alpha) ** (1 / (1 - rho))\n",
    "        t2 = alpha ** (1 / (1 - rho)) * p ** (-rho / (1 - rho))\n",
    "        coef = alpha ** (1 / (1 - rho)) * p ** (-rho / (1 - rho) - 1)\n",
    "        return (t1 + t2) ** (-(1 - rho) / rho - 1) * coef\n",
    "\n",
    "# D(p, sigmastar) corresponds to D(p) in paper\n",
    "def D(p):\n",
    "    return gprime(p) * g(p) ** (-sigma)\n",
    "\n",
    "def Dprime(p):\n",
    "    x = symbols('x')\n",
    "    return diff(D(x), x).subs(x, p)\n",
    "\n",
    "def Cex_prime(pe, ve):\n",
    "    return D(ve) / D(1) * (jxbar_prime(pe, ve, theta) / jxbar) ** (1-sigmatilde) * Cex\n",
    "\n",
    "def Ceystar_prime(pe,ve):\n",
    "    return D(pe) / D(1) * ((1-jxbar_prime(pe, ve)) / (1-jxbar)) ** (1-sigmatilde) * Ceystar\n",
    "\n",
    "def Cey_prime(pe,ve):\n",
    "    return D(ve) / D(1) * Cey * (jmbar_prime(pe,ve) / jmbar)**(1-sigmatilde)\n",
    "\n",
    "def Cem_prime(pe,ve):\n",
    "    return D(ve) / D(1) * Cem * ((1-jmbar_prime(pe,ve)) / (1-jmbar))**(1-sigmatilde)\n",
    "\n",
    "def Cestar_prime(pe,ve):\n",
    "    return Ceystar_prime(pe,ve) + Cex_prime(pe,ve)\n",
    "\n",
    "def Ge_prime(pe,ve):\n",
    "    return Cey_prime(pe,ve) + Cex_prime(pe,ve)\n",
    "\n",
    "def Gestar_prime(pe,ve):\n",
    "    return Cem_prime(pe,ve) + Ceystar_prime(pe,ve)\n",
    "\n",
    "def jmbar_prime(pe,ve):\n",
    "    return g(ve)**(-theta) * Cey / (g(ve)**(-theta) * Cey + g(pe)**(-theta) * Cem)\n",
    "\n",
    "def jxbar_prime(pe, ve, theta = theta):\n",
    "    return g(ve)**(-theta) * Cex / (g(ve)**(-theta) * Cex + g(pe)**(-theta) * Ceystar)\n",
    "\n",
    "def jxbar_prime_deriv(pe,ve):\n",
    "    return -Cex / (Cex + (g(pe)/g(ve))**(-theta) * Ceystar)**2 * (-theta) * (g(pe) / g(ve))**(-theta - 1) * (gprime(pe) * g(ve) - gprime(ve) * g(pe)) / (g(ve))**2\n",
    "\n",
    "def f(x):\n",
    "    return x * jxbar_prime(pe,ve, x) * (1-jxbar_prime(pe,ve, x)) * (gprime(pe)/g(pe) - gprime(ve) / g(ve))"
   ]
  },
  {
   "cell_type": "code",
   "execution_count": 115,
   "id": "70964830-ec72-47a0-9dac-a679745dca1f",
   "metadata": {},
   "outputs": [
    {
     "data": {
      "text/plain": [
       "[<matplotlib.lines.Line2D at 0x27812637b80>]"
      ]
     },
     "execution_count": 115,
     "metadata": {},
     "output_type": "execute_result"
    },
    {
     "data": {
      "image/png": "[encoded data removed]",
      "text/plain": [
       "<Figure size 432x288 with 1 Axes>"
      ]
     },
     "metadata": {
      "needs_background": "light"
     },
     "output_type": "display_data"
    }
   ],
   "source": [
    "pes = np.arange(0,100,1)\n",
    "plt.plot(pes, g(pes))"
   ]
  },
  {
   "cell_type": "code",
   "execution_count": 94,
   "id": "09708bf7-7c6e-4a86-bb43-9eadab1eea82",
   "metadata": {},
   "outputs": [
    {
     "data": {
      "text/plain": [
       "0.020119088092500167"
      ]
     },
     "execution_count": 94,
     "metadata": {},
     "output_type": "execute_result"
    }
   ],
   "source": [
    "-theta * gprime(ve) / g(ve) * jxbar_prime(pe,ve)* (1-jxbar_prime(pe,ve)) + theta * gprime(pe) / g(pe) * jxbar_prime(pe,ve) * (1-jxbar_prime(pe,ve))"
   ]
  },
  {
   "cell_type": "code",
   "execution_count": 95,
   "id": "6014a329-a28d-4afe-bd5e-105b92432351",
   "metadata": {},
   "outputs": [
    {
     "data": {
      "text/plain": [
       "[<matplotlib.lines.Line2D at 0x278125e4c10>]"
      ]
     },
     "execution_count": 95,
     "metadata": {},
     "output_type": "execute_result"
    },
    {
     "data": {
      "image/png": "[encoded data removed]",
      "text/plain": [
       "<Figure size 432x288 with 1 Axes>"
      ]
     },
     "metadata": {
      "needs_background": "light"
     },
     "output_type": "display_data"
    }
   ],
   "source": [
    "thetas = np.arange(0,200,1)\n",
    "y = (1-jxbar_prime(pe,ve,thetas))\n",
    "#theta * jxbar_prime(pe,ve) * (1-jxbar_prime(pe,ve)) * (gprime(pe)/g(pe) - gprime(ve) / g(ve))\n",
    "plt.plot(thetas,y)"
   ]
  },
  {
   "cell_type": "code",
   "execution_count": 96,
   "id": "70c7c465-897d-424e-802d-7001704f6d1f",
   "metadata": {},
   "outputs": [
    {
     "data": {
      "image/png": "[encoded data removed]",
      "text/plain": [
       "<Figure size 432x288 with 1 Axes>"
      ]
     },
     "metadata": {
      "needs_background": "light"
     },
     "output_type": "display_data"
    }
   ],
   "source": [
    "y1 = (Dprime(ve) / D(ve) + (1-sigmatilde) / jxbar_prime(pe,ve, thetas) * f(thetas))\n",
    "plt.plot(thetas, y1)\n",
    "plt.xlabel('theta')\n",
    "plt.ylabel('Cex\\' / Cex')\n",
    "plt.savefig('cex_counterexample.pdf', format = 'PDF')"
   ]
  },
  {
   "cell_type": "code",
   "execution_count": 97,
   "id": "82cf1b57-16dd-4051-add9-ea6331af4776",
   "metadata": {},
   "outputs": [],
   "source": [
    "ve_vec = list(np.arange(1,200,1))"
   ]
  },
  {
   "cell_type": "code",
   "execution_count": 98,
   "id": "e078a668-65ed-4e22-b9da-71c3ad3f667d",
   "metadata": {},
   "outputs": [
    {
     "data": {
      "text/plain": [
       "[<matplotlib.lines.Line2D at 0x27810e87eb0>]"
      ]
     },
     "execution_count": 98,
     "metadata": {},
     "output_type": "execute_result"
    },
    {
     "data": {
      "image/png": "[encoded data removed]",
      "text/plain": [
       "<Figure size 432x288 with 1 Axes>"
      ]
     },
     "metadata": {
      "needs_background": "light"
     },
     "output_type": "display_data"
    }
   ],
   "source": [
    "y2 = [Dprime(ve) / D(ve) for ve in ve_vec]\n",
    "plt.plot(ve_vec, y2)"
   ]
  },
  {
   "cell_type": "code",
   "execution_count": 99,
   "id": "5c76f6f5-9590-4b6b-b82c-7fcee627b640",
   "metadata": {},
   "outputs": [
    {
     "data": {
      "text/latex": [
       "$\\displaystyle -0.0050251256281407$"
      ],
      "text/plain": [
       "-0.00502512562814070"
      ]
     },
     "execution_count": 99,
     "metadata": {},
     "output_type": "execute_result"
    }
   ],
   "source": [
    "max(y2)"
   ]
  },
  {
   "cell_type": "code",
   "execution_count": 100,
   "id": "79afb203-9b3d-4be0-a049-3064a261ef47",
   "metadata": {},
   "outputs": [
    {
     "data": {
      "text/latex": [
       "$\\displaystyle -2.72224988187524$"
      ],
      "text/plain": [
       "-2.72224988187524"
      ]
     },
     "execution_count": 100,
     "metadata": {},
     "output_type": "execute_result"
    }
   ],
   "source": [
    "(Dprime(ve) / D(ve) + (1-sigmatilde) / jxbar_prime(pe,ve, theta) * f(theta)) * Cex_prime(pe,ve)"
   ]
  },
  {
   "cell_type": "code",
   "execution_count": 101,
   "id": "0905303c-5b60-4d9c-9139-f3fd819be288",
   "metadata": {},
   "outputs": [
    {
     "data": {
      "text/latex": [
       "$\\displaystyle 0.228382861104601$"
      ],
      "text/plain": [
       "0.228382861104601"
      ]
     },
     "execution_count": 101,
     "metadata": {},
     "output_type": "execute_result"
    }
   ],
   "source": [
    "theta = 200\n",
    "#sigma = 1\n",
    "diff(Cex_prime(x,x+0.2),x).subs(x,pe)"
   ]
  },
  {
   "cell_type": "code",
   "execution_count": 114,
   "id": "9cd69d3b-0b47-4a62-9646-addcd24c1ad7",
   "metadata": {},
   "outputs": [
    {
     "data": {
      "text/latex": [
       "$\\displaystyle 0.820619473636398$"
      ],
      "text/plain": [
       "0.820619473636398"
      ]
     },
     "execution_count": 114,
     "metadata": {},
     "output_type": "execute_result"
    }
   ],
   "source": [
    "theta = 200\n",
    "diff(Ge_prime(x,x + 0.2),x).subs(x,pe)"
   ]
  },
  {
   "cell_type": "code",
   "execution_count": 103,
   "id": "a212e1db-d1e1-44ee-ae20-10865b3304c9",
   "metadata": {},
   "outputs": [
    {
     "data": {
      "text/latex": [
       "$\\displaystyle 0.130774072601251$"
      ],
      "text/plain": [
       "0.130774072601251"
      ]
     },
     "execution_count": 103,
     "metadata": {},
     "output_type": "execute_result"
    }
   ],
   "source": [
    "x = symbols('x')\n",
    "diff(Cex_prime(x,ve),x).subs(x,pe)\n",
    "diff(jxbar_prime(x,ve),x).subs(x,pe)"
   ]
  },
  {
   "cell_type": "code",
   "execution_count": 112,
   "id": "c3fc5f77-c289-4bc8-9c0f-2bfbf7a01668",
   "metadata": {},
   "outputs": [
    {
     "data": {
      "text/latex": [
       "$\\displaystyle -3.58757935732219$"
      ],
      "text/plain": [
       "-3.58757935732219"
      ]
     },
     "execution_count": 112,
     "metadata": {},
     "output_type": "execute_result"
    }
   ],
   "source": [
    "theta = 5000000\n",
    "diff(Cestar_prime(x,ve),x).subs(x,pe)"
   ]
  },
  {
   "cell_type": "code",
   "execution_count": 135,
   "id": "ebfad787-47b2-4be3-a360-a560d7be976e",
   "metadata": {},
   "outputs": [
    {
     "data": {
      "text/plain": [
       "1.142799664148598"
      ]
     },
     "execution_count": 135,
     "metadata": {},
     "output_type": "execute_result"
    }
   ],
   "source": [
    "Cex_prime(pe, ve)"
   ]
  },
  {
   "cell_type": "code",
   "execution_count": 130,
   "id": "6875c0c4-f7d9-48b4-83a6-36c3a5f5d5af",
   "metadata": {},
   "outputs": [
    {
     "data": {
      "text/plain": [
       "1.074961785042869"
      ]
     },
     "execution_count": 130,
     "metadata": {},
     "output_type": "execute_result"
    }
   ],
   "source": [
    "A(jxbar_prime(Cex, Ceystar, theta, ve, pe))"
   ]
  },
  {
   "cell_type": "code",
   "execution_count": 131,
   "id": "7577b1d9-8858-40c2-adaa-1f036d31aa83",
   "metadata": {},
   "outputs": [
    {
     "data": {
      "text/plain": [
       "1.0717734625362931"
      ]
     },
     "execution_count": 131,
     "metadata": {},
     "output_type": "execute_result"
    }
   ],
   "source": [
    "A(jxbar)"
   ]
  },
  {
   "cell_type": "code",
   "execution_count": 132,
   "id": "c6ffb08c-af66-4b5b-861c-81f851ac0b21",
   "metadata": {},
   "outputs": [
    {
     "data": {
      "text/plain": [
       "0.021623511038378007"
      ]
     },
     "execution_count": 132,
     "metadata": {},
     "output_type": "execute_result"
    }
   ],
   "source": [
    "D(ve)"
   ]
  },
  {
   "cell_type": "code",
   "execution_count": null,
   "id": "dc2b46f1-deb3-488b-923c-db91889d035f",
   "metadata": {},
   "outputs": [],
   "source": []
  }
 ],
 "metadata": {
  "kernelspec": {
   "display_name": "Python 3 (ipykernel)",
   "language": "python",
   "name": "python3"
  },
  "language_info": {
   "codemirror_mode": {
    "name": "ipython",
    "version": 3
   },
   "file_extension": ".py",
   "mimetype": "text/x-python",
   "name": "python",
   "nbconvert_exporter": "python",
   "pygments_lexer": "ipython3",
   "version": "3.9.5"
  }
 },
 "nbformat": 4,
 "nbformat_minor": 5
}
