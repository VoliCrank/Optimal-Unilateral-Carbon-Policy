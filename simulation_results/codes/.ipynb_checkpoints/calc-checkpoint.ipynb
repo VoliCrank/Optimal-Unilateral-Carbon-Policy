{
 "cells": [
  {
   "cell_type": "code",
   "execution_count": 1,
   "id": "cc5f74fb-2e8a-45d5-b195-45a8fc07ac87",
   "metadata": {},
   "outputs": [],
   "source": [
    "from sympy import *\n",
    "from scipy.integrate import quad\n",
    "x, a = symbols('x a')\n",
    "import math"
   ]
  },
  {
   "cell_type": "code",
   "execution_count": 2,
   "id": "b55ec01f-eb7c-4679-a5e5-a54a400469da",
   "metadata": {},
   "outputs": [],
   "source": [
    "def jxbar_prime(pe, tb, jxbar, theta, alpha):\n",
    "    return  pe ** (-alpha * theta) * (pe + tb) ** (-(1 - alpha) * theta) / (\n",
    "            jxbar * pe ** (-alpha * theta) * (pe + tb) ** (-(1 - alpha) * theta) + (\n",
    "            1 - jxbar) * (pe + (1- alpha) * tb) ** (-theta)) * jxbar\n",
    "\n",
    "def j0bar_prime(pe,tb,jxbar, theta, alpha):\n",
    "    return (pe + tb) ** (-(1 - alpha) * theta) / (\n",
    "            jxbar * (pe + tb) ** (-(1 - alpha) * theta) + (1 - jxbar) * pe ** (\n",
    "            -(1 - alpha) * theta)) * jxbar\n",
    "\n",
    "def CeFF_prime(pe,tb,jxbar_prime, jxbar, sigmastar, theta, alpha):\n",
    "    epsilonDstar = alpha + (1 - alpha) * sigmastar\n",
    "    return Ceystar * ((1 - jxbar_prime) / (1 - jxbar)) ** (1 + (1 - sigmastar) / theta) * pe ** (-epsilonDstar)\n",
    "\n",
    "def imcomp_betas(j0_prime, jxbar_prime, theta, sigmastar):\n",
    "    def tempFunction(i, theta, sigmastar):\n",
    "        return (i ** ((1 + theta) / theta - 1) * (1 - i) ** ((theta - sigmastar) / theta - 1))\n",
    "\n",
    "    Bfunvec1_prime = quad(tempFunction, 0, j0_prime, args=(theta, sigmastar))[0]\n",
    "    Bfunvec2_prime = quad(tempFunction, 0, jxbar_prime, args=(theta, sigmastar))[0]\n",
    "\n",
    "    return (Bfunvec1_prime, Bfunvec2_prime)"
   ]
  },
  {
   "cell_type": "code",
   "execution_count": 7,
   "id": "5a7e4444-2aa2-4f31-93b0-beed7bd31e2e",
   "metadata": {},
   "outputs": [],
   "source": [
    "Cex = 0.421601\n",
    "Ceystar = 26.059874\n",
    "Cey = 4.598402945\n",
    "Cem = 1.196110986\n",
    "jxbar = Cex/(Cex + Ceystar)\n",
    "alpha = 0.85\n",
    "theta = 4\n",
    "## phi = 5\n",
    "pe = 1.010698\n",
    "tb = 1.762878\n",
    "tau = 1.1\n",
    "sigmastar = 1\n",
    "sigma = 1\n",
    "epsilonS = 0.5  #Homes's energy supply elasticity: beta/(1 - beta)\n",
    "epsilonSstar = 0.5  #Foreign's energy supply elasticity: betastar/(1 - betastar)\n",
    "epsilonD = alpha + (1 - alpha) * sigma  #Home's elasticity of demand for embodied energy\n",
    "epsilonDstar = alpha + (1 - alpha) * sigmastar  #Foreign's elasticity of demand for embodied energy\n",
    "varphi = 1\n",
    "\n",
    "Vg_prime = 38.63009333\n",
    "Vgstar_prime = 176.5431669\n",
    "\n",
    "prop = 0.449691508"
   ]
  },
  {
   "cell_type": "code",
   "execution_count": 4,
   "id": "69ed0a9a-2efd-41ff-8f41-6f9a806b95c5",
   "metadata": {},
   "outputs": [],
   "source": [
    "def g(p, alpha = 0.15):\n",
    "    return alpha**(-alpha) * (1-alpha)**(-(1-alpha)) * p**alpha\n",
    "\n",
    "def gprime(p, alpha = 0.15):\n",
    "    return (alpha/(1-alpha))**(1-alpha) * p**(-(1-alpha))\n",
    "\n",
    "def k(p):\n",
    "    return gprime(p) / (g(p)-p*gprime(p))\n",
    "\n",
    "def gdprime(p, alpha = 0.15):\n",
    "    return -alpha * p**(alpha - 2) * ((1-alpha)/alpha)**alpha\n",
    "\n",
    "def Dstar(p, sigmastar):\n",
    "    return gprime(p) * g(p)**(-sigmastar)\n",
    "\n",
    "def Dstarprime(p, sigmastar):\n",
    "    return diff(Dstar(x, sigmastar),x).subs(x,p)\n",
    "\n",
    "def D1star(p,t,sigmastar):\n",
    "    return g(p)**(-sigmastar) * gprime(p + t)\n",
    "\n",
    "def D1starprime(p,t,sigmastar):\n",
    "    return diff(D1star(x,t,sigmastar),x).subs(x,p)"
   ]
  },
  {
   "cell_type": "code",
   "execution_count": 5,
   "id": "c5b5ca5c-01dc-44d0-9b27-493b060ca000",
   "metadata": {},
   "outputs": [],
   "source": [
    "def jxbar_new(pe, tb, jxbar, theta, Cex, Ceystar):\n",
    "    num = g(pe + tb)**(-theta) * Cex\n",
    "    denum = g(pe+tb)**(-theta) * Cex + (g(pe) + tb * gprime(pe))**(-theta) * Ceystar\n",
    "    return num / denum\n",
    "\n",
    "def j0_new(pe,tb,jxbar,theta,Cex,Ceystar):\n",
    "    num = g(pe + tb)**(-theta) * Cex\n",
    "    denum = g(pe+tb)**(-theta) * Cex + (g(pe))**(-theta) * Ceystar\n",
    "    return num / denum\n",
    "\n",
    "def Ceystar_new(pe,tb, jxbar_p, jxbar, sigmastar, theta, Ceystar):\n",
    "    const = gprime(pe) * g(pe)**(-sigmastar) * Ceystar\n",
    "    frac = ((1-jxbar_p)/ (1-jxbar))**(1+(1-sigmastar)/theta)\n",
    "    frac = ((1-jxbar_new(pe,tb,jxbar,theta,Cex,Ceystar))/ (1-jxbar))**(1+(1-sigmastar)/theta)\n",
    "    return const * frac / (g(1)**(-sigmastar) * gprime(1))\n",
    "\n",
    "def Cey_new(pe,tb, sigmastar, theta, Cey):\n",
    "    const = gprime(pe + tb) * g(pe+tb)**(-sigma) * Cey\n",
    "    return const / (g(1)**(-sigma) * gprime(1))\n",
    "\n",
    "def Cex1_new(pe,tb, j0bar_p, j0bar, sigmastar, Cex):\n",
    "    const = gprime(pe + tb) * g(pe+tb)**(-sigmastar) / (g(1)**(-sigmastar) * gprime(1)) * Cex\n",
    "    frac = (j0bar_p / j0bar) ** (1+ (1-sigmastar)/theta)\n",
    "    return const * frac\n",
    "\n",
    "def Cex2_new(pe,tb,jxbar_p, j0bar_p, jxbar, sigmastar, theta):\n",
    "    const = g(pe)**(-sigmastar) * gprime(pe + tb) / (g(1)**(-sigmastar) * gprime(1)) * Cex\n",
    "    frac = ((1-jxbar)/jxbar)**(sigmastar/theta) * (theta + 1 - sigmastar)/theta\n",
    "    jterm = 1/ jxbar**(1+(1-sigmastar)/theta)\n",
    "    B1, B2 = imcomp_betas(j0bar_p, jxbar_p, theta, sigmastar)\n",
    "    return const * frac * jterm * (B2- B1)\n",
    "    \n",
    "\n",
    "def Cem_new(pe, tb, sigma, Cem):\n",
    "    const = gprime(pe + tb) * g(pe + tb)**(-sigma) / (g(1)**(-sigmastar) * gprime(1)) * Cem\n",
    "    return const\n",
    "    \n",
    "def Vgx2_new(pe, jxbar_p, jxbar, j0bar_p, Cex, theta, sigmastar):\n",
    "    pterm = g(pe)**(1-sigmastar) *g(1)* Cex / (gprime(1) * g(1)**(1-sigmastar))\n",
    "    num = (1-j0bar_p)**((theta + 1 - sigmastar)/theta) - (1-jxbar_p)**((theta + 1 - sigmastar) / theta)\n",
    "    denum = jxbar * (1-jxbar)**((1-sigmastar)/theta)\n",
    "    return pterm * num / denum\n",
    "\n",
    "def Vgx1_new(pe, tb, j0_p, jxbar, Cex, theta, sigmastar):\n",
    "    const = (g(pe+tb) / g(1))**(1-sigmastar) * (j0_p / jxbar)**(1+(1-sigmastar)/theta) * g(1)/gprime(1) * Cex\n",
    "    return const\n",
    "\n",
    "def S_new(pe, tb, Cex2_prime, Vgx2_prime):\n",
    "    const = g(pe+tb) / gprime(pe+tb) * Cex2_prime - Vgx2_prime\n",
    "    return const\n",
    "\n",
    "def Vgm_new(pe, tb, Cem):\n",
    "    return g(pe+tb)**(1-sigma) * Cem * g(1) / (g(1)**(1-sigma) * gprime(1))\n",
    "\n",
    "def Lg_new(pe, tb, Cey_prime, Cex1_prime, Cex2_prime):\n",
    "    return (1/k(pe+tb)) * (Cey_prime + Cex1_prime + Cex2_prime)\n",
    "\n",
    "def Lgstar_new(pe,tb,Ceystar_prime, Cem_prime):\n",
    "    return 1/k(pe) * Ceystar_prime + 1/k(pe+tb) * Cem_prime\n",
    "\n",
    "def Vgstar_new(pe,jxbar_prime,jxbar, sigmastar,theta,Ceystar, Vgx1_prime, Vgx2_prime):\n",
    "    Vgystar_prime = (g(pe) / g(1))**(1-sigmastar) * ((1-jxbar_prime)/(1-jxbar)) ** (1+(1-sigmastar)/theta) * g(1)/ gprime(1) * Ceystar\n",
    "    return Vgystar_prime + Vgx1_prime + Vgx2_prime\n",
    "\n",
    "def Vgystar_new(pe,Ceystar, jxbar_prime, jxbar, sigmastar, theta):\n",
    "    return (g(pe) / g(1))**(1-sigmastar) * ((1-jxbar_prime)/(1-jxbar)) ** (1+(1-sigmastar)/theta) * g(1)/ gprime(1) * Ceystar\n"
   ]
  },
  {
   "cell_type": "code",
   "execution_count": 6,
   "id": "34f68387-203a-492c-86a0-15fae61e3257",
   "metadata": {},
   "outputs": [],
   "source": [
    "jxbar_prime = jxbar_new(pe, tb, jxbar, theta, Cex, Ceystar)\n",
    "j0_prime = j0_new(pe,tb,jxbar,theta,Cex,Ceystar)\n",
    "Cey_prime = Cey_new(pe,tb, sigmastar, theta, Cey)\n",
    "Cex1_prime = Cex1_new(pe,tb, j0_prime, jxbar, sigmastar, Cex)\n",
    "Cex2_prime = Cex2_new(pe, tb, jxbar_prime, j0_prime, jxbar, sigmastar, theta)\n",
    "Cem_prime = Cem_new(pe, tb, sigma, Cem)\n",
    "Ceystar_prime = Ceystar_new(pe,tb, jxbar_prime, jxbar, sigmastar, theta, Ceystar)\n",
    "\n",
    "Vgx1_prime = Vgx1_new(pe, tb, j0_prime, jxbar, Cex, theta, sigmastar)\n",
    "Vgx2_prime = Vgx2_new(pe, jxbar_prime, jxbar, j0_prime, Cex, theta, sigmastar)\n",
    "Vgm_prime = Vgm_new(pe, tb, Cem)\n",
    "Vgystar_prime = Vgystar_new(pe,Ceystar, jxbar_prime, jxbar, sigmastar, theta)\n",
    "\n",
    "Vgx = Vgx1_new(1, 0, jxbar, jxbar, Cex, theta, sigmastar)\n",
    "Vgystar = Vgystar_new(1,Ceystar, jxbar, jxbar, sigmastar, theta)\n",
    "Vgstar = Vgstar_new(1,jxbar, jxbar, sigmastar, theta, Ceystar, Vgx, 0) \n",
    "S = S_new(pe, tb, Cex2_prime, Vgx2_prime)"
   ]
  },
  {
   "cell_type": "code",
   "execution_count": 114,
   "id": "20978236-0be5-4d67-97c9-f55c231e5528",
   "metadata": {},
   "outputs": [],
   "source": [
    "Qestar_prime = 27.9442294910064"
   ]
  },
  {
   "cell_type": "code",
   "execution_count": 115,
   "id": "aba1d081-0075-4675-b06d-bed7ad3cac8e",
   "metadata": {},
   "outputs": [],
   "source": [
    "epsilonDstar = (alpha + (1 - alpha) * sigmastar)"
   ]
  },
  {
   "cell_type": "code",
   "execution_count": 122,
   "id": "d2226f76-87d7-4703-b852-d9550af779ea",
   "metadata": {},
   "outputs": [
    {
     "data": {
      "text/plain": [
       "-1.7763568394002505e-14"
      ]
     },
     "execution_count": 122,
     "metadata": {},
     "output_type": "execute_result"
    }
   ],
   "source": [
    "((Vgx1_prime + Vgx2_prime) - Vgx) + (Vgystar_prime - Vgystar)"
   ]
  },
  {
   "cell_type": "code",
   "execution_count": 118,
   "id": "36105030-038f-4b9e-9510-c45b288fb314",
   "metadata": {},
   "outputs": [
    {
     "data": {
      "text/plain": [
       "0.3741799580431471"
      ]
     },
     "execution_count": 118,
     "metadata": {},
     "output_type": "execute_result"
    }
   ],
   "source": [
    "jxbar_prime/jxbar-1"
   ]
  },
  {
   "cell_type": "code",
   "execution_count": 119,
   "id": "6c5a3067-2c76-450a-b52d-e6bca12d5dfb",
   "metadata": {},
   "outputs": [
    {
     "data": {
      "text/plain": [
       "-0.006053545941586292"
      ]
     },
     "execution_count": 119,
     "metadata": {},
     "output_type": "execute_result"
    }
   ],
   "source": [
    "(Vgystar_prime - Vgystar) / Vgystar"
   ]
  },
  {
   "cell_type": "code",
   "execution_count": 120,
   "id": "34e32f1a-3055-4b50-96a4-18bfa2d1aa76",
   "metadata": {},
   "outputs": [
    {
     "data": {
      "text/plain": [
       "-2.842170943040401e-14"
      ]
     },
     "execution_count": 120,
     "metadata": {},
     "output_type": "execute_result"
    }
   ],
   "source": [
    "Vgystar_prime + Vgx1_prime + Vgx2_prime - Vgstar"
   ]
  },
  {
   "cell_type": "code",
   "execution_count": 121,
   "id": "475527b1-5963-4198-b635-5fd71a2230c4",
   "metadata": {},
   "outputs": [
    {
     "data": {
      "text/plain": [
       "176.54316666666665"
      ]
     },
     "execution_count": 121,
     "metadata": {},
     "output_type": "execute_result"
    }
   ],
   "source": [
    "Vgx + Vgystar"
   ]
  },
  {
   "cell_type": "code",
   "execution_count": null,
   "id": "d419d747-b533-46d5-a8da-821bde431dd2",
   "metadata": {},
   "outputs": [],
   "source": []
  }
 ],
 "metadata": {
  "kernelspec": {
   "display_name": "Python 3 (ipykernel)",
   "language": "python",
   "name": "python3"
  },
  "language_info": {
   "codemirror_mode": {
    "name": "ipython",
    "version": 3
   },
   "file_extension": ".py",
   "mimetype": "text/x-python",
   "name": "python",
   "nbconvert_exporter": "python",
   "pygments_lexer": "ipython3",
   "version": "3.9.5"
  }
 },
 "nbformat": 4,
 "nbformat_minor": 5
}
