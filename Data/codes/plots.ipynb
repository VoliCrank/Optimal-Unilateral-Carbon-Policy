{
 "cells": [
  {
   "cell_type": "code",
   "execution_count": 27,
   "id": "c170a249-400c-4a6c-b1f3-a1e8f9ce60ff",
   "metadata": {},
   "outputs": [],
   "source": [
    "import pandas as pd\n",
    "import matplotlib as mpl\n",
    "import matplotlib.pyplot as plt\n",
    "import numpy as np\n",
    "from matplotlib.ticker import FormatStrFormatter\n",
    "import matplotlib.font_manager as fm\n",
    "import palettable"
   ]
  },
  {
   "cell_type": "code",
   "execution_count": 28,
   "id": "ea735dcf-f6ec-44e7-bd1f-bddbbd763557",
   "metadata": {},
   "outputs": [],
   "source": [
    "df = pd.read_csv('../output/convergent.csv')"
   ]
  },
  {
   "cell_type": "code",
   "execution_count": 30,
   "id": "9e8c7362-e654-4d6e-a5ae-0e5348c212f1",
   "metadata": {},
   "outputs": [
    {
     "data": {
      "text/html": [
       "<div>\n",
       "<style scoped>\n",
       "    .dataframe tbody tr th:only-of-type {\n",
       "        vertical-align: middle;\n",
       "    }\n",
       "\n",
       "    .dataframe tbody tr th {\n",
       "        vertical-align: top;\n",
       "    }\n",
       "\n",
       "    .dataframe thead th {\n",
       "        text-align: right;\n",
       "    }\n",
       "</style>\n",
       "<table border=\"1\" class=\"dataframe\">\n",
       "  <thead>\n",
       "    <tr style=\"text-align: right;\">\n",
       "      <th></th>\n",
       "      <th>regionbase</th>\n",
       "      <th>tax_sce</th>\n",
       "      <th>region_scenario</th>\n",
       "      <th>pe</th>\n",
       "      <th>tb</th>\n",
       "      <th>varphi</th>\n",
       "      <th>jxbar_prime</th>\n",
       "      <th>jmbar_prime</th>\n",
       "      <th>j0_prime</th>\n",
       "      <th>Qe_prime</th>\n",
       "      <th>...</th>\n",
       "      <th>leakage2</th>\n",
       "      <th>leakage3</th>\n",
       "      <th>chg_extraction</th>\n",
       "      <th>chg_production</th>\n",
       "      <th>chg_consumption</th>\n",
       "      <th>chg_Qeworld</th>\n",
       "      <th>pai_g</th>\n",
       "      <th>subsidy_ratio</th>\n",
       "      <th>welfare</th>\n",
       "      <th>welfare_noexternality</th>\n",
       "    </tr>\n",
       "  </thead>\n",
       "  <tbody>\n",
       "    <tr>\n",
       "      <th>0</th>\n",
       "      <td>OECD37 as Home</td>\n",
       "      <td>Unilateral</td>\n",
       "      <td>3</td>\n",
       "      <td>1.000000</td>\n",
       "      <td>0.000000</td>\n",
       "      <td>0.0</td>\n",
       "      <td>0.049234</td>\n",
       "      <td>0.819498</td>\n",
       "      <td>0.049234</td>\n",
       "      <td>8.625495</td>\n",
       "      <td>...</td>\n",
       "      <td>0.033333</td>\n",
       "      <td>0.323333</td>\n",
       "      <td>0.000000</td>\n",
       "      <td>1.000000e-07</td>\n",
       "      <td>9.700000e-07</td>\n",
       "      <td>-0.000003</td>\n",
       "      <td>0.000000</td>\n",
       "      <td>0.000000</td>\n",
       "      <td>-4.317474e-07</td>\n",
       "      <td>-4.317474e-07</td>\n",
       "    </tr>\n",
       "    <tr>\n",
       "      <th>1</th>\n",
       "      <td>OECD37 as Home</td>\n",
       "      <td>Unilateral</td>\n",
       "      <td>3</td>\n",
       "      <td>0.993667</td>\n",
       "      <td>0.039981</td>\n",
       "      <td>0.1</td>\n",
       "      <td>0.049253</td>\n",
       "      <td>0.819498</td>\n",
       "      <td>0.048138</td>\n",
       "      <td>8.334422</td>\n",
       "      <td>...</td>\n",
       "      <td>0.084004</td>\n",
       "      <td>0.225309</td>\n",
       "      <td>-0.075012</td>\n",
       "      <td>3.075279e-02</td>\n",
       "      <td>8.248284e-02</td>\n",
       "      <td>-0.366088</td>\n",
       "      <td>-0.204258</td>\n",
       "      <td>0.005999</td>\n",
       "      <td>1.992536e-02</td>\n",
       "      <td>-1.992110e-02</td>\n",
       "    </tr>\n",
       "    <tr>\n",
       "      <th>2</th>\n",
       "      <td>OECD37 as Home</td>\n",
       "      <td>Unilateral</td>\n",
       "      <td>3</td>\n",
       "      <td>0.988369</td>\n",
       "      <td>0.079572</td>\n",
       "      <td>0.2</td>\n",
       "      <td>0.049307</td>\n",
       "      <td>0.819498</td>\n",
       "      <td>0.047105</td>\n",
       "      <td>8.035798</td>\n",
       "      <td>...</td>\n",
       "      <td>0.065028</td>\n",
       "      <td>0.204957</td>\n",
       "      <td>-0.137945</td>\n",
       "      <td>4.731719e-02</td>\n",
       "      <td>1.491358e-01</td>\n",
       "      <td>-0.727645</td>\n",
       "      <td>-0.412435</td>\n",
       "      <td>0.011932</td>\n",
       "      <td>7.957643e-02</td>\n",
       "      <td>-7.882309e-02</td>\n",
       "    </tr>\n",
       "    <tr>\n",
       "      <th>3</th>\n",
       "      <td>OECD37 as Home</td>\n",
       "      <td>Unilateral</td>\n",
       "      <td>3</td>\n",
       "      <td>0.984046</td>\n",
       "      <td>0.118887</td>\n",
       "      <td>0.3</td>\n",
       "      <td>0.049394</td>\n",
       "      <td>0.819498</td>\n",
       "      <td>0.046128</td>\n",
       "      <td>7.729005</td>\n",
       "      <td>...</td>\n",
       "      <td>0.045979</td>\n",
       "      <td>0.184435</td>\n",
       "      <td>-0.189416</td>\n",
       "      <td>4.992940e-02</td>\n",
       "      <td>2.002801e-01</td>\n",
       "      <td>-1.085909</td>\n",
       "      <td>-0.624856</td>\n",
       "      <td>0.017800</td>\n",
       "      <td>1.782903e-01</td>\n",
       "      <td>-1.762933e-01</td>\n",
       "    </tr>\n",
       "    <tr>\n",
       "      <th>4</th>\n",
       "      <td>OECD37 as Home</td>\n",
       "      <td>Unilateral</td>\n",
       "      <td>3</td>\n",
       "      <td>0.980653</td>\n",
       "      <td>0.158018</td>\n",
       "      <td>0.4</td>\n",
       "      <td>0.049511</td>\n",
       "      <td>0.819498</td>\n",
       "      <td>0.045204</td>\n",
       "      <td>7.413262</td>\n",
       "      <td>...</td>\n",
       "      <td>0.026879</td>\n",
       "      <td>0.163754</td>\n",
       "      <td>-0.229903</td>\n",
       "      <td>3.876288e-02</td>\n",
       "      <td>2.361562e-01</td>\n",
       "      <td>-1.442139</td>\n",
       "      <td>-0.841802</td>\n",
       "      <td>0.023600</td>\n",
       "      <td>3.158152e-01</td>\n",
       "      <td>-3.120568e-01</td>\n",
       "    </tr>\n",
       "    <tr>\n",
       "      <th>...</th>\n",
       "      <td>...</td>\n",
       "      <td>...</td>\n",
       "      <td>...</td>\n",
       "      <td>...</td>\n",
       "      <td>...</td>\n",
       "      <td>...</td>\n",
       "      <td>...</td>\n",
       "      <td>...</td>\n",
       "      <td>...</td>\n",
       "      <td>...</td>\n",
       "      <td>...</td>\n",
       "      <td>...</td>\n",
       "      <td>...</td>\n",
       "      <td>...</td>\n",
       "      <td>...</td>\n",
       "      <td>...</td>\n",
       "      <td>...</td>\n",
       "      <td>...</td>\n",
       "      <td>...</td>\n",
       "      <td>...</td>\n",
       "      <td>...</td>\n",
       "    </tr>\n",
       "    <tr>\n",
       "      <th>588</th>\n",
       "      <td>OECD37 as Home</td>\n",
       "      <td>Unilateral</td>\n",
       "      <td>3</td>\n",
       "      <td>0.001272</td>\n",
       "      <td>350.504976</td>\n",
       "      <td>975.0</td>\n",
       "      <td>1.000000</td>\n",
       "      <td>0.819498</td>\n",
       "      <td>0.000028</td>\n",
       "      <td>0.000000</td>\n",
       "      <td>...</td>\n",
       "      <td>-0.638344</td>\n",
       "      <td>-0.562811</td>\n",
       "      <td>-22.806878</td>\n",
       "      <td>-2.006466e+01</td>\n",
       "      <td>-1.769049e+01</td>\n",
       "      <td>-31.432376</td>\n",
       "      <td>-2121.686932</td>\n",
       "      <td>0.999976</td>\n",
       "      <td>3.178852e+04</td>\n",
       "      <td>-1.568393e+03</td>\n",
       "    </tr>\n",
       "    <tr>\n",
       "      <th>589</th>\n",
       "      <td>OECD37 as Home</td>\n",
       "      <td>Unilateral</td>\n",
       "      <td>3</td>\n",
       "      <td>0.001264</td>\n",
       "      <td>352.256496</td>\n",
       "      <td>980.0</td>\n",
       "      <td>1.000000</td>\n",
       "      <td>0.819498</td>\n",
       "      <td>0.000028</td>\n",
       "      <td>0.000000</td>\n",
       "      <td>...</td>\n",
       "      <td>-0.638288</td>\n",
       "      <td>-0.562844</td>\n",
       "      <td>-22.809676</td>\n",
       "      <td>-2.006469e+01</td>\n",
       "      <td>-1.769309e+01</td>\n",
       "      <td>-31.435174</td>\n",
       "      <td>-2132.319529</td>\n",
       "      <td>0.999976</td>\n",
       "      <td>3.195959e+04</td>\n",
       "      <td>-1.571370e+03</td>\n",
       "    </tr>\n",
       "    <tr>\n",
       "      <th>590</th>\n",
       "      <td>OECD37 as Home</td>\n",
       "      <td>Unilateral</td>\n",
       "      <td>3</td>\n",
       "      <td>0.001256</td>\n",
       "      <td>354.007875</td>\n",
       "      <td>985.0</td>\n",
       "      <td>1.000000</td>\n",
       "      <td>0.819498</td>\n",
       "      <td>0.000028</td>\n",
       "      <td>0.000000</td>\n",
       "      <td>...</td>\n",
       "      <td>-0.638233</td>\n",
       "      <td>-0.562876</td>\n",
       "      <td>-22.812450</td>\n",
       "      <td>-2.006473e+01</td>\n",
       "      <td>-1.769567e+01</td>\n",
       "      <td>-31.437948</td>\n",
       "      <td>-2142.951271</td>\n",
       "      <td>0.999976</td>\n",
       "      <td>3.213068e+04</td>\n",
       "      <td>-1.574336e+03</td>\n",
       "    </tr>\n",
       "    <tr>\n",
       "      <th>591</th>\n",
       "      <td>OECD37 as Home</td>\n",
       "      <td>Unilateral</td>\n",
       "      <td>3</td>\n",
       "      <td>0.001247</td>\n",
       "      <td>355.759096</td>\n",
       "      <td>990.0</td>\n",
       "      <td>1.000000</td>\n",
       "      <td>0.819498</td>\n",
       "      <td>0.000028</td>\n",
       "      <td>0.000000</td>\n",
       "      <td>...</td>\n",
       "      <td>-0.638178</td>\n",
       "      <td>-0.562908</td>\n",
       "      <td>-22.815201</td>\n",
       "      <td>-2.006476e+01</td>\n",
       "      <td>-1.769823e+01</td>\n",
       "      <td>-31.440699</td>\n",
       "      <td>-2153.582053</td>\n",
       "      <td>0.999977</td>\n",
       "      <td>3.230177e+04</td>\n",
       "      <td>-1.577293e+03</td>\n",
       "    </tr>\n",
       "    <tr>\n",
       "      <th>592</th>\n",
       "      <td>OECD37 as Home</td>\n",
       "      <td>Unilateral</td>\n",
       "      <td>3</td>\n",
       "      <td>0.001239</td>\n",
       "      <td>357.510171</td>\n",
       "      <td>995.0</td>\n",
       "      <td>1.000000</td>\n",
       "      <td>0.819498</td>\n",
       "      <td>0.000027</td>\n",
       "      <td>0.000000</td>\n",
       "      <td>...</td>\n",
       "      <td>-0.638124</td>\n",
       "      <td>-0.562940</td>\n",
       "      <td>-22.817929</td>\n",
       "      <td>-2.006480e+01</td>\n",
       "      <td>-1.770077e+01</td>\n",
       "      <td>-31.443427</td>\n",
       "      <td>-2164.211954</td>\n",
       "      <td>0.999977</td>\n",
       "      <td>3.247289e+04</td>\n",
       "      <td>-1.580241e+03</td>\n",
       "    </tr>\n",
       "  </tbody>\n",
       "</table>\n",
       "<p>593 rows × 45 columns</p>\n",
       "</div>"
      ],
      "text/plain": [
       "         regionbase     tax_sce  region_scenario        pe          tb  \\\n",
       "0    OECD37 as Home  Unilateral                3  1.000000    0.000000   \n",
       "1    OECD37 as Home  Unilateral                3  0.993667    0.039981   \n",
       "2    OECD37 as Home  Unilateral                3  0.988369    0.079572   \n",
       "3    OECD37 as Home  Unilateral                3  0.984046    0.118887   \n",
       "4    OECD37 as Home  Unilateral                3  0.980653    0.158018   \n",
       "..              ...         ...              ...       ...         ...   \n",
       "588  OECD37 as Home  Unilateral                3  0.001272  350.504976   \n",
       "589  OECD37 as Home  Unilateral                3  0.001264  352.256496   \n",
       "590  OECD37 as Home  Unilateral                3  0.001256  354.007875   \n",
       "591  OECD37 as Home  Unilateral                3  0.001247  355.759096   \n",
       "592  OECD37 as Home  Unilateral                3  0.001239  357.510171   \n",
       "\n",
       "     varphi  jxbar_prime  jmbar_prime  j0_prime  Qe_prime  ...  leakage2  \\\n",
       "0       0.0     0.049234     0.819498  0.049234  8.625495  ...  0.033333   \n",
       "1       0.1     0.049253     0.819498  0.048138  8.334422  ...  0.084004   \n",
       "2       0.2     0.049307     0.819498  0.047105  8.035798  ...  0.065028   \n",
       "3       0.3     0.049394     0.819498  0.046128  7.729005  ...  0.045979   \n",
       "4       0.4     0.049511     0.819498  0.045204  7.413262  ...  0.026879   \n",
       "..      ...          ...          ...       ...       ...  ...       ...   \n",
       "588   975.0     1.000000     0.819498  0.000028  0.000000  ... -0.638344   \n",
       "589   980.0     1.000000     0.819498  0.000028  0.000000  ... -0.638288   \n",
       "590   985.0     1.000000     0.819498  0.000028  0.000000  ... -0.638233   \n",
       "591   990.0     1.000000     0.819498  0.000028  0.000000  ... -0.638178   \n",
       "592   995.0     1.000000     0.819498  0.000027  0.000000  ... -0.638124   \n",
       "\n",
       "     leakage3  chg_extraction  chg_production  chg_consumption  chg_Qeworld  \\\n",
       "0    0.323333        0.000000    1.000000e-07     9.700000e-07    -0.000003   \n",
       "1    0.225309       -0.075012    3.075279e-02     8.248284e-02    -0.366088   \n",
       "2    0.204957       -0.137945    4.731719e-02     1.491358e-01    -0.727645   \n",
       "3    0.184435       -0.189416    4.992940e-02     2.002801e-01    -1.085909   \n",
       "4    0.163754       -0.229903    3.876288e-02     2.361562e-01    -1.442139   \n",
       "..        ...             ...             ...              ...          ...   \n",
       "588 -0.562811      -22.806878   -2.006466e+01    -1.769049e+01   -31.432376   \n",
       "589 -0.562844      -22.809676   -2.006469e+01    -1.769309e+01   -31.435174   \n",
       "590 -0.562876      -22.812450   -2.006473e+01    -1.769567e+01   -31.437948   \n",
       "591 -0.562908      -22.815201   -2.006476e+01    -1.769823e+01   -31.440699   \n",
       "592 -0.562940      -22.817929   -2.006480e+01    -1.770077e+01   -31.443427   \n",
       "\n",
       "           pai_g  subsidy_ratio       welfare  welfare_noexternality  \n",
       "0       0.000000       0.000000 -4.317474e-07          -4.317474e-07  \n",
       "1      -0.204258       0.005999  1.992536e-02          -1.992110e-02  \n",
       "2      -0.412435       0.011932  7.957643e-02          -7.882309e-02  \n",
       "3      -0.624856       0.017800  1.782903e-01          -1.762933e-01  \n",
       "4      -0.841802       0.023600  3.158152e-01          -3.120568e-01  \n",
       "..           ...            ...           ...                    ...  \n",
       "588 -2121.686932       0.999976  3.178852e+04          -1.568393e+03  \n",
       "589 -2132.319529       0.999976  3.195959e+04          -1.571370e+03  \n",
       "590 -2142.951271       0.999976  3.213068e+04          -1.574336e+03  \n",
       "591 -2153.582053       0.999977  3.230177e+04          -1.577293e+03  \n",
       "592 -2164.211954       0.999977  3.247289e+04          -1.580241e+03  \n",
       "\n",
       "[593 rows x 45 columns]"
      ]
     },
     "execution_count": 30,
     "metadata": {},
     "output_type": "execute_result"
    }
   ],
   "source": [
    "df"
   ]
  },
  {
   "cell_type": "code",
   "execution_count": 31,
   "id": "979f3884-7f80-46f4-b177-7ddcbfd4907d",
   "metadata": {},
   "outputs": [
    {
     "data": {
      "text/plain": [
       "[<matplotlib.axis.YTick at 0x270ef049490>,\n",
       " <matplotlib.axis.YTick at 0x270ef043cd0>,\n",
       " <matplotlib.axis.YTick at 0x270ef043190>,\n",
       " <matplotlib.axis.YTick at 0x270ef0957f0>]"
      ]
     },
     "execution_count": 31,
     "metadata": {},
     "output_type": "execute_result"
    },
    {
     "data": {
      "image/png": "[encoded data removed]",
      "text/plain": [
       "<Figure size 432x288 with 6 Axes>"
      ]
     },
     "metadata": {
      "needs_background": "light"
     },
     "output_type": "display_data"
    }
   ],
   "source": [
    "fig, ((ax1, ax2, ax3), (ax4, ax5, ax6)) = plt.subplots(2, 3)\n",
    "ax1.set_position([.1, .6, .2, .35])\n",
    "ax2.set_position([.425, .6, .2, .35])\n",
    "ax3.set_position([.75, .6, .2, .35])\n",
    "ax4.set_position([.1, .15, .2, .35])\n",
    "ax5.set_position([.425, .15, .2, .35])\n",
    "ax6.set_position([.75, .15, .2, .35])\n",
    "\n",
    "\n",
    "for ax in fig.get_axes():\n",
    "    ax.set_xlim(0,2)\n",
    "    ax.spines[\"top\"].set_visible(False)   \n",
    "    ax.spines[\"bottom\"].set_visible(True)    \n",
    "    ax.spines[\"right\"].set_visible(False)    \n",
    "    ax.spines[\"left\"].set_visible(False)\n",
    "    \n",
    "ax1.set_ylabel('Global emissions \\n(gigatonnes of CO2)')\n",
    "ax2.set_ylabel('Energy price')\n",
    "ax3.set_ylabel('Export margin')\n",
    "ax4.set_ylabel('Change in welfare')\n",
    "ax5.set_ylabel('Tax rates')\n",
    "ax6.set_ylabel('Maximum export subsidy \\nrelative to cost')\n",
    "\n",
    "df1=df[(df['tax_sce']=='Unilateral') & (df['region_scenario']==3)]\n",
    "l1,=ax1.plot(df1['varphi'],df1['Qeworld_prime'], color='C0',linewidth=1)\n",
    "ax2.plot(df1['varphi'],df1['pe'], color='C0',linewidth=1)\n",
    "ax3.plot(df1['varphi'],df1['jxbar_prime'], color='C0',linewidth=1)\n",
    "ax4.plot(df1['varphi'],df1['welfare'], color='C0',linewidth=1)\n",
    "ax5.plot(df1['varphi'],df1['tb'], color='C0',linewidth=1)\n",
    "ax6.plot(df1['varphi'],df1['subsidy_ratio'], color='C0',linewidth=1)\n",
    "\n",
    "ax1.set_ylim(24, 34)\n",
    "ax2.set_ylim(0.9, 1.1)\n",
    "ax3.set_ylim(0.045, 0.065)\n",
    "ax4.set_ylim(0, 10)\n",
    "ax5.set_ylim(0, 2)\n",
    "ax6.set_ylim(0, 0.2)\n",
    "\n",
    "ax1.set_yticks([24,26,28,30,32])\n",
    "ax2.set_yticks([0.9,0.95,1.0,1.05])\n",
    "ax3.set_yticks([0.045, 0.050, 0.055, 0.060])\n",
    "ax4.set_yticks([0,2,4,6,8])\n",
    "ax5.set_yticks([0,0.5,1,1.5])\n",
    "ax6.set_yticks([0,0.05,0.1,0.15])\n",
    "\n",
    "#plt.savefig('../plots/fig1_new.pdf', format='PDF')"
   ]
  },
  {
   "cell_type": "code",
   "execution_count": 32,
   "id": "1509ed8e-1f30-486f-a877-4456a346da4a",
   "metadata": {},
   "outputs": [
    {
     "data": {
      "text/plain": [
       "[<matplotlib.lines.Line2D at 0x270ef22f2b0>]"
      ]
     },
     "execution_count": 32,
     "metadata": {},
     "output_type": "execute_result"
    },
    {
     "data": {
      "image/png": "[encoded data removed]",
      "text/plain": [
       "<Figure size 432x288 with 6 Axes>"
      ]
     },
     "metadata": {
      "needs_background": "light"
     },
     "output_type": "display_data"
    }
   ],
   "source": [
    "fig, ((ax1, ax2, ax3), (ax4, ax5, ax6)) = plt.subplots(2, 3)\n",
    "ax1.set_position([.1, .6, .2, .35])\n",
    "ax2.set_position([.425, .6, .2, .35])\n",
    "ax3.set_position([.75, .6, .2, .35])\n",
    "ax4.set_position([.1, .15, .2, .35])\n",
    "ax5.set_position([.425, .15, .2, .35])\n",
    "ax6.set_position([.75, .15, .2, .35])\n",
    "\n",
    "\n",
    "for ax in fig.get_axes():\n",
    "    #ax.set_xlim(0,20)\n",
    "    ax.spines[\"top\"].set_visible(False)   \n",
    "    ax.spines[\"bottom\"].set_visible(True)    \n",
    "    ax.spines[\"right\"].set_visible(False)    \n",
    "    ax.spines[\"left\"].set_visible(False)\n",
    "    \n",
    "ax1.set_ylabel('Global emissions \\n(gigatonnes of CO2)')\n",
    "ax2.set_ylabel('Energy price')\n",
    "ax3.set_ylabel('Export margin')\n",
    "ax4.set_ylabel('Change in welfare')\n",
    "ax5.set_ylabel('Tax rates')\n",
    "ax6.set_ylabel('Maximum export subsidy \\nrelative to cost')\n",
    "\n",
    "df1=df[(df['tax_sce']=='Unilateral') & (df['region_scenario']==3)]\n",
    "l1,=ax1.plot(df1['varphi'],df1['Qeworld_prime'], color='C0',linewidth=1)\n",
    "ax2.plot(df1['varphi'],df1['pe'], color='C0',linewidth=1)\n",
    "ax3.plot(df1['varphi'],df1['jxbar_prime'], color='C0',linewidth=1)\n",
    "ax4.plot(df1['varphi'],df1['welfare'], color='C0',linewidth=1)\n",
    "ax5.plot(df1['varphi'],df1['tb'], color='C0',linewidth=1)\n",
    "ax6.plot(df1['varphi'],df1['subsidy_ratio'], color='C0',linewidth=1)\n",
    "\n",
    "\n",
    "#plt.savefig('../plots/fig1_big.pdf', format='PDF')"
   ]
  },
  {
   "cell_type": "code",
   "execution_count": 33,
   "id": "36149e47-a700-4d6f-be5b-35d9d7e871f1",
   "metadata": {},
   "outputs": [
    {
     "data": {
      "text/plain": [
       "[<matplotlib.lines.Line2D at 0x270ef4072b0>]"
      ]
     },
     "execution_count": 33,
     "metadata": {},
     "output_type": "execute_result"
    },
    {
     "data": {
      "image/png": "[encoded data removed]",
      "text/plain": [
       "<Figure size 432x288 with 6 Axes>"
      ]
     },
     "metadata": {
      "needs_background": "light"
     },
     "output_type": "display_data"
    }
   ],
   "source": [
    "fig, ((ax1, ax2, ax3), (ax4, ax5, ax6)) = plt.subplots(2, 3)\n",
    "ax1.set_position([.1, .6, .2, .35])\n",
    "ax2.set_position([.425, .6, .2, .35])\n",
    "ax3.set_position([.75, .6, .2, .35])\n",
    "ax4.set_position([.1, .15, .2, .35])\n",
    "ax5.set_position([.425, .15, .2, .35])\n",
    "ax6.set_position([.75, .15, .2, .35])\n",
    "\n",
    "\n",
    "for ax in fig.get_axes():\n",
    "    #ax.set_xlim(0,10)\n",
    "    ax.spines[\"top\"].set_visible(False)   \n",
    "    ax.spines[\"bottom\"].set_visible(True)    \n",
    "    ax.spines[\"right\"].set_visible(False)    \n",
    "    ax.spines[\"left\"].set_visible(False)\n",
    "    \n",
    "ax1.set_ylabel('Cestar_prime')\n",
    "ax2.set_ylabel('Ce_prime')\n",
    "ax3.set_ylabel('Qestar_prime')\n",
    "ax4.set_ylabel('Qe_prime')\n",
    "ax5.set_ylabel('CeFH_prime')\n",
    "ax6.set_ylabel('CeHF_prime')\n",
    "\n",
    "df1=df[(df['tax_sce']=='Unilateral') & (df['region_scenario']==3)]\n",
    "l1,=ax1.plot(df1['varphi'],df1['Cestar_prime'], color='C0',linewidth=1)\n",
    "ax2.plot(df1['varphi'],df1['Ce_prime'], color='C0',linewidth=1)\n",
    "ax3.plot(df1['varphi'],df1['Qestar_prime'], color='C0',linewidth=1)\n",
    "ax4.plot(df1['varphi'],df1['Qe_prime'], color='C0',linewidth=1)\n",
    "#ax5.plot(df1['varphi'],df1['CeHH_prime'], color='C0',linewidth=1)\n",
    "ax5.plot(df1['varphi'],df1['CeFH_prime'], color='C0',linewidth=1)\n",
    "ax6.plot(df1['varphi'],df1['CeHF_prime'], color='C0',linewidth=1)\n",
    "\n",
    "\n",
    "#plt.savefig('../plots/fig1_othervar.pdf', format='PDF')"
   ]
  },
  {
   "cell_type": "code",
   "execution_count": 24,
   "id": "77ae4b35-658f-4794-8f40-6ceb66b925f6",
   "metadata": {},
   "outputs": [
    {
     "data": {
      "text/plain": [
       "[<matplotlib.lines.Line2D at 0x270ede52400>]"
      ]
     },
     "execution_count": 24,
     "metadata": {},
     "output_type": "execute_result"
    },
    {
     "data": {
      "image/png": "[encoded data removed]",
      "text/plain": [
       "<Figure size 432x288 with 1 Axes>"
      ]
     },
     "metadata": {
      "needs_background": "light"
     },
     "output_type": "display_data"
    }
   ],
   "source": [
    "plt.plot(df1['varphi'],df1['pe'], color='C0',linewidth=1)"
   ]
  },
  {
   "cell_type": "code",
   "execution_count": 25,
   "id": "5c6e0b69-8e57-4c45-af14-8ac68a18e3ed",
   "metadata": {},
   "outputs": [
    {
     "data": {
      "text/plain": [
       "[<matplotlib.lines.Line2D at 0x270edeb2490>]"
      ]
     },
     "execution_count": 25,
     "metadata": {},
     "output_type": "execute_result"
    },
    {
     "data": {
      "image/png": "[encoded data removed]",
      "text/plain": [
       "<Figure size 432x288 with 1 Axes>"
      ]
     },
     "metadata": {
      "needs_background": "light"
     },
     "output_type": "display_data"
    }
   ],
   "source": [
    "plt.plot(df1['varphi'],df1['CeFF_prime'], color='C0',linewidth=1)"
   ]
  },
  {
   "cell_type": "code",
   "execution_count": 26,
   "id": "11be0ccf-f3e3-4fc3-878d-bda79bcb810e",
   "metadata": {},
   "outputs": [
    {
     "data": {
      "text/plain": [
       "[<matplotlib.lines.Line2D at 0x270edf0df70>]"
      ]
     },
     "execution_count": 26,
     "metadata": {},
     "output_type": "execute_result"
    },
    {
     "data": {
      "image/png": "[encoded data removed]",
      "text/plain": [
       "<Figure size 432x288 with 1 Axes>"
      ]
     },
     "metadata": {
      "needs_background": "light"
     },
     "output_type": "display_data"
    }
   ],
   "source": [
    "plt.plot(df1['varphi'],df1['CeHH_prime'], color='C0',linewidth=1)"
   ]
  },
  {
   "cell_type": "code",
   "execution_count": 34,
   "id": "a0fce5a1-0813-427a-a2f6-633cc9a21ca0",
   "metadata": {},
   "outputs": [
    {
     "data": {
      "text/plain": [
       "[<matplotlib.lines.Line2D at 0x270ef4a5c10>]"
      ]
     },
     "execution_count": 34,
     "metadata": {},
     "output_type": "execute_result"
    },
    {
     "data": {
      "image/png": "[encoded data removed]",
      "text/plain": [
       "<Figure size 432x288 with 1 Axes>"
      ]
     },
     "metadata": {
      "needs_background": "light"
     },
     "output_type": "display_data"
    }
   ],
   "source": [
    "plt.plot(df1['varphi'],df1['Qeworld_prime'], color='C0',linewidth=1)"
   ]
  },
  {
   "cell_type": "code",
   "execution_count": null,
   "id": "071a0731-6ea1-4da6-ad8a-5fc203514d1f",
   "metadata": {},
   "outputs": [],
   "source": []
  }
 ],
 "metadata": {
  "kernelspec": {
   "display_name": "Python 3 (ipykernel)",
   "language": "python",
   "name": "python3"
  },
  "language_info": {
   "codemirror_mode": {
    "name": "ipython",
    "version": 3
   },
   "file_extension": ".py",
   "mimetype": "text/x-python",
   "name": "python",
   "nbconvert_exporter": "python",
   "pygments_lexer": "ipython3",
   "version": "3.9.5"
  }
 },
 "nbformat": 4,
 "nbformat_minor": 5
}
