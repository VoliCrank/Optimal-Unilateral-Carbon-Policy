{
 "cells": [
  {
   "cell_type": "code",
   "execution_count": 7,
   "id": "c170a249-400c-4a6c-b1f3-a1e8f9ce60ff",
   "metadata": {},
   "outputs": [],
   "source": [
    "import pandas as pd\n",
    "import matplotlib as mpl\n",
    "import matplotlib.pyplot as plt\n",
    "import numpy as np\n",
    "from matplotlib.ticker import FormatStrFormatter\n",
    "import matplotlib.font_manager as fm\n",
    "import palettable"
   ]
  },
  {
   "cell_type": "code",
   "execution_count": 43,
   "id": "ea735dcf-f6ec-44e7-bd1f-bddbbd763557",
   "metadata": {},
   "outputs": [],
   "source": [
    "df = pd.read_csv('../output/convergent.csv')\n",
    "region = 4"
   ]
  },
  {
   "cell_type": "code",
   "execution_count": 44,
   "id": "9e8c7362-e654-4d6e-a5ae-0e5348c212f1",
   "metadata": {},
   "outputs": [
    {
     "data": {
      "text/html": [
       "<div>\n",
       "<style scoped>\n",
       "    .dataframe tbody tr th:only-of-type {\n",
       "        vertical-align: middle;\n",
       "    }\n",
       "\n",
       "    .dataframe tbody tr th {\n",
       "        vertical-align: top;\n",
       "    }\n",
       "\n",
       "    .dataframe thead th {\n",
       "        text-align: right;\n",
       "    }\n",
       "</style>\n",
       "<table border=\"1\" class=\"dataframe\">\n",
       "  <thead>\n",
       "    <tr style=\"text-align: right;\">\n",
       "      <th></th>\n",
       "      <th>Unnamed: 0</th>\n",
       "      <th>tax_sce</th>\n",
       "      <th>regionbase</th>\n",
       "      <th>pe</th>\n",
       "      <th>tb</th>\n",
       "      <th>region</th>\n",
       "      <th>varphi</th>\n",
       "      <th>jxbar_prime</th>\n",
       "      <th>jmbar_prime</th>\n",
       "      <th>j0_prime</th>\n",
       "      <th>...</th>\n",
       "      <th>leakage2</th>\n",
       "      <th>leakage3</th>\n",
       "      <th>chg_extraction</th>\n",
       "      <th>chg_production</th>\n",
       "      <th>chg_consumption</th>\n",
       "      <th>chg_Qeworld</th>\n",
       "      <th>pai_g</th>\n",
       "      <th>subsidy_ratio</th>\n",
       "      <th>welfare</th>\n",
       "      <th>welfare_noexternality</th>\n",
       "    </tr>\n",
       "  </thead>\n",
       "  <tbody>\n",
       "    <tr>\n",
       "      <th>0</th>\n",
       "      <td>0</td>\n",
       "      <td>Unilateral</td>\n",
       "      <td>US as Home</td>\n",
       "      <td>1.000000</td>\n",
       "      <td>0.000000</td>\n",
       "      <td>1</td>\n",
       "      <td>0.0</td>\n",
       "      <td>0.015921</td>\n",
       "      <td>0.793579</td>\n",
       "      <td>0.015921</td>\n",
       "      <td>...</td>\n",
       "      <td>0.000000</td>\n",
       "      <td>-1.287500</td>\n",
       "      <td>0.000000</td>\n",
       "      <td>0.000000</td>\n",
       "      <td>0.000001</td>\n",
       "      <td>8.000000e-07</td>\n",
       "      <td>0.000000</td>\n",
       "      <td>0.000000</td>\n",
       "      <td>-0.000003</td>\n",
       "      <td>-0.000003</td>\n",
       "    </tr>\n",
       "    <tr>\n",
       "      <th>1</th>\n",
       "      <td>7</td>\n",
       "      <td>Unilateral</td>\n",
       "      <td>US as Home</td>\n",
       "      <td>0.998753</td>\n",
       "      <td>0.034740</td>\n",
       "      <td>1</td>\n",
       "      <td>0.1</td>\n",
       "      <td>0.015925</td>\n",
       "      <td>0.793579</td>\n",
       "      <td>0.015602</td>\n",
       "      <td>...</td>\n",
       "      <td>-0.037656</td>\n",
       "      <td>0.111829</td>\n",
       "      <td>-0.017332</td>\n",
       "      <td>-0.006359</td>\n",
       "      <td>0.018885</td>\n",
       "      <td>-1.688705e-01</td>\n",
       "      <td>-0.094139</td>\n",
       "      <td>0.005190</td>\n",
       "      <td>0.021790</td>\n",
       "      <td>-0.021925</td>\n",
       "    </tr>\n",
       "    <tr>\n",
       "      <th>2</th>\n",
       "      <td>14</td>\n",
       "      <td>Unilateral</td>\n",
       "      <td>US as Home</td>\n",
       "      <td>0.997897</td>\n",
       "      <td>0.069416</td>\n",
       "      <td>1</td>\n",
       "      <td>0.2</td>\n",
       "      <td>0.015939</td>\n",
       "      <td>0.793579</td>\n",
       "      <td>0.015301</td>\n",
       "      <td>...</td>\n",
       "      <td>-0.062304</td>\n",
       "      <td>0.084225</td>\n",
       "      <td>-0.029245</td>\n",
       "      <td>-0.020999</td>\n",
       "      <td>0.028387</td>\n",
       "      <td>-3.370401e-01</td>\n",
       "      <td>-0.189194</td>\n",
       "      <td>0.010327</td>\n",
       "      <td>0.087318</td>\n",
       "      <td>-0.087179</td>\n",
       "    </tr>\n",
       "    <tr>\n",
       "      <th>3</th>\n",
       "      <td>21</td>\n",
       "      <td>Unilateral</td>\n",
       "      <td>US as Home</td>\n",
       "      <td>0.997417</td>\n",
       "      <td>0.104077</td>\n",
       "      <td>1</td>\n",
       "      <td>0.3</td>\n",
       "      <td>0.015961</td>\n",
       "      <td>0.793579</td>\n",
       "      <td>0.015014</td>\n",
       "      <td>...</td>\n",
       "      <td>-0.086713</td>\n",
       "      <td>0.056840</td>\n",
       "      <td>-0.035918</td>\n",
       "      <td>-0.043803</td>\n",
       "      <td>0.028713</td>\n",
       "      <td>-5.051476e-01</td>\n",
       "      <td>-0.285268</td>\n",
       "      <td>0.015411</td>\n",
       "      <td>0.196201</td>\n",
       "      <td>-0.196095</td>\n",
       "    </tr>\n",
       "    <tr>\n",
       "      <th>4</th>\n",
       "      <td>28</td>\n",
       "      <td>Unilateral</td>\n",
       "      <td>US as Home</td>\n",
       "      <td>0.997303</td>\n",
       "      <td>0.138760</td>\n",
       "      <td>1</td>\n",
       "      <td>0.4</td>\n",
       "      <td>0.015991</td>\n",
       "      <td>0.793579</td>\n",
       "      <td>0.014741</td>\n",
       "      <td>...</td>\n",
       "      <td>-0.110742</td>\n",
       "      <td>0.029776</td>\n",
       "      <td>-0.037512</td>\n",
       "      <td>-0.074634</td>\n",
       "      <td>0.020067</td>\n",
       "      <td>-6.739415e-01</td>\n",
       "      <td>-0.382428</td>\n",
       "      <td>0.020444</td>\n",
       "      <td>0.349017</td>\n",
       "      <td>-0.348824</td>\n",
       "    </tr>\n",
       "    <tr>\n",
       "      <th>...</th>\n",
       "      <td>...</td>\n",
       "      <td>...</td>\n",
       "      <td>...</td>\n",
       "      <td>...</td>\n",
       "      <td>...</td>\n",
       "      <td>...</td>\n",
       "      <td>...</td>\n",
       "      <td>...</td>\n",
       "      <td>...</td>\n",
       "      <td>...</td>\n",
       "      <td>...</td>\n",
       "      <td>...</td>\n",
       "      <td>...</td>\n",
       "      <td>...</td>\n",
       "      <td>...</td>\n",
       "      <td>...</td>\n",
       "      <td>...</td>\n",
       "      <td>...</td>\n",
       "      <td>...</td>\n",
       "      <td>...</td>\n",
       "      <td>...</td>\n",
       "    </tr>\n",
       "    <tr>\n",
       "      <th>4136</th>\n",
       "      <td>4122</td>\n",
       "      <td>Unilateral</td>\n",
       "      <td>US and EU as Home</td>\n",
       "      <td>0.001638</td>\n",
       "      <td>344.791743</td>\n",
       "      <td>7</td>\n",
       "      <td>975.0</td>\n",
       "      <td>1.000000</td>\n",
       "      <td>0.792003</td>\n",
       "      <td>0.000022</td>\n",
       "      <td>...</td>\n",
       "      <td>-0.762831</td>\n",
       "      <td>-0.688019</td>\n",
       "      <td>-25.773033</td>\n",
       "      <td>-23.791831</td>\n",
       "      <td>-21.458513</td>\n",
       "      <td>-3.118886e+01</td>\n",
       "      <td>-1717.561319</td>\n",
       "      <td>0.999968</td>\n",
       "      <td>43907.030150</td>\n",
       "      <td>-2834.810669</td>\n",
       "    </tr>\n",
       "    <tr>\n",
       "      <th>4137</th>\n",
       "      <td>4129</td>\n",
       "      <td>Unilateral</td>\n",
       "      <td>US and EU as Home</td>\n",
       "      <td>0.001627</td>\n",
       "      <td>346.524106</td>\n",
       "      <td>7</td>\n",
       "      <td>980.0</td>\n",
       "      <td>1.000000</td>\n",
       "      <td>0.792003</td>\n",
       "      <td>0.000022</td>\n",
       "      <td>...</td>\n",
       "      <td>-0.762744</td>\n",
       "      <td>-0.688050</td>\n",
       "      <td>-25.776627</td>\n",
       "      <td>-23.791861</td>\n",
       "      <td>-21.461966</td>\n",
       "      <td>-3.119245e+01</td>\n",
       "      <td>-1726.215995</td>\n",
       "      <td>0.999969</td>\n",
       "      <td>44146.745650</td>\n",
       "      <td>-2840.211224</td>\n",
       "    </tr>\n",
       "    <tr>\n",
       "      <th>4138</th>\n",
       "      <td>4136</td>\n",
       "      <td>Unilateral</td>\n",
       "      <td>US and EU as Home</td>\n",
       "      <td>0.001617</td>\n",
       "      <td>348.256275</td>\n",
       "      <td>7</td>\n",
       "      <td>985.0</td>\n",
       "      <td>1.000000</td>\n",
       "      <td>0.792003</td>\n",
       "      <td>0.000022</td>\n",
       "      <td>...</td>\n",
       "      <td>-0.762658</td>\n",
       "      <td>-0.688081</td>\n",
       "      <td>-25.780192</td>\n",
       "      <td>-23.791890</td>\n",
       "      <td>-21.465390</td>\n",
       "      <td>-3.119602e+01</td>\n",
       "      <td>-1734.869706</td>\n",
       "      <td>0.999969</td>\n",
       "      <td>44386.488850</td>\n",
       "      <td>-2845.594060</td>\n",
       "    </tr>\n",
       "    <tr>\n",
       "      <th>4139</th>\n",
       "      <td>4143</td>\n",
       "      <td>Unilateral</td>\n",
       "      <td>US and EU as Home</td>\n",
       "      <td>0.001606</td>\n",
       "      <td>349.988425</td>\n",
       "      <td>7</td>\n",
       "      <td>990.0</td>\n",
       "      <td>1.000000</td>\n",
       "      <td>0.792003</td>\n",
       "      <td>0.000022</td>\n",
       "      <td>...</td>\n",
       "      <td>-0.762572</td>\n",
       "      <td>-0.688112</td>\n",
       "      <td>-25.783726</td>\n",
       "      <td>-23.791918</td>\n",
       "      <td>-21.468786</td>\n",
       "      <td>-3.119955e+01</td>\n",
       "      <td>-1743.523320</td>\n",
       "      <td>0.999969</td>\n",
       "      <td>44626.259090</td>\n",
       "      <td>-2850.959333</td>\n",
       "    </tr>\n",
       "    <tr>\n",
       "      <th>4140</th>\n",
       "      <td>4150</td>\n",
       "      <td>Unilateral</td>\n",
       "      <td>US and EU as Home</td>\n",
       "      <td>0.001596</td>\n",
       "      <td>351.720361</td>\n",
       "      <td>7</td>\n",
       "      <td>995.0</td>\n",
       "      <td>1.000000</td>\n",
       "      <td>0.792003</td>\n",
       "      <td>0.000021</td>\n",
       "      <td>...</td>\n",
       "      <td>-0.762488</td>\n",
       "      <td>-0.688143</td>\n",
       "      <td>-25.787232</td>\n",
       "      <td>-23.791947</td>\n",
       "      <td>-21.472154</td>\n",
       "      <td>-3.120306e+01</td>\n",
       "      <td>-1752.175867</td>\n",
       "      <td>0.999970</td>\n",
       "      <td>44866.056630</td>\n",
       "      <td>-2856.307178</td>\n",
       "    </tr>\n",
       "  </tbody>\n",
       "</table>\n",
       "<p>4141 rows × 46 columns</p>\n",
       "</div>"
      ],
      "text/plain": [
       "      Unnamed: 0     tax_sce         regionbase        pe          tb  region  \\\n",
       "0              0  Unilateral         US as Home  1.000000    0.000000       1   \n",
       "1              7  Unilateral         US as Home  0.998753    0.034740       1   \n",
       "2             14  Unilateral         US as Home  0.997897    0.069416       1   \n",
       "3             21  Unilateral         US as Home  0.997417    0.104077       1   \n",
       "4             28  Unilateral         US as Home  0.997303    0.138760       1   \n",
       "...          ...         ...                ...       ...         ...     ...   \n",
       "4136        4122  Unilateral  US and EU as Home  0.001638  344.791743       7   \n",
       "4137        4129  Unilateral  US and EU as Home  0.001627  346.524106       7   \n",
       "4138        4136  Unilateral  US and EU as Home  0.001617  348.256275       7   \n",
       "4139        4143  Unilateral  US and EU as Home  0.001606  349.988425       7   \n",
       "4140        4150  Unilateral  US and EU as Home  0.001596  351.720361       7   \n",
       "\n",
       "      varphi  jxbar_prime  jmbar_prime  j0_prime  ...  leakage2  leakage3  \\\n",
       "0        0.0     0.015921     0.793579  0.015921  ...  0.000000 -1.287500   \n",
       "1        0.1     0.015925     0.793579  0.015602  ... -0.037656  0.111829   \n",
       "2        0.2     0.015939     0.793579  0.015301  ... -0.062304  0.084225   \n",
       "3        0.3     0.015961     0.793579  0.015014  ... -0.086713  0.056840   \n",
       "4        0.4     0.015991     0.793579  0.014741  ... -0.110742  0.029776   \n",
       "...      ...          ...          ...       ...  ...       ...       ...   \n",
       "4136   975.0     1.000000     0.792003  0.000022  ... -0.762831 -0.688019   \n",
       "4137   980.0     1.000000     0.792003  0.000022  ... -0.762744 -0.688050   \n",
       "4138   985.0     1.000000     0.792003  0.000022  ... -0.762658 -0.688081   \n",
       "4139   990.0     1.000000     0.792003  0.000022  ... -0.762572 -0.688112   \n",
       "4140   995.0     1.000000     0.792003  0.000021  ... -0.762488 -0.688143   \n",
       "\n",
       "      chg_extraction  chg_production  chg_consumption   chg_Qeworld  \\\n",
       "0           0.000000        0.000000         0.000001  8.000000e-07   \n",
       "1          -0.017332       -0.006359         0.018885 -1.688705e-01   \n",
       "2          -0.029245       -0.020999         0.028387 -3.370401e-01   \n",
       "3          -0.035918       -0.043803         0.028713 -5.051476e-01   \n",
       "4          -0.037512       -0.074634         0.020067 -6.739415e-01   \n",
       "...              ...             ...              ...           ...   \n",
       "4136      -25.773033      -23.791831       -21.458513 -3.118886e+01   \n",
       "4137      -25.776627      -23.791861       -21.461966 -3.119245e+01   \n",
       "4138      -25.780192      -23.791890       -21.465390 -3.119602e+01   \n",
       "4139      -25.783726      -23.791918       -21.468786 -3.119955e+01   \n",
       "4140      -25.787232      -23.791947       -21.472154 -3.120306e+01   \n",
       "\n",
       "            pai_g  subsidy_ratio       welfare  welfare_noexternality  \n",
       "0        0.000000       0.000000     -0.000003              -0.000003  \n",
       "1       -0.094139       0.005190      0.021790              -0.021925  \n",
       "2       -0.189194       0.010327      0.087318              -0.087179  \n",
       "3       -0.285268       0.015411      0.196201              -0.196095  \n",
       "4       -0.382428       0.020444      0.349017              -0.348824  \n",
       "...           ...            ...           ...                    ...  \n",
       "4136 -1717.561319       0.999968  43907.030150           -2834.810669  \n",
       "4137 -1726.215995       0.999969  44146.745650           -2840.211224  \n",
       "4138 -1734.869706       0.999969  44386.488850           -2845.594060  \n",
       "4139 -1743.523320       0.999969  44626.259090           -2850.959333  \n",
       "4140 -1752.175867       0.999970  44866.056630           -2856.307178  \n",
       "\n",
       "[4141 rows x 46 columns]"
      ]
     },
     "execution_count": 44,
     "metadata": {},
     "output_type": "execute_result"
    }
   ],
   "source": [
    "df"
   ]
  },
  {
   "cell_type": "code",
   "execution_count": 45,
   "id": "979f3884-7f80-46f4-b177-7ddcbfd4907d",
   "metadata": {},
   "outputs": [
    {
     "data": {
      "text/plain": [
       "[<matplotlib.axis.YTick at 0x1d7e0abfa30>,\n",
       " <matplotlib.axis.YTick at 0x1d7e0abf2b0>,\n",
       " <matplotlib.axis.YTick at 0x1d7e0ab91c0>,\n",
       " <matplotlib.axis.YTick at 0x1d7e0b01190>]"
      ]
     },
     "execution_count": 45,
     "metadata": {},
     "output_type": "execute_result"
    },
    {
     "data": {
      "image/png": "[encoded data removed]",
      "text/plain": [
       "<Figure size 432x288 with 6 Axes>"
      ]
     },
     "metadata": {
      "needs_background": "light"
     },
     "output_type": "display_data"
    }
   ],
   "source": [
    "fig, ((ax1, ax2, ax3), (ax4, ax5, ax6)) = plt.subplots(2, 3)\n",
    "ax1.set_position([.1, .6, .2, .35])\n",
    "ax2.set_position([.425, .6, .2, .35])\n",
    "ax3.set_position([.75, .6, .2, .35])\n",
    "ax4.set_position([.1, .15, .2, .35])\n",
    "ax5.set_position([.425, .15, .2, .35])\n",
    "ax6.set_position([.75, .15, .2, .35])\n",
    "\n",
    "\n",
    "for ax in fig.get_axes():\n",
    "    ax.set_xlim(0,2)\n",
    "    ax.spines[\"top\"].set_visible(False)   \n",
    "    ax.spines[\"bottom\"].set_visible(True)    \n",
    "    ax.spines[\"right\"].set_visible(False)    \n",
    "    ax.spines[\"left\"].set_visible(False)\n",
    "    \n",
    "ax1.set_ylabel('Global emissions \\n(gigatonnes of CO2)')\n",
    "ax2.set_ylabel('Energy price')\n",
    "ax3.set_ylabel('Export margin')\n",
    "ax4.set_ylabel('Change in welfare')\n",
    "ax5.set_ylabel('Tax rates')\n",
    "ax6.set_ylabel('Maximum export subsidy \\nrelative to cost')\n",
    "\n",
    "df1=df[(df['tax_sce']=='Unilateral') & (df['region']==region)]\n",
    "l1,=ax1.plot(df1['varphi'],df1['Qeworld_prime'], color='C0',linewidth=1)\n",
    "ax2.plot(df1['varphi'],df1['pe'], color='C0',linewidth=1)\n",
    "ax3.plot(df1['varphi'],df1['jxbar_prime'], color='C0',linewidth=1)\n",
    "ax4.plot(df1['varphi'],df1['welfare'], color='C0',linewidth=1)\n",
    "ax5.plot(df1['varphi'],df1['tb'], color='C0',linewidth=1)\n",
    "ax6.plot(df1['varphi'],df1['subsidy_ratio'], color='C0',linewidth=1)\n",
    "\n",
    "ax1.set_ylim(24, 34)\n",
    "ax2.set_ylim(0.9, 1.1)\n",
    "ax3.set_ylim(0.045, 0.065)\n",
    "ax4.set_ylim(0, 10)\n",
    "ax5.set_ylim(0, 2)\n",
    "ax6.set_ylim(0, 0.2)\n",
    "\n",
    "ax1.set_yticks([24,26,28,30,32])\n",
    "ax2.set_yticks([0.9,0.95,1.0,1.05])\n",
    "ax3.set_yticks([0.045, 0.050, 0.055, 0.060])\n",
    "ax4.set_yticks([0,2,4,6,8])\n",
    "ax5.set_yticks([0,0.5,1,1.5])\n",
    "ax6.set_yticks([0,0.05,0.1,0.15])\n",
    "\n",
    "#plt.savefig('../plots/fig1_new.pdf', format='PDF')"
   ]
  },
  {
   "cell_type": "code",
   "execution_count": 46,
   "id": "1509ed8e-1f30-486f-a877-4456a346da4a",
   "metadata": {},
   "outputs": [
    {
     "data": {
      "text/plain": [
       "[<matplotlib.lines.Line2D at 0x1d7e0ca4910>]"
      ]
     },
     "execution_count": 46,
     "metadata": {},
     "output_type": "execute_result"
    },
    {
     "data": {
      "image/png": "[encoded data removed]",
      "text/plain": [
       "<Figure size 432x288 with 6 Axes>"
      ]
     },
     "metadata": {
      "needs_background": "light"
     },
     "output_type": "display_data"
    }
   ],
   "source": [
    "fig, ((ax1, ax2, ax3), (ax4, ax5, ax6)) = plt.subplots(2, 3)\n",
    "ax1.set_position([.1, .6, .2, .35])\n",
    "ax2.set_position([.425, .6, .2, .35])\n",
    "ax3.set_position([.75, .6, .2, .35])\n",
    "ax4.set_position([.1, .15, .2, .35])\n",
    "ax5.set_position([.425, .15, .2, .35])\n",
    "ax6.set_position([.75, .15, .2, .35])\n",
    "\n",
    "\n",
    "for ax in fig.get_axes():\n",
    "    #ax.set_xlim(0,20)\n",
    "    ax.spines[\"top\"].set_visible(False)   \n",
    "    ax.spines[\"bottom\"].set_visible(True)    \n",
    "    ax.spines[\"right\"].set_visible(False)    \n",
    "    ax.spines[\"left\"].set_visible(False)\n",
    "    \n",
    "ax1.set_ylabel('Global emissions \\n(gigatonnes of CO2)')\n",
    "ax2.set_ylabel('Energy price')\n",
    "ax3.set_ylabel('Export margin')\n",
    "ax4.set_ylabel('Change in welfare')\n",
    "ax5.set_ylabel('Tax rates')\n",
    "ax6.set_ylabel('Maximum export subsidy \\nrelative to cost')\n",
    "\n",
    "df1=df[(df['tax_sce']=='Unilateral') & (df['region']==region)]\n",
    "l1,=ax1.plot(df1['varphi'],df1['Qeworld_prime'], color='C0',linewidth=1)\n",
    "ax2.plot(df1['varphi'],df1['pe'], color='C0',linewidth=1)\n",
    "ax3.plot(df1['varphi'],df1['jxbar_prime'], color='C0',linewidth=1)\n",
    "ax4.plot(df1['varphi'],df1['welfare'], color='C0',linewidth=1)\n",
    "ax5.plot(df1['varphi'],df1['tb'], color='C0',linewidth=1)\n",
    "ax6.plot(df1['varphi'],df1['subsidy_ratio'], color='C0',linewidth=1)\n",
    "\n",
    "\n",
    "#plt.savefig('../plots/fig1_big.pdf', format='PDF')"
   ]
  },
  {
   "cell_type": "code",
   "execution_count": 47,
   "id": "36149e47-a700-4d6f-be5b-35d9d7e871f1",
   "metadata": {},
   "outputs": [
    {
     "data": {
      "text/plain": [
       "[<matplotlib.lines.Line2D at 0x1d7e0e81880>]"
      ]
     },
     "execution_count": 47,
     "metadata": {},
     "output_type": "execute_result"
    },
    {
     "data": {
      "image/png": "[encoded data removed]",
      "text/plain": [
       "<Figure size 432x288 with 6 Axes>"
      ]
     },
     "metadata": {
      "needs_background": "light"
     },
     "output_type": "display_data"
    }
   ],
   "source": [
    "fig, ((ax1, ax2, ax3), (ax4, ax5, ax6)) = plt.subplots(2, 3)\n",
    "ax1.set_position([.1, .6, .2, .35])\n",
    "ax2.set_position([.425, .6, .2, .35])\n",
    "ax3.set_position([.75, .6, .2, .35])\n",
    "ax4.set_position([.1, .15, .2, .35])\n",
    "ax5.set_position([.425, .15, .2, .35])\n",
    "ax6.set_position([.75, .15, .2, .35])\n",
    "\n",
    "\n",
    "for ax in fig.get_axes():\n",
    "    #ax.set_xlim(0,10)\n",
    "    ax.spines[\"top\"].set_visible(False)   \n",
    "    ax.spines[\"bottom\"].set_visible(True)    \n",
    "    ax.spines[\"right\"].set_visible(False)    \n",
    "    ax.spines[\"left\"].set_visible(False)\n",
    "    \n",
    "ax1.set_ylabel('Cestar_prime')\n",
    "ax2.set_ylabel('Ce_prime')\n",
    "ax3.set_ylabel('Qestar_prime')\n",
    "ax4.set_ylabel('Qe_prime')\n",
    "ax5.set_ylabel('CeFH_prime')\n",
    "ax6.set_ylabel('CeHF_prime')\n",
    "\n",
    "df1=df[(df['tax_sce']=='Unilateral') & (df['region']==region)]\n",
    "l1,=ax1.plot(df1['varphi'],df1['Cestar_prime'], color='C0',linewidth=1)\n",
    "ax2.plot(df1['varphi'],df1['Ce_prime'], color='C0',linewidth=1)\n",
    "ax3.plot(df1['varphi'],df1['Qestar_prime'], color='C0',linewidth=1)\n",
    "ax4.plot(df1['varphi'],df1['Qe_prime'], color='C0',linewidth=1)\n",
    "#ax5.plot(df1['varphi'],df1['CeHH_prime'], color='C0',linewidth=1)\n",
    "ax5.plot(df1['varphi'],df1['CeFH_prime'], color='C0',linewidth=1)\n",
    "ax6.plot(df1['varphi'],df1['CeHF_prime'], color='C0',linewidth=1)\n",
    "\n",
    "\n",
    "#plt.savefig('../plots/fig1_othervar.pdf', format='PDF')"
   ]
  },
  {
   "cell_type": "code",
   "execution_count": 48,
   "id": "77ae4b35-658f-4794-8f40-6ceb66b925f6",
   "metadata": {},
   "outputs": [
    {
     "data": {
      "text/plain": [
       "[<matplotlib.lines.Line2D at 0x1d7e0f29c70>]"
      ]
     },
     "execution_count": 48,
     "metadata": {},
     "output_type": "execute_result"
    },
    {
     "data": {
      "image/png": "[encoded data removed]",
      "text/plain": [
       "<Figure size 432x288 with 1 Axes>"
      ]
     },
     "metadata": {
      "needs_background": "light"
     },
     "output_type": "display_data"
    }
   ],
   "source": [
    "plt.plot(df1['varphi'],df1['pe'], color='C0',linewidth=1)"
   ]
  },
  {
   "cell_type": "code",
   "execution_count": 49,
   "id": "5c6e0b69-8e57-4c45-af14-8ac68a18e3ed",
   "metadata": {},
   "outputs": [
    {
     "data": {
      "text/plain": [
       "[<matplotlib.lines.Line2D at 0x1d7e0f961f0>]"
      ]
     },
     "execution_count": 49,
     "metadata": {},
     "output_type": "execute_result"
    },
    {
     "data": {
      "image/png": "[encoded data removed]",
      "text/plain": [
       "<Figure size 432x288 with 1 Axes>"
      ]
     },
     "metadata": {
      "needs_background": "light"
     },
     "output_type": "display_data"
    }
   ],
   "source": [
    "plt.plot(df1['varphi'],df1['CeFF_prime'], color='C0',linewidth=1)"
   ]
  },
  {
   "cell_type": "code",
   "execution_count": 50,
   "id": "11be0ccf-f3e3-4fc3-878d-bda79bcb810e",
   "metadata": {},
   "outputs": [
    {
     "data": {
      "text/plain": [
       "[<matplotlib.lines.Line2D at 0x1d7e0ff1ee0>]"
      ]
     },
     "execution_count": 50,
     "metadata": {},
     "output_type": "execute_result"
    },
    {
     "data": {
      "image/png": "[encoded data removed]",
      "text/plain": [
       "<Figure size 432x288 with 1 Axes>"
      ]
     },
     "metadata": {
      "needs_background": "light"
     },
     "output_type": "display_data"
    }
   ],
   "source": [
    "plt.plot(df1['varphi'],df1['CeHH_prime'], color='C0',linewidth=1)"
   ]
  },
  {
   "cell_type": "code",
   "execution_count": 51,
   "id": "a0fce5a1-0813-427a-a2f6-633cc9a21ca0",
   "metadata": {},
   "outputs": [
    {
     "data": {
      "text/plain": [
       "[<matplotlib.lines.Line2D at 0x1d7e1059580>]"
      ]
     },
     "execution_count": 51,
     "metadata": {},
     "output_type": "execute_result"
    },
    {
     "data": {
      "image/png": "[encoded data removed]",
      "text/plain": [
       "<Figure size 432x288 with 1 Axes>"
      ]
     },
     "metadata": {
      "needs_background": "light"
     },
     "output_type": "display_data"
    }
   ],
   "source": [
    "plt.plot(df1['varphi'],df1['Qeworld_prime'], color='C0',linewidth=1)"
   ]
  },
  {
   "cell_type": "code",
   "execution_count": null,
   "id": "071a0731-6ea1-4da6-ad8a-5fc203514d1f",
   "metadata": {},
   "outputs": [],
   "source": []
  }
 ],
 "metadata": {
  "kernelspec": {
   "display_name": "Python 3 (ipykernel)",
   "language": "python",
   "name": "python3"
  },
  "language_info": {
   "codemirror_mode": {
    "name": "ipython",
    "version": 3
   },
   "file_extension": ".py",
   "mimetype": "text/x-python",
   "name": "python",
   "nbconvert_exporter": "python",
   "pygments_lexer": "ipython3",
   "version": "3.9.5"
  }
 },
 "nbformat": 4,
 "nbformat_minor": 5
}
