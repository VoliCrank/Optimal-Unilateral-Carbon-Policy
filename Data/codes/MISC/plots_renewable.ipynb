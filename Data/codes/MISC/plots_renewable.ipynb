{
 "cells": [
  {
   "cell_type": "code",
   "execution_count": 1,
   "id": "c170a249-400c-4a6c-b1f3-a1e8f9ce60ff",
   "metadata": {},
   "outputs": [],
   "source": [
    "import pandas as pd\n",
    "import matplotlib as mpl\n",
    "import matplotlib.pyplot as plt\n",
    "import numpy as np\n",
    "from matplotlib.ticker import FormatStrFormatter\n",
    "import matplotlib.font_manager as fm\n",
    "import palettable"
   ]
  },
  {
   "cell_type": "code",
   "execution_count": 2,
   "id": "ea735dcf-f6ec-44e7-bd1f-bddbbd763557",
   "metadata": {},
   "outputs": [],
   "source": [
    "df = pd.read_csv('../output/renewable_init.csv')"
   ]
  },
  {
   "cell_type": "code",
   "execution_count": 3,
   "id": "e071cccf-ae79-40f3-86d1-8e0ed072ceb6",
   "metadata": {},
   "outputs": [
    {
     "data": {
      "text/html": [
       "<div>\n",
       "<style scoped>\n",
       "    .dataframe tbody tr th:only-of-type {\n",
       "        vertical-align: middle;\n",
       "    }\n",
       "\n",
       "    .dataframe tbody tr th {\n",
       "        vertical-align: top;\n",
       "    }\n",
       "\n",
       "    .dataframe thead th {\n",
       "        text-align: right;\n",
       "    }\n",
       "</style>\n",
       "<table border=\"1\" class=\"dataframe\">\n",
       "  <thead>\n",
       "    <tr style=\"text-align: right;\">\n",
       "      <th></th>\n",
       "      <th>Unnamed: 0</th>\n",
       "      <th>varphi</th>\n",
       "      <th>pe</th>\n",
       "      <th>tb</th>\n",
       "      <th>jxbar_prime</th>\n",
       "      <th>jmbar_prime</th>\n",
       "      <th>j0_prime</th>\n",
       "      <th>Qe1_prime</th>\n",
       "      <th>Qe2_prime</th>\n",
       "      <th>Qe1star_prime</th>\n",
       "      <th>Qe2star_prime</th>\n",
       "      <th>CeHH_prime</th>\n",
       "      <th>CeFH_prime</th>\n",
       "      <th>CeHF_prime</th>\n",
       "      <th>CeFF_prime</th>\n",
       "    </tr>\n",
       "  </thead>\n",
       "  <tbody>\n",
       "    <tr>\n",
       "      <th>0</th>\n",
       "      <td>0</td>\n",
       "      <td>0.0</td>\n",
       "      <td>0.999999</td>\n",
       "      <td>0.000000</td>\n",
       "      <td>0.015921</td>\n",
       "      <td>0.793579</td>\n",
       "      <td>0.015921</td>\n",
       "      <td>2.480043</td>\n",
       "      <td>1.999998</td>\n",
       "      <td>22.999984</td>\n",
       "      <td>4.795941</td>\n",
       "      <td>4.598409</td>\n",
       "      <td>0.421602</td>\n",
       "      <td>1.196113</td>\n",
       "      <td>26.059911</td>\n",
       "    </tr>\n",
       "    <tr>\n",
       "      <th>1</th>\n",
       "      <td>1</td>\n",
       "      <td>1.0</td>\n",
       "      <td>0.980212</td>\n",
       "      <td>0.334381</td>\n",
       "      <td>0.016293</td>\n",
       "      <td>0.793579</td>\n",
       "      <td>0.013384</td>\n",
       "      <td>1.391022</td>\n",
       "      <td>2.422054</td>\n",
       "      <td>22.771296</td>\n",
       "      <td>4.729314</td>\n",
       "      <td>3.497968</td>\n",
       "      <td>0.329747</td>\n",
       "      <td>0.909872</td>\n",
       "      <td>26.575905</td>\n",
       "    </tr>\n",
       "    <tr>\n",
       "      <th>2</th>\n",
       "      <td>2</td>\n",
       "      <td>2.0</td>\n",
       "      <td>0.980347</td>\n",
       "      <td>0.669129</td>\n",
       "      <td>0.017185</td>\n",
       "      <td>0.793579</td>\n",
       "      <td>0.011701</td>\n",
       "      <td>0.000000</td>\n",
       "      <td>2.839045</td>\n",
       "      <td>22.772873</td>\n",
       "      <td>4.729773</td>\n",
       "      <td>2.787795</td>\n",
       "      <td>0.280613</td>\n",
       "      <td>0.725146</td>\n",
       "      <td>26.548132</td>\n",
       "    </tr>\n",
       "    <tr>\n",
       "      <th>3</th>\n",
       "      <td>3</td>\n",
       "      <td>3.0</td>\n",
       "      <td>0.958467</td>\n",
       "      <td>0.986208</td>\n",
       "      <td>0.018443</td>\n",
       "      <td>0.793579</td>\n",
       "      <td>0.010471</td>\n",
       "      <td>0.000000</td>\n",
       "      <td>3.185832</td>\n",
       "      <td>22.517311</td>\n",
       "      <td>4.655630</td>\n",
       "      <td>2.364613</td>\n",
       "      <td>0.260092</td>\n",
       "      <td>0.615070</td>\n",
       "      <td>27.119429</td>\n",
       "    </tr>\n",
       "    <tr>\n",
       "      <th>4</th>\n",
       "      <td>4</td>\n",
       "      <td>4.0</td>\n",
       "      <td>0.940969</td>\n",
       "      <td>1.296180</td>\n",
       "      <td>0.019988</td>\n",
       "      <td>0.793579</td>\n",
       "      <td>0.009530</td>\n",
       "      <td>0.000000</td>\n",
       "      <td>3.514119</td>\n",
       "      <td>22.310822</td>\n",
       "      <td>4.595969</td>\n",
       "      <td>2.055474</td>\n",
       "      <td>0.250539</td>\n",
       "      <td>0.534659</td>\n",
       "      <td>27.580234</td>\n",
       "    </tr>\n",
       "    <tr>\n",
       "      <th>...</th>\n",
       "      <td>...</td>\n",
       "      <td>...</td>\n",
       "      <td>...</td>\n",
       "      <td>...</td>\n",
       "      <td>...</td>\n",
       "      <td>...</td>\n",
       "      <td>...</td>\n",
       "      <td>...</td>\n",
       "      <td>...</td>\n",
       "      <td>...</td>\n",
       "      <td>...</td>\n",
       "      <td>...</td>\n",
       "      <td>...</td>\n",
       "      <td>...</td>\n",
       "      <td>...</td>\n",
       "    </tr>\n",
       "    <tr>\n",
       "      <th>988</th>\n",
       "      <td>988</td>\n",
       "      <td>995.0</td>\n",
       "      <td>0.000852</td>\n",
       "      <td>21.484272</td>\n",
       "      <td>1.000000</td>\n",
       "      <td>0.793579</td>\n",
       "      <td>0.000037</td>\n",
       "      <td>0.000000</td>\n",
       "      <td>17.120896</td>\n",
       "      <td>0.671312</td>\n",
       "      <td>0.034053</td>\n",
       "      <td>0.214027</td>\n",
       "      <td>17.556531</td>\n",
       "      <td>0.055672</td>\n",
       "      <td>0.000004</td>\n",
       "    </tr>\n",
       "    <tr>\n",
       "      <th>989</th>\n",
       "      <td>989</td>\n",
       "      <td>996.0</td>\n",
       "      <td>0.000851</td>\n",
       "      <td>21.487711</td>\n",
       "      <td>1.000000</td>\n",
       "      <td>0.793579</td>\n",
       "      <td>0.000037</td>\n",
       "      <td>0.000000</td>\n",
       "      <td>17.122814</td>\n",
       "      <td>0.670822</td>\n",
       "      <td>0.034018</td>\n",
       "      <td>0.213993</td>\n",
       "      <td>17.557989</td>\n",
       "      <td>0.055663</td>\n",
       "      <td>0.000004</td>\n",
       "    </tr>\n",
       "    <tr>\n",
       "      <th>990</th>\n",
       "      <td>990</td>\n",
       "      <td>997.0</td>\n",
       "      <td>0.000849</td>\n",
       "      <td>21.491188</td>\n",
       "      <td>1.000000</td>\n",
       "      <td>0.793579</td>\n",
       "      <td>0.000037</td>\n",
       "      <td>0.000000</td>\n",
       "      <td>17.124753</td>\n",
       "      <td>0.670333</td>\n",
       "      <td>0.033983</td>\n",
       "      <td>0.213958</td>\n",
       "      <td>17.559417</td>\n",
       "      <td>0.055654</td>\n",
       "      <td>0.000004</td>\n",
       "    </tr>\n",
       "    <tr>\n",
       "      <th>991</th>\n",
       "      <td>991</td>\n",
       "      <td>998.0</td>\n",
       "      <td>0.000848</td>\n",
       "      <td>21.494634</td>\n",
       "      <td>1.000000</td>\n",
       "      <td>0.793579</td>\n",
       "      <td>0.000037</td>\n",
       "      <td>0.000000</td>\n",
       "      <td>17.126674</td>\n",
       "      <td>0.669845</td>\n",
       "      <td>0.033948</td>\n",
       "      <td>0.213924</td>\n",
       "      <td>17.560862</td>\n",
       "      <td>0.055645</td>\n",
       "      <td>0.000004</td>\n",
       "    </tr>\n",
       "    <tr>\n",
       "      <th>992</th>\n",
       "      <td>992</td>\n",
       "      <td>999.0</td>\n",
       "      <td>0.000847</td>\n",
       "      <td>21.498111</td>\n",
       "      <td>1.000000</td>\n",
       "      <td>0.793579</td>\n",
       "      <td>0.000037</td>\n",
       "      <td>0.000000</td>\n",
       "      <td>17.128612</td>\n",
       "      <td>0.669358</td>\n",
       "      <td>0.033914</td>\n",
       "      <td>0.213890</td>\n",
       "      <td>17.562283</td>\n",
       "      <td>0.055636</td>\n",
       "      <td>0.000004</td>\n",
       "    </tr>\n",
       "  </tbody>\n",
       "</table>\n",
       "<p>993 rows × 15 columns</p>\n",
       "</div>"
      ],
      "text/plain": [
       "     Unnamed: 0  varphi        pe         tb  jxbar_prime  jmbar_prime  \\\n",
       "0             0     0.0  0.999999   0.000000     0.015921     0.793579   \n",
       "1             1     1.0  0.980212   0.334381     0.016293     0.793579   \n",
       "2             2     2.0  0.980347   0.669129     0.017185     0.793579   \n",
       "3             3     3.0  0.958467   0.986208     0.018443     0.793579   \n",
       "4             4     4.0  0.940969   1.296180     0.019988     0.793579   \n",
       "..          ...     ...       ...        ...          ...          ...   \n",
       "988         988   995.0  0.000852  21.484272     1.000000     0.793579   \n",
       "989         989   996.0  0.000851  21.487711     1.000000     0.793579   \n",
       "990         990   997.0  0.000849  21.491188     1.000000     0.793579   \n",
       "991         991   998.0  0.000848  21.494634     1.000000     0.793579   \n",
       "992         992   999.0  0.000847  21.498111     1.000000     0.793579   \n",
       "\n",
       "     j0_prime  Qe1_prime  Qe2_prime  Qe1star_prime  Qe2star_prime  CeHH_prime  \\\n",
       "0    0.015921   2.480043   1.999998      22.999984       4.795941    4.598409   \n",
       "1    0.013384   1.391022   2.422054      22.771296       4.729314    3.497968   \n",
       "2    0.011701   0.000000   2.839045      22.772873       4.729773    2.787795   \n",
       "3    0.010471   0.000000   3.185832      22.517311       4.655630    2.364613   \n",
       "4    0.009530   0.000000   3.514119      22.310822       4.595969    2.055474   \n",
       "..        ...        ...        ...            ...            ...         ...   \n",
       "988  0.000037   0.000000  17.120896       0.671312       0.034053    0.214027   \n",
       "989  0.000037   0.000000  17.122814       0.670822       0.034018    0.213993   \n",
       "990  0.000037   0.000000  17.124753       0.670333       0.033983    0.213958   \n",
       "991  0.000037   0.000000  17.126674       0.669845       0.033948    0.213924   \n",
       "992  0.000037   0.000000  17.128612       0.669358       0.033914    0.213890   \n",
       "\n",
       "     CeFH_prime  CeHF_prime  CeFF_prime  \n",
       "0      0.421602    1.196113   26.059911  \n",
       "1      0.329747    0.909872   26.575905  \n",
       "2      0.280613    0.725146   26.548132  \n",
       "3      0.260092    0.615070   27.119429  \n",
       "4      0.250539    0.534659   27.580234  \n",
       "..          ...         ...         ...  \n",
       "988   17.556531    0.055672    0.000004  \n",
       "989   17.557989    0.055663    0.000004  \n",
       "990   17.559417    0.055654    0.000004  \n",
       "991   17.560862    0.055645    0.000004  \n",
       "992   17.562283    0.055636    0.000004  \n",
       "\n",
       "[993 rows x 15 columns]"
      ]
     },
     "execution_count": 3,
     "metadata": {},
     "output_type": "execute_result"
    }
   ],
   "source": [
    "df"
   ]
  },
  {
   "cell_type": "code",
   "execution_count": 4,
   "id": "d4577a1b-77e2-4eec-93fa-2cdcebeb7fe3",
   "metadata": {},
   "outputs": [
    {
     "data": {
      "text/plain": [
       "<matplotlib.legend.Legend at 0x123c10bb0>"
      ]
     },
     "execution_count": 4,
     "metadata": {},
     "output_type": "execute_result"
    },
    {
     "data": {
      "image/png": "[encoded data removed]",
      "text/plain": [
       "<Figure size 432x288 with 1 Axes>"
      ]
     },
     "metadata": {
      "needs_background": "light"
     },
     "output_type": "display_data"
    }
   ],
   "source": [
    "df1 = df\n",
    "plt.plot(df1['varphi'],df1['CeFF_prime'],linewidth=1, label = 'CeFF')\n",
    "plt.plot(df1['varphi'],df1['CeHH_prime'],linewidth=1, label = 'CeHH')\n",
    "plt.plot(df1['varphi'],df1['CeFH_prime'],linewidth=1, label = 'CeFH')\n",
    "plt.plot(df1['varphi'],df1['CeHF_prime'],linewidth=1, label = 'CeHF')\n",
    "plt.legend()"
   ]
  },
  {
   "cell_type": "code",
   "execution_count": 5,
   "id": "d35ee6c9-6476-429a-965d-a9e869d8e144",
   "metadata": {},
   "outputs": [
    {
     "data": {
      "text/plain": [
       "<matplotlib.legend.Legend at 0x123ce9430>"
      ]
     },
     "execution_count": 5,
     "metadata": {},
     "output_type": "execute_result"
    },
    {
     "data": {
      "image/png": "[encoded data removed]",
      "text/plain": [
       "<Figure size 432x288 with 1 Axes>"
      ]
     },
     "metadata": {
      "needs_background": "light"
     },
     "output_type": "display_data"
    }
   ],
   "source": [
    "plt.xlim(0,100)\n",
    "plt.plot(df1['varphi'],df1['CeFF_prime'],linewidth=1, label = 'CeFF')\n",
    "plt.plot(df1['varphi'],df1['CeHH_prime'],linewidth=1, label = 'CeHH')\n",
    "plt.plot(df1['varphi'],df1['CeFH_prime'],linewidth=1, label = 'CeFH')\n",
    "plt.plot(df1['varphi'],df1['CeHF_prime'],linewidth=1, label = 'CeHF')\n",
    "plt.legend()"
   ]
  },
  {
   "cell_type": "code",
   "execution_count": 37,
   "id": "11be0ccf-f3e3-4fc3-878d-bda79bcb810e",
   "metadata": {},
   "outputs": [
    {
     "data": {
      "text/plain": [
       "<matplotlib.legend.Legend at 0x127303fd0>"
      ]
     },
     "execution_count": 37,
     "metadata": {},
     "output_type": "execute_result"
    },
    {
     "data": {
      "image/png": "[encoded data removed]",
      "text/plain": [
       "<Figure size 432x288 with 1 Axes>"
      ]
     },
     "metadata": {
      "needs_background": "light"
     },
     "output_type": "display_data"
    }
   ],
   "source": [
    "plt.xlim(0,5)\n",
    "plt.plot(df1['varphi'],df1['Qe1_prime'],linewidth=1, label = 'Qe1')\n",
    "plt.plot(df1['varphi'],df1['Qe2_prime'],linewidth=1, label = 'Qe2_prime')\n",
    "plt.plot(df1['varphi'],df1['Qe1star_prime'],linewidth=1, label = 'Qe1star')\n",
    "plt.plot(df1['varphi'],df1['Qe2star_prime'],linewidth=1, label = 'Qe2star_prime')\n",
    "plt.legend()"
   ]
  },
  {
   "cell_type": "code",
   "execution_count": 10,
   "id": "7498b8da-9108-4400-8e7e-f9a6674ec744",
   "metadata": {},
   "outputs": [
    {
     "data": {
      "text/plain": [
       "<matplotlib.legend.Legend at 0x1249c1040>"
      ]
     },
     "execution_count": 10,
     "metadata": {},
     "output_type": "execute_result"
    },
    {
     "data": {
      "image/png": "[encoded data removed]",
      "text/plain": [
       "<Figure size 432x288 with 1 Axes>"
      ]
     },
     "metadata": {
      "needs_background": "light"
     },
     "output_type": "display_data"
    }
   ],
   "source": [
    "plt.xlim(0,100)\n",
    "plt.plot(df1['varphi'],df1['jxbar_prime'],linewidth=1, label = 'jxbar_prime')\n",
    "plt.plot(df1['varphi'],df1['j0_prime'],linewidth=1, label = 'Qe1star')\n",
    "plt.legend()"
   ]
  },
  {
   "cell_type": "code",
   "execution_count": 24,
   "id": "a1c11445-b5b1-4dc0-97d1-448bdef59cf5",
   "metadata": {},
   "outputs": [],
   "source": [
    "df['Ge_prime'] = df['CeHH_prime'] + df['CeFH_prime']\n",
    "df['Gestar_prime'] = df['CeFF_prime'] + df['CeHF_prime']\n",
    "df['Ge_prime_r'] = df['CeHH_prime'] + df['CeFH_prime'] - df['Qe2_prime']\n",
    "df['Gestar_prime_r'] = df['CeFF_prime'] + df['CeHF_prime'] - df['Qe2star_prime']\n",
    "df['Qe_prime'] = df['Qe1_prime'] + df['Qe2_prime']\n",
    "df['Qestar_prime'] = df['Qe1star_prime'] + df['Qe2star_prime']"
   ]
  },
  {
   "cell_type": "code",
   "execution_count": 38,
   "id": "54b19e25-3507-436e-ab44-0b05d1625923",
   "metadata": {},
   "outputs": [
    {
     "data": {
      "text/plain": [
       "<matplotlib.legend.Legend at 0x127bda9a0>"
      ]
     },
     "execution_count": 38,
     "metadata": {},
     "output_type": "execute_result"
    },
    {
     "data": {
      "image/png": "[encoded data removed]",
      "text/plain": [
       "<Figure size 432x288 with 1 Axes>"
      ]
     },
     "metadata": {
      "needs_background": "light"
     },
     "output_type": "display_data"
    }
   ],
   "source": [
    "plt.xlim(0,3)\n",
    "plt.plot(df1['varphi'],df1['Ge_prime'],linewidth=1, label = 'Ge_prime')\n",
    "plt.plot(df1['varphi'],df1['Gestar_prime'],linewidth=1, label = 'Gestar_prime')\n",
    "plt.plot(df1['varphi'],df1['Qe2_prime'],linewidth=1, label = 'Qe2_prime')\n",
    "plt.plot(df1['varphi'],df1['Qe2star_prime'],linewidth=1, label = 'Qe2star_prime')\n",
    "plt.legend()"
   ]
  },
  {
   "cell_type": "code",
   "execution_count": 21,
   "id": "ffa28434-7939-4baf-89d1-97e3a4ca6fc0",
   "metadata": {},
   "outputs": [],
   "source": [
    "df['net'] = df['Ge_prime'] + df['Gestar_prime'] - df['Qe_prime'] - df['Qestar_prime']"
   ]
  },
  {
   "cell_type": "code",
   "execution_count": 22,
   "id": "8d0b22d1-b482-460a-977b-9ff2920d3f20",
   "metadata": {},
   "outputs": [
    {
     "data": {
      "text/plain": [
       "<matplotlib.legend.Legend at 0x1273e83d0>"
      ]
     },
     "execution_count": 22,
     "metadata": {},
     "output_type": "execute_result"
    },
    {
     "data": {
      "image/png": "[encoded data removed]",
      "text/plain": [
       "<Figure size 432x288 with 1 Axes>"
      ]
     },
     "metadata": {
      "needs_background": "light"
     },
     "output_type": "display_data"
    }
   ],
   "source": [
    "plt.plot(df1['varphi'],df1['net'],linewidth=1, label = 'net')\n",
    "plt.legend()"
   ]
  },
  {
   "cell_type": "code",
   "execution_count": 40,
   "id": "4129f174-1833-4fc8-85d6-e181cbb13e6c",
   "metadata": {},
   "outputs": [
    {
     "data": {
      "text/plain": [
       "<matplotlib.legend.Legend at 0x127cc5be0>"
      ]
     },
     "execution_count": 40,
     "metadata": {},
     "output_type": "execute_result"
    },
    {
     "data": {
      "image/png": "[encoded data removed]",
      "text/plain": [
       "<Figure size 432x288 with 1 Axes>"
      ]
     },
     "metadata": {
      "needs_background": "light"
     },
     "output_type": "display_data"
    }
   ],
   "source": [
    "plt.xlim(0,10)\n",
    "plt.plot(df1['varphi'],df1['pe'],linewidth=1, label = 'pe')\n",
    "plt.legend()"
   ]
  },
  {
   "cell_type": "code",
   "execution_count": null,
   "id": "15eaf580-c630-42b7-8fe6-908b72ea9f99",
   "metadata": {},
   "outputs": [],
   "source": []
  }
 ],
 "metadata": {
  "kernelspec": {
   "display_name": "Python 3 (ipykernel)",
   "language": "python",
   "name": "python3"
  },
  "language_info": {
   "codemirror_mode": {
    "name": "ipython",
    "version": 3
   },
   "file_extension": ".py",
   "mimetype": "text/x-python",
   "name": "python",
   "nbconvert_exporter": "python",
   "pygments_lexer": "ipython3",
   "version": "3.9.5"
  }
 },
 "nbformat": 4,
 "nbformat_minor": 5
}
