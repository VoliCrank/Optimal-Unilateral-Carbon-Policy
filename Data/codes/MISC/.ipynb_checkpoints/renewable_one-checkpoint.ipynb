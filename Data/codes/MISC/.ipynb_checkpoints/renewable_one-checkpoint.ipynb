{
 "cells": [
  {
   "cell_type": "code",
   "execution_count": 1,
   "id": "ce7123e5-87c4-4f84-89fd-e770f361d648",
   "metadata": {},
   "outputs": [],
   "source": [
    "import math\n",
    "import numpy as np\n",
    "import pandas as pd\n",
    "from fun_utils import *\n",
    "from scipy.optimize import minimize, least_squares\n",
    "from scipy.optimize import fsolve\n",
    "from scipy.integrate import quad\n",
    "import matplotlib.pyplot as plt"
   ]
  },
  {
   "cell_type": "code",
   "execution_count": 2,
   "id": "a6729c02-194e-4a69-a02d-9e773e2bc10b",
   "metadata": {},
   "outputs": [],
   "source": [
    "## scenario switch\n",
    "case=3;  # 2 means no trade in goods; 3 means trade in both energy and goods\n",
    "logit = 0; # 1 means logit estimations of supply elasticity; 0 means fixed elasticities at 0.5"
   ]
  },
  {
   "cell_type": "code",
   "execution_count": 3,
   "id": "2f2f4f11-b505-4dab-8617-55a8b51e8576",
   "metadata": {},
   "outputs": [],
   "source": [
    "## parameter values\n",
    "alpha = 0.85;           # labor share parameter in manufacturing\n",
    "theta = 4;              # scopevec for comparative advantage\n",
    "sigma = 1;      # elasticity of demand for each individual manufactured good j at Home\n",
    "sigmastar = 1;  # elasticity of demand for each individual manufactured good j at Foreign\n",
    "epsilonD = alpha + (1 - alpha) * sigma;  #Home's elasticity of demand for embodied energy\n",
    "epsilonDstar = alpha + (1 - alpha) * sigmastar;  #Foreign's elasticity of demand for embodied energy\n",
    "# beta = 2.274853;\n",
    "# gamma= 0.784877595;\n",
    "beta=1.892412;\n",
    "gamma=0.807998928;\n",
    "epsilonS = 0.5;  #Homes's energy supply elasticity: beta/(1 - beta)\n",
    "epsilonSstar = 0.5;  #Foreign's energy supply elasticity: betastar/(1 - betastar)\n",
    "epsilonSstar1 = 0.5\n",
    "epsilonSstar2 =3\n",
    "epsilonS1 = 0.5\n",
    "epsilonS2 = 3"
   ]
  },
  {
   "cell_type": "code",
   "execution_count": 4,
   "id": "6d18f927-3732-4ff5-a0f6-de0ecde3cfe7",
   "metadata": {},
   "outputs": [],
   "source": [
    "ParaList = (alpha, theta, sigma, sigmastar, epsilonD,epsilonDstar, epsilonS, epsilonSstar1, epsilonSstar2, epsilonS1, epsilonS2, beta, gamma, logit)"
   ]
  },
  {
   "cell_type": "code",
   "execution_count": 5,
   "id": "9db6357d-5dcf-44b6-a10d-55eb1de9b4fd",
   "metadata": {},
   "outputs": [],
   "source": [
    "tax_scenario= {'tax_sce': 'Unilateral', 'Base': 0}\n",
    "df = {'Qe1': 2.4800448, 'Qe2': 2, 'Qestar1': 23, 'Qestar2': 4.795946, 'Qeworld': 32.27599, 'CeHH': 4.598403, 'CeHF': 1.196111,'CeFH': 0.42160103,'CeFF': 26.059874,'Ce': 5.7945137,'Cestar': 26.481474,'Ge': 5.0200038,'Gestar': 27.255985,'Ceworld': 32.27599,'Geworld': 32.27599,'jxbar': 0.015920602214279298,'jmbar':  0.7935787194577492}"
   ]
  },
  {
   "cell_type": "code",
   "execution_count": 6,
   "id": "b6a6e370-52ea-440a-8a84-800a24a23c71",
   "metadata": {},
   "outputs": [],
   "source": [
    "## computes j values\n",
    "def jbar_hat(pe, alpha, theta, tb_mat, df):\n",
    "    jxbar_hat = (pe**(-alpha*theta) * (pe+tb_mat[0])**(-(1-alpha)*theta) / \n",
    "                 (df['jxbar'] * pe**(-alpha*theta) * (pe+tb_mat[0])**(-(1-alpha)*theta) + \n",
    "                  (1-df['jxbar']) * (pe + (1-alpha) * tb_mat[0])**(-theta)))\n",
    "    \n",
    "    j0_hat = (pe+tb_mat[0])**(-(1-alpha)*theta) / (df['jxbar'] * (pe+tb_mat[0])**(-(1-alpha)*theta) + (1-df['jxbar']) * pe**(-(1-alpha)*theta))\n",
    "    \n",
    "    jmbar_hat = 1\n",
    "    \n",
    "    ## compute final values for j's\n",
    "    jxbar_prime = jxbar_hat * df['jxbar']\n",
    "    jmbar_prime = jmbar_hat * df['jmbar']\n",
    "    j0_prime = j0_hat * df['jxbar']\n",
    "    \n",
    "    return (jxbar_hat, j0_hat, jmbar_hat, jxbar_prime, jmbar_prime, j0_prime)\n",
    "\n",
    "def integrand(i, theta, sigmastar):\n",
    "    return (i ** ((1 + theta) / theta - 1) * (1 - i) ** ((theta - sigmastar) / theta - 1)) \n",
    "\n",
    "def incomp_beta(low, hi, theta, sigmastar):\n",
    "    return quad(integrand,low, hi, args=(theta, sigmastar))[0]\n",
    "\n",
    "## computes extraction values (home, foreign)\n",
    "def compute_qe(tb_mat, petbte, epsilonSstar1, epsilonSstar2, logit, beta, gamma, pe, epsilonS1, epsilonS2, df):\n",
    "    \n",
    "    Qe1_prime = df['Qe1'] * (petbte)**epsilonS1\n",
    "    Qe2_prime = df['Qe2'] * (pe + tb_mat[0]) ** epsilonS2\n",
    "\n",
    "    Qe_prime =  Qe1_prime + Qe2_prime\n",
    "    \n",
    "    Qe1star_prime = df['Qestar1'] * pe**epsilonSstar1\n",
    "    Qe2star_prime = df['Qestar2'] * pe**epsilonSstar2\n",
    "    \n",
    "    Qestar_prime = Qe1star_prime + Qe2star_prime \n",
    "    \n",
    "    return (Qe_prime, Qestar_prime, Qe1_prime, Qe2_prime, Qe1star_prime, Qe2star_prime)\n",
    "\n",
    "## computes consumption values (home, import, export, foreign)\n",
    "def compute_ce(pe, tb_mat, epsilonD,j0_hat, j0_prime, jmbar_hat, jxbar_prime, alpha, sigma, theta, epsilonDstar, df):\n",
    "    \n",
    "    ## home produce for home use\n",
    "    CeHH_hat = (pe + tb_mat[0]) ** (-epsilonD) * jmbar_hat ** (1 + (1 - sigma)/theta)\n",
    "    CeHH_prime = df['CeHH'] * CeHH_hat\n",
    "    \n",
    "    ## compute incomplete beta values\n",
    "    Bfunvec1_prime = incomp_beta(0, j0_prime, theta, sigmastar)\n",
    "    Bfunvec2_prime = incomp_beta(0, jxbar_prime, theta, sigmastar)\n",
    "    \n",
    "    CeFH1_hat = (pe +tb_mat[0])**(-epsilonDstar) * j0_hat**(1 + (1 - sigmastar)/theta)\n",
    "    CeFH2_hat = ((1 + (1 - sigmastar)/theta) * \n",
    "                 ((1-df['jxbar'])/df['jxbar'])**(sigmastar/theta) * \n",
    "                 pe**(-epsilonDstar) * (1 + tb_mat[0]/pe)**(-alpha) * \n",
    "                 (Bfunvec2_prime - Bfunvec1_prime) /\n",
    "                 df['jxbar']**(1+(1-sigmastar)/theta))\n",
    "    \n",
    "    CeFH1_prime = df['CeFH'] * CeFH1_hat\n",
    "    CeFH2_prime = df['CeFH'] * CeFH2_hat\n",
    "    CeFH_hat = CeFH1_hat + CeFH2_hat\n",
    "    \n",
    "    if np.isnan(CeFH_hat):\n",
    "        CeFH_hat=0\n",
    "        \n",
    "    CeFH_prime =df['CeFH'] * CeFH_hat\n",
    "    \n",
    "    CeHF_hat = (pe + tb_mat[0]) ** (-epsilonD)\n",
    "    CeHF_prime = df['CeHF'] * CeHF_hat\n",
    "    \n",
    "    CeFF_prime = df['CeFF'] * ((1 - jxbar_prime)/(1-df['jxbar'])) ** (1 + (1 - sigmastar)/theta) * pe ** (-epsilonDstar)\n",
    "    \n",
    "    return (CeHH_prime, CeFH1_prime, CeFH2_prime, CeFH_prime, CeHF_prime, CeFF_prime)\n",
    "    \n",
    "\n",
    "def compute_vg(df, pe, alpha, sigmastar, theta, epsilonDstar, jxbar_prime, j0_prime):\n",
    "    VgFH = df['CeFH'] /(1 - alpha)\n",
    "    VgFH2_hat = (pe**(1 - epsilonDstar) * ((1-j0_prime)**(1+(1-sigmastar)/theta) - (1-jxbar_prime)**(1+(1-sigmastar)/theta)) / \n",
    "                 (df['jxbar']  * (1 - df['jxbar'] )**( (1-sigmastar)/theta)))\n",
    "    VgFH2_prime = VgFH * VgFH2_hat\n",
    "    \n",
    "    return VgFH2_prime"
   ]
  },
  {
   "cell_type": "code",
   "execution_count": 7,
   "id": "c151afbb-52d7-45bf-9947-0f1cb76b604e",
   "metadata": {},
   "outputs": [],
   "source": [
    "## Comsumes:\n",
    "## p (a vector of price and tax), varphi (social cost of carbon), tax_scenario,\n",
    "## ParaList (a list of params for tuning the model) and df\n",
    "\n",
    "## Returns:\n",
    "## the sum of absolute value differences of total extraction - consumption\n",
    "## and the difference between tb (border adjustment) and it's equilibrium condition in paper.\n",
    "def opt_price(p, varphi, tax_scenario, ParaList, df):\n",
    "    pe = p[0]\n",
    "    tb_mat = p[1:]\n",
    "    alpha, theta, sigma, sigmastar, epsilonD,epsilonDstar, epsilonS, epsilonSstar1, epsilonSstar2, epsilonS1, epsilonS2, beta, gamma, logit = ParaList\n",
    "    \n",
    "    epsilonSstar = (epsilonSstar1 * df['Qestar1'] * pe**epsilonSstar1 + epsilonSstar2 * df['Qestar2'] * pe**epsilonSstar2) / (df['Qestar1'] + df['Qestar2'])\n",
    "    epsilonSstartilde = epsilonSstar1\n",
    "    \n",
    "    if tax_scenario['tax_sce']!='Unilateral':\n",
    "        print(\"shouldn't be here\")\n",
    "        return 0\n",
    "\n",
    "        \n",
    "    ## compute jbar_hat and jbar_prime values\n",
    "    jxbar_hat, j0_hat, jmbar_hat, jxbar_prime, jmbar_prime, j0_prime = jbar_hat(pe, alpha, theta, tb_mat, df)\n",
    "    \n",
    "\n",
    "    #if te is too large, Home stop producing\n",
    "    petbte = pe + tb_mat[0] - varphi\n",
    "    if (petbte < 0):\n",
    "        petbte = 0\n",
    "\n",
    "    ## compute equilibrium energy extraction\n",
    "    Qe_prime, Qestar_prime, Qe1_prime, Qe2_prime, Qe1star_prime, Qe2star_prime = compute_qe(tb_mat, petbte, epsilonSstar1, epsilonSstar2, logit, beta, gamma, pe, epsilonS1, epsilonS2, df)\n",
    "\n",
    "    ## compute equilibrium energy consumption\n",
    "    CeHH_prime, CeFH1_prime, CeFH2_prime, CeFH_prime, CeHF_prime, CeFF_prime = compute_ce(pe, tb_mat, epsilonD,j0_hat, j0_prime, jmbar_hat, jxbar_prime, alpha, sigma, theta, epsilonDstar, df)\n",
    "    \n",
    "    ## compute one term of value of exports (I think)\n",
    "    VgFH2_prime = compute_vg(df, pe, alpha, sigmastar, theta, epsilonDstar, jxbar_prime, j0_prime)\n",
    "    \n",
    "    ## compute difference of extraction and consumption\n",
    "    diff = Qe_prime + Qestar_prime - (CeHH_prime + CeFH_prime + CeHF_prime + CeFF_prime)\n",
    "    \n",
    "    ## compute second equilibrium condition\n",
    "    pai_g = (pe + tb_mat[0]) * CeFH2_prime / (1 - alpha) - VgFH2_prime\n",
    "    numerator = varphi * epsilonSstartilde * Qestar_prime - sigmastar * (1-alpha) * pai_g\n",
    "    denominator = epsilonSstar * Qestar_prime + epsilonDstar * CeFF_prime\n",
    "    diff1 = tb_mat[0] * denominator - numerator\n",
    "        \n",
    "    return abs(diff) + abs(diff1)"
   ]
  },
  {
   "cell_type": "code",
   "execution_count": 8,
   "id": "b359083b-7cfa-4980-a17a-8b0796ffd2c3",
   "metadata": {},
   "outputs": [],
   "source": [
    "def ret_results(df_new, tax_scenario, ParaList, df):\n",
    "    pe = df_new['pe']\n",
    "    tb_mat = df_new['tb']\n",
    "    varphi = df_new['varphi']\n",
    "    alpha, theta, sigma, sigmastar, epsilonD,epsilonDstar, epsilonS, epsilonSstar1, epsilonSstar2, epsilonS1, epsilonS2, beta, gamma, logit = ParaList\n",
    "    \n",
    "    epsilonSstar = (epsilonSstar1 * df['Qestar1'] * pe**epsilonSstar1 + epsilonSstar2 * df['Qestar2'] * pe**epsilonSstar2) / (df['Qestar1'] + df['Qestar2'])\n",
    "    epsilonSstartilde = epsilonSstar1\n",
    "\n",
    "    ## compute jbar_hat and jbar_prime values\n",
    "    jxbar_hat, j0_hat, jmbar_hat, jxbar_prime, jmbar_prime, j0_prime = jbar_hat(pe, alpha, theta, tb_mat, df)\n",
    "    \n",
    "    #if te is too large, Home stop producing\n",
    "    petbte = pe + tb_mat[0] - varphi\n",
    "    if (petbte < 0):\n",
    "        petbte = 0\n",
    "\n",
    "    ## compute equilibrium energy extraction\n",
    "    Qe_prime, Qestar_prime, Qe1_prime, Qe2_prime, Qe1star_prime, Qe2star_prime = compute_qe(tb_mat, petbte, epsilonSstar1, epsilonSstar2, logit, beta, gamma, pe, epsilonS1, epsilonS2, df)\n",
    "\n",
    "    ## compute equilibrium energy consumption\n",
    "    CeHH_prime, CeFH1_prime, CeFH2_prime, CeFH_prime, CeHF_prime, CeFF_prime = compute_ce(pe, tb_mat, epsilonD,j0_hat, j0_prime, jmbar_hat, jxbar_prime, alpha, sigma, theta, epsilonDstar, df)\n",
    "    \n",
    "    ## compute one term of value of exports (I think)\n",
    "    VgFH2_prime = compute_vg(df, pe, alpha, sigmastar, theta, epsilonDstar, jxbar_prime, j0_prime)\n",
    "    return(pd.Series({ 'varphi': varphi, 'pe': pe, 'tb': tb_mat[0], 'jxbar_prime': jxbar_prime, 'jmbar_prime': jmbar_prime, 'j0_prime': j0_prime, \\\n",
    "                      'Qe1_prime': Qe1_prime, 'Qe2_prime': Qe2_prime, 'Qe1star_prime': Qe1star_prime, 'Qe2star_prime': Qe2star_prime, \\\n",
    "                      'CeHH_prime': CeHH_prime,'CeFH_prime': CeFH_prime, 'CeHF_prime': CeHF_prime, 'CeFF_prime': CeFF_prime}))"
   ]
  },
  {
   "cell_type": "code",
   "execution_count": 9,
   "id": "7f413f00-93b9-4478-bbf9-953c733c97b9",
   "metadata": {},
   "outputs": [],
   "source": [
    "varphi = 27.3"
   ]
  },
  {
   "cell_type": "code",
   "execution_count": 10,
   "id": "6ad585ee-f6c9-4f60-be97-76ecf7a73562",
   "metadata": {},
   "outputs": [
    {
     "name": "stderr",
     "output_type": "stream",
     "text": [
      "C:\\Users\\Alex\\AppData\\Local\\Temp/ipykernel_14836/360113722.py:3: RuntimeWarning: divide by zero encountered in double_scalars\n",
      "  jxbar_hat = (pe**(-alpha*theta) * (pe+tb_mat[0])**(-(1-alpha)*theta) /\n",
      "C:\\Users\\Alex\\AppData\\Local\\Temp/ipykernel_14836/360113722.py:4: RuntimeWarning: divide by zero encountered in double_scalars\n",
      "  (df['jxbar'] * pe**(-alpha*theta) * (pe+tb_mat[0])**(-(1-alpha)*theta) +\n",
      "C:\\Users\\Alex\\AppData\\Local\\Temp/ipykernel_14836/360113722.py:3: RuntimeWarning: invalid value encountered in double_scalars\n",
      "  jxbar_hat = (pe**(-alpha*theta) * (pe+tb_mat[0])**(-(1-alpha)*theta) /\n",
      "C:\\Users\\Alex\\AppData\\Local\\Temp/ipykernel_14836/360113722.py:7: RuntimeWarning: divide by zero encountered in double_scalars\n",
      "  j0_hat = (pe+tb_mat[0])**(-(1-alpha)*theta) / (df['jxbar'] * (pe+tb_mat[0])**(-(1-alpha)*theta) + (1-df['jxbar']) * pe**(-(1-alpha)*theta))\n",
      "C:\\Users\\Alex\\AppData\\Local\\Temp/ipykernel_14836/360113722.py:53: RuntimeWarning: divide by zero encountered in double_scalars\n",
      "  pe**(-epsilonDstar) * (1 + tb_mat[0]/pe)**(-alpha) *\n",
      "C:\\Users\\Alex\\AppData\\Local\\Temp/ipykernel_14836/360113722.py:51: RuntimeWarning: invalid value encountered in double_scalars\n",
      "  CeFH2_hat = ((1 + (1 - sigmastar)/theta) *\n",
      "C:\\Users\\Alex\\AppData\\Local\\Temp/ipykernel_14836/360113722.py:69: RuntimeWarning: divide by zero encountered in double_scalars\n",
      "  CeFF_prime = df['CeFF'] * ((1 - jxbar_prime)/(1-df['jxbar'])) ** (1 + (1 - sigmastar)/theta) * pe ** (-epsilonDstar)\n"
     ]
    },
    {
     "data": {
      "text/plain": [
       " final_simplex: (array([[0.36160567, 2.67972423],\n",
       "       [0.36160555, 2.67972451],\n",
       "       [0.36160569, 2.67972554]]), array([5.64043771e-05, 6.21152129e-05, 1.04505581e-04]))\n",
       "           fun: 5.64043770623357e-05\n",
       "       message: 'Optimization terminated successfully.'\n",
       "          nfev: 129\n",
       "           nit: 68\n",
       "        status: 0\n",
       "       success: True\n",
       "             x: array([0.36160567, 2.67972423])"
      ]
     },
     "execution_count": 10,
     "metadata": {},
     "output_type": "execute_result"
    }
   ],
   "source": [
    "res1 = minimize(opt_price, (1, 10), args = (varphi, tax_scenario, ParaList, df), bounds = [(0,np.inf), (0, np.inf)], method = 'Nelder-Mead', options = {'maxfev': 10000})\n",
    "res1"
   ]
  },
  {
   "cell_type": "code",
   "execution_count": 9,
   "id": "362507f8-3a7c-4bd4-b362-5781a987e3f0",
   "metadata": {},
   "outputs": [
    {
     "data": {
      "text/plain": [
       " final_simplex: (array([[0.76917716, 7.22589089],\n",
       "       [0.76918516, 7.22596806],\n",
       "       [0.76918068, 7.2259365 ]]), array([0.00034605, 0.00039724, 0.00044486]))\n",
       "           fun: 0.00034605410797539093\n",
       "       message: 'Optimization terminated successfully.'\n",
       "          nfev: 102\n",
       "           nit: 56\n",
       "        status: 0\n",
       "       success: True\n",
       "             x: array([0.76917716, 7.22589089])"
      ]
     },
     "execution_count": 9,
     "metadata": {},
     "output_type": "execute_result"
    }
   ],
   "source": [
    "res1 = minimize(opt_price, (1, 10), args = (varphi, tax_scenario, ParaList, df), bounds = [(0,np.inf), (0, np.inf)], method = 'Nelder-Mead', options = {'maxfev': 10000})\n",
    "res1"
   ]
  },
  {
   "cell_type": "code",
   "execution_count": 47,
   "id": "c0bace60-100e-43fd-9a41-9c04f4b73cc4",
   "metadata": {},
   "outputs": [
    {
     "name": "stdout",
     "output_type": "stream",
     "text": [
      "did not converge 0.1\n"
     ]
    }
   ],
   "source": [
    "results = []\n",
    "varphilist = np.arange(0,10,0.1)\n",
    "for varphi in varphilist:\n",
    "    res1 = minimize(opt_price, (0.5, 0.5), args = (varphi, tax_scenario, ParaList, df), bounds = [(0,np.inf), (0, np.inf)], method = 'Nelder-Mead', options = {'maxfev': 10000})\n",
    "    if res1.fun > 0.1:\n",
    "        print('did not converge', varphi)\n",
    "    else:\n",
    "        results.append((varphi, res1.x[0], [res1.x[1]]))"
   ]
  },
  {
   "cell_type": "code",
   "execution_count": 48,
   "id": "671026bc-1f5d-471b-9b02-7e7b0d1200da",
   "metadata": {},
   "outputs": [
    {
     "data": {
      "text/html": [
       "<div>\n",
       "<style scoped>\n",
       "    .dataframe tbody tr th:only-of-type {\n",
       "        vertical-align: middle;\n",
       "    }\n",
       "\n",
       "    .dataframe tbody tr th {\n",
       "        vertical-align: top;\n",
       "    }\n",
       "\n",
       "    .dataframe thead th {\n",
       "        text-align: right;\n",
       "    }\n",
       "</style>\n",
       "<table border=\"1\" class=\"dataframe\">\n",
       "  <thead>\n",
       "    <tr style=\"text-align: right;\">\n",
       "      <th></th>\n",
       "      <th>varphi</th>\n",
       "      <th>pe</th>\n",
       "      <th>tb</th>\n",
       "    </tr>\n",
       "  </thead>\n",
       "  <tbody>\n",
       "    <tr>\n",
       "      <th>0</th>\n",
       "      <td>0.0</td>\n",
       "      <td>1.000000</td>\n",
       "      <td>[0.0]</td>\n",
       "    </tr>\n",
       "    <tr>\n",
       "      <th>1</th>\n",
       "      <td>0.2</td>\n",
       "      <td>0.992916</td>\n",
       "      <td>[0.05348983691728637]</td>\n",
       "    </tr>\n",
       "    <tr>\n",
       "      <th>2</th>\n",
       "      <td>0.3</td>\n",
       "      <td>0.989471</td>\n",
       "      <td>[0.08021740492863061]</td>\n",
       "    </tr>\n",
       "    <tr>\n",
       "      <th>3</th>\n",
       "      <td>0.4</td>\n",
       "      <td>0.986094</td>\n",
       "      <td>[0.10693059703307986]</td>\n",
       "    </tr>\n",
       "    <tr>\n",
       "      <th>4</th>\n",
       "      <td>0.5</td>\n",
       "      <td>0.982794</td>\n",
       "      <td>[0.13362706868461133]</td>\n",
       "    </tr>\n",
       "    <tr>\n",
       "      <th>...</th>\n",
       "      <td>...</td>\n",
       "      <td>...</td>\n",
       "      <td>...</td>\n",
       "    </tr>\n",
       "    <tr>\n",
       "      <th>94</th>\n",
       "      <td>9.5</td>\n",
       "      <td>0.603099</td>\n",
       "      <td>[1.764351823586442]</td>\n",
       "    </tr>\n",
       "    <tr>\n",
       "      <th>95</th>\n",
       "      <td>9.6</td>\n",
       "      <td>0.600426</td>\n",
       "      <td>[1.7738191167213557]</td>\n",
       "    </tr>\n",
       "    <tr>\n",
       "      <th>96</th>\n",
       "      <td>9.7</td>\n",
       "      <td>0.597786</td>\n",
       "      <td>[1.7831850865016736]</td>\n",
       "    </tr>\n",
       "    <tr>\n",
       "      <th>97</th>\n",
       "      <td>9.8</td>\n",
       "      <td>0.595175</td>\n",
       "      <td>[1.7924480067948274]</td>\n",
       "    </tr>\n",
       "    <tr>\n",
       "      <th>98</th>\n",
       "      <td>9.9</td>\n",
       "      <td>0.592593</td>\n",
       "      <td>[1.8016098698546412]</td>\n",
       "    </tr>\n",
       "  </tbody>\n",
       "</table>\n",
       "<p>99 rows × 3 columns</p>\n",
       "</div>"
      ],
      "text/plain": [
       "    varphi        pe                     tb\n",
       "0      0.0  1.000000                  [0.0]\n",
       "1      0.2  0.992916  [0.05348983691728637]\n",
       "2      0.3  0.989471  [0.08021740492863061]\n",
       "3      0.4  0.986094  [0.10693059703307986]\n",
       "4      0.5  0.982794  [0.13362706868461133]\n",
       "..     ...       ...                    ...\n",
       "94     9.5  0.603099    [1.764351823586442]\n",
       "95     9.6  0.600426   [1.7738191167213557]\n",
       "96     9.7  0.597786   [1.7831850865016736]\n",
       "97     9.8  0.595175   [1.7924480067948274]\n",
       "98     9.9  0.592593   [1.8016098698546412]\n",
       "\n",
       "[99 rows x 3 columns]"
      ]
     },
     "execution_count": 48,
     "metadata": {},
     "output_type": "execute_result"
    }
   ],
   "source": [
    "df_new = pd.DataFrame(results, columns = ['varphi', 'pe', 'tb'])\n",
    "df_new"
   ]
  },
  {
   "cell_type": "code",
   "execution_count": 49,
   "id": "e09927be-d2c9-417f-a53d-6197351e62e1",
   "metadata": {},
   "outputs": [],
   "source": [
    "df_fin = df_new.apply(ret_results, axis = 1, args = (tax_scenario, ParaList, df))"
   ]
  },
  {
   "cell_type": "code",
   "execution_count": 50,
   "id": "078bf5bd-fbdb-40e6-98a1-3286e029b637",
   "metadata": {},
   "outputs": [],
   "source": [
    "#df_fin.to_csv('../output/renewable_init.csv'.format(case), header=True) "
   ]
  },
  {
   "cell_type": "code",
   "execution_count": 51,
   "id": "b38bd419-30c9-4a28-85b2-097cef4d3197",
   "metadata": {},
   "outputs": [
    {
     "data": {
      "text/plain": [
       "<matplotlib.legend.Legend at 0x215983d24c0>"
      ]
     },
     "execution_count": 51,
     "metadata": {},
     "output_type": "execute_result"
    },
    {
     "data": {
      "image/png": "[encoded data removed]",
      "text/plain": [
       "<Figure size 432x288 with 1 Axes>"
      ]
     },
     "metadata": {
      "needs_background": "light"
     },
     "output_type": "display_data"
    }
   ],
   "source": [
    "df1 = df_fin\n",
    "plt.plot(df1['varphi'],df1['CeFF_prime'],linewidth=1, label = 'CeFF')\n",
    "plt.plot(df1['varphi'],df1['CeHH_prime'],linewidth=1, label = 'CeHH')\n",
    "plt.plot(df1['varphi'],df1['CeFH_prime'],linewidth=1, label = 'CeFH')\n",
    "plt.plot(df1['varphi'],df1['CeHF_prime'],linewidth=1, label = 'CeHF')\n",
    "plt.legend()"
   ]
  },
  {
   "cell_type": "code",
   "execution_count": 33,
   "id": "87d6def6-5ea2-47c7-abb9-4b5f60a19f39",
   "metadata": {},
   "outputs": [
    {
     "data": {
      "text/plain": [
       "<matplotlib.legend.Legend at 0x2159820ba60>"
      ]
     },
     "execution_count": 33,
     "metadata": {},
     "output_type": "execute_result"
    },
    {
     "data": {
      "image/png": "[encoded data removed]",
      "text/plain": [
       "<Figure size 432x288 with 1 Axes>"
      ]
     },
     "metadata": {
      "needs_background": "light"
     },
     "output_type": "display_data"
    }
   ],
   "source": [
    "df1 = df_fin\n",
    "plt.xlim(0,100)\n",
    "plt.plot(df1['varphi'],df1['CeFF_prime'],linewidth=1, label = 'CeFF')\n",
    "plt.plot(df1['varphi'],df1['CeHH_prime'],linewidth=1, label = 'CeHH')\n",
    "plt.plot(df1['varphi'],df1['CeFH_prime'],linewidth=1, label = 'CeFH')\n",
    "plt.plot(df1['varphi'],df1['CeHF_prime'],linewidth=1, label = 'CeHF')\n",
    "plt.legend()"
   ]
  },
  {
   "cell_type": "code",
   "execution_count": 52,
   "id": "6ecc6ec6-cc5f-460c-9ea5-a676dd12731e",
   "metadata": {},
   "outputs": [
    {
     "data": {
      "text/plain": [
       "<matplotlib.legend.Legend at 0x215984c93a0>"
      ]
     },
     "execution_count": 52,
     "metadata": {},
     "output_type": "execute_result"
    },
    {
     "data": {
      "image/png": "[encoded data removed]",
      "text/plain": [
       "<Figure size 432x288 with 1 Axes>"
      ]
     },
     "metadata": {
      "needs_background": "light"
     },
     "output_type": "display_data"
    }
   ],
   "source": [
    "df1 = df_fin\n",
    "#plt.xlim(0,100)\n",
    "plt.plot(df1['varphi'],df1['Qe1_prime'],linewidth=1, label = 'Qe1')\n",
    "plt.plot(df1['varphi'],df1['Qe2_prime'],linewidth=1, label = 'Qe2_prime')\n",
    "plt.plot(df1['varphi'],df1['Qe1star_prime'],linewidth=1, label = 'Qe1star')\n",
    "plt.plot(df1['varphi'],df1['Qe2star_prime'],linewidth=1, label = 'Qe2star_prime')\n",
    "plt.legend()"
   ]
  },
  {
   "cell_type": "code",
   "execution_count": 86,
   "id": "7d50a1cb-bb53-448f-8fd7-56ef166c6e4e",
   "metadata": {},
   "outputs": [
    {
     "data": {
      "text/plain": [
       "[<matplotlib.lines.Line2D at 0x27f07d8e340>]"
      ]
     },
     "execution_count": 86,
     "metadata": {},
     "output_type": "execute_result"
    },
    {
     "data": {
      "image/png": "[encoded data removed]",
      "text/plain": [
       "<Figure size 432x288 with 1 Axes>"
      ]
     },
     "metadata": {
      "needs_background": "light"
     },
     "output_type": "display_data"
    }
   ],
   "source": [
    "plt.plot(df_fin['varphi'],df_fin['CeHH_prime'], color='C0',linewidth=1)"
   ]
  },
  {
   "cell_type": "code",
   "execution_count": 87,
   "id": "e9a59698-10fd-4616-8465-c3badcd3ba26",
   "metadata": {},
   "outputs": [
    {
     "data": {
      "text/plain": [
       "[<matplotlib.lines.Line2D at 0x27f08020e80>]"
      ]
     },
     "execution_count": 87,
     "metadata": {},
     "output_type": "execute_result"
    },
    {
     "data": {
      "image/png": "[encoded data removed]",
      "text/plain": [
       "<Figure size 432x288 with 1 Axes>"
      ]
     },
     "metadata": {
      "needs_background": "light"
     },
     "output_type": "display_data"
    }
   ],
   "source": [
    "plt.plot(df_fin['varphi'],df_fin['CeFH_prime'], color='C0',linewidth=1)"
   ]
  },
  {
   "cell_type": "code",
   "execution_count": 89,
   "id": "8f466f75-eb16-408c-875c-53e024858bbf",
   "metadata": {},
   "outputs": [
    {
     "data": {
      "text/plain": [
       "[<matplotlib.lines.Line2D at 0x27f07b84490>]"
      ]
     },
     "execution_count": 89,
     "metadata": {},
     "output_type": "execute_result"
    },
    {
     "data": {
      "image/png": "[encoded data removed]",
      "text/plain": [
       "<Figure size 432x288 with 1 Axes>"
      ]
     },
     "metadata": {
      "needs_background": "light"
     },
     "output_type": "display_data"
    }
   ],
   "source": [
    "# imports?\n",
    "plt.plot(df_fin['varphi'],df_fin['CeHF_prime'], color='C0',linewidth=1)"
   ]
  },
  {
   "cell_type": "code",
   "execution_count": 90,
   "id": "be50b0ae-68a3-477f-aac9-8399fb8de36a",
   "metadata": {},
   "outputs": [
    {
     "data": {
      "text/plain": [
       "[<matplotlib.lines.Line2D at 0x27f07cf30a0>]"
      ]
     },
     "execution_count": 90,
     "metadata": {},
     "output_type": "execute_result"
    },
    {
     "data": {
      "image/png": "[encoded data removed]",
      "text/plain": [
       "<Figure size 432x288 with 1 Axes>"
      ]
     },
     "metadata": {
      "needs_background": "light"
     },
     "output_type": "display_data"
    }
   ],
   "source": [
    "plt.plot(df_fin['varphi'],df_fin['CeFF_prime'], color='C0',linewidth=1)"
   ]
  },
  {
   "cell_type": "code",
   "execution_count": 47,
   "id": "58c3ff27-2764-4d72-9cfd-49fe627db6d4",
   "metadata": {},
   "outputs": [
    {
     "data": {
      "image/png": "[encoded data removed]",
      "text/plain": [
       "<Figure size 432x288 with 1 Axes>"
      ]
     },
     "metadata": {
      "needs_background": "light"
     },
     "output_type": "display_data"
    }
   ],
   "source": [
    "x_val = [x[0] for x in results]\n",
    "#y_val = [x[1] for x in data]\n",
    "z_val = [x[3] for x in results]\n",
    "#plt.set_ylim(0, 2)\n",
    "plt.xlabel('varphi')\n",
    "plt.ylabel('qe')\n",
    "plt.plot(x_val,z_val)\n",
    "plt.savefig('../plots/renewable/phi_qe.pdf', format='PDF')"
   ]
  },
  {
   "cell_type": "code",
   "execution_count": 51,
   "id": "a8738012-1b3f-4bb5-a648-dec914d94cd6",
   "metadata": {},
   "outputs": [
    {
     "data": {
      "text/plain": [
       "(895,\n",
       " 0.0009935840606822763,\n",
       " 21.121054830271007,\n",
       " (0.0, 16.917851918967724, 0.7249868744335474, 0.03792429495184734))"
      ]
     },
     "execution_count": 51,
     "metadata": {},
     "output_type": "execute_result"
    }
   ],
   "source": [
    "results[888]"
   ]
  },
  {
   "cell_type": "code",
   "execution_count": 48,
   "id": "3f7af1c0-1b77-4fbf-bad4-e08891d712ec",
   "metadata": {},
   "outputs": [
    {
     "data": {
      "image/png": "[encoded data removed]",
      "text/plain": [
       "<Figure size 432x288 with 1 Axes>"
      ]
     },
     "metadata": {
      "needs_background": "light"
     },
     "output_type": "display_data"
    }
   ],
   "source": [
    "x_val = [x[0] for x in results]\n",
    "#y_val = [x[1] for x in data]\n",
    "z_val = [x[2] for x in results]\n",
    "#plt.set_ylim(0, 2)\n",
    "plt.xlabel('varphi')\n",
    "plt.ylabel('tb')\n",
    "plt.plot(x_val,z_val)\n",
    "plt.savefig('../plots/renewable/phi_tb.pdf', format='PDF')"
   ]
  },
  {
   "cell_type": "code",
   "execution_count": 49,
   "id": "90954006-87d5-448c-9dc0-e397a1798b1c",
   "metadata": {},
   "outputs": [
    {
     "data": {
      "image/png": "[encoded data removed]",
      "text/plain": [
       "<Figure size 432x288 with 1 Axes>"
      ]
     },
     "metadata": {
      "needs_background": "light"
     },
     "output_type": "display_data"
    }
   ],
   "source": [
    "x_val = [x[0] for x in results]\n",
    "#y_val = [x[1] for x in data]\n",
    "z_val = [x[1] for x in results]\n",
    "#plt.set_ylim(0, 2)\n",
    "plt.xlabel('varphi')\n",
    "plt.ylabel('pe')\n",
    "plt.plot(x_val,z_val)\n",
    "plt.savefig('../plots/renewable/phi_pe.pdf', format='PDF')"
   ]
  },
  {
   "cell_type": "code",
   "execution_count": null,
   "id": "0c25f3d3-00ee-4c3f-a0a8-89ad35d4489a",
   "metadata": {},
   "outputs": [],
   "source": []
  }
 ],
 "metadata": {
  "kernelspec": {
   "display_name": "Python 3 (ipykernel)",
   "language": "python",
   "name": "python3"
  },
  "language_info": {
   "codemirror_mode": {
    "name": "ipython",
    "version": 3
   },
   "file_extension": ".py",
   "mimetype": "text/x-python",
   "name": "python",
   "nbconvert_exporter": "python",
   "pygments_lexer": "ipython3",
   "version": "3.9.5"
  }
 },
 "nbformat": 4,
 "nbformat_minor": 5
}
