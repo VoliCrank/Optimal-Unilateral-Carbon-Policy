{
 "cells": [
  {
   "cell_type": "code",
   "execution_count": 30,
   "id": "cc5f74fb-2e8a-45d5-b195-45a8fc07ac87",
   "metadata": {},
   "outputs": [],
   "source": [
    "from sympy import *\n",
    "x = symbols('x')"
   ]
  },
  {
   "cell_type": "code",
   "execution_count": 35,
   "id": "b55ec01f-eb7c-4679-a5e5-a54a400469da",
   "metadata": {},
   "outputs": [],
   "source": [
    "def jxbar_prime(pe, tb, jxbar, theta, alpha):\n",
    "    return  pe ** (-alpha * theta) * (pe + tb) ** (-(1 - alpha) * theta) / (\n",
    "            jxbar * pe ** (-alpha * theta) * (pe + tb) ** (-(1 - alpha) * theta) + (\n",
    "            1 - jxbar) * (pe + (1- alpha) * tb) ** (-theta)) * jxbar\n",
    "\n",
    "def j0bar_prime(pe,tb,jxbar, theta, alpha):\n",
    "    return (pe + tb) ** (-(1 - alpha) * theta) / (\n",
    "            jxbar * (pe + tb) ** (-(1 - alpha) * theta) + (1 - jxbar) * pe ** (\n",
    "            -(1 - alpha) * theta)) * jxbar\n",
    "\n",
    "def CeFF_prime(pe,tb,jxbar_prime, jxbar, sigmastar, theta, alpha):\n",
    "    epsilonDstar = alpha + (1 - alpha) * sigmastar\n",
    "    return Ceystar * ((1 - jxbar_prime) / (1 - jxbar)) ** (1 + (1 - sigmastar) / theta) * pe ** (-epsilonDstar)"
   ]
  },
  {
   "cell_type": "code",
   "execution_count": 102,
   "id": "5a7e4444-2aa2-4f31-93b0-beed7bd31e2e",
   "metadata": {},
   "outputs": [],
   "source": [
    "Cex = 0.421601\n",
    "Ceystar = 26.059874\n",
    "Cey = 4.598402945\n",
    "Cem = 1.196110986\n",
    "jxbar = Cex/(Cex + Ceystar)\n",
    "alpha = 0.85\n",
    "theta = 4\n",
    "## phi = 5\n",
    "pe = 1.010698\n",
    "tb = 1.762878\n",
    "tau = 1.1\n",
    "sigmastar = 1\n",
    "sigma = 1\n",
    "jxbar_p = jxbar_prime(pe, tb, jxbar, 4, 0.85)\n",
    "j0bar_p = j0bar_prime(pe,tb,jxbar,theta,alpha)"
   ]
  },
  {
   "cell_type": "code",
   "execution_count": 37,
   "id": "69ed0a9a-2efd-41ff-8f41-6f9a806b95c5",
   "metadata": {},
   "outputs": [],
   "source": [
    "def g(p, alpha):\n",
    "    return alpha**(-alpha) * (1-alpha)**(-(1-alpha)) * p**alpha\n",
    "\n",
    "def gprime(p, alpha):\n",
    "    return (alpha/(1-alpha))**(1-alpha) * p**(-(1-alpha))"
   ]
  },
  {
   "cell_type": "code",
   "execution_count": 113,
   "id": "c5b5ca5c-01dc-44d0-9b27-493b060ca000",
   "metadata": {},
   "outputs": [],
   "source": [
    "def jxbar_new(pe, tb, jxbar, theta, alpha, Cex, Ceystar):\n",
    "    num = g(pe + tb, alpha)**(-theta) * Cex\n",
    "    denum = g(pe+tb, alpha)**(-theta) * Cex + (g(pe, alpha) + tb * gprime(pe, alpha))**(-theta) * Ceystar\n",
    "    return num / denum\n",
    "\n",
    "def j0bar_new(pe,tb,jxbar,theta,alpha,Cex,Ceystar):\n",
    "    num = g(pe + tb, alpha)**(-theta) * Cex\n",
    "    denum = g(pe+tb, alpha)**(-theta) * Cex + (g(pe, alpha))**(-theta) * Ceystar\n",
    "    return num / denum\n",
    "\n",
    "def Ceystar_new(pe,tb, jxbar_p, jxbar, sigmastar, theta, Ceystar, alpha):\n",
    "    const = gprime(pe, alpha) * g(pe, alpha)**(-sigmastar) * Ceystar\n",
    "    frac = ((1-jxbar_p)/ (1-jxbar))**(1+(1-sigmastar)/theta)\n",
    "    return const * frac / (g(1,alpha)**(-sigmastar) * gprime(1,alpha))\n",
    "\n",
    "def Cey_new(pe,tb, sigmastar, theta, Cey, alpha):\n",
    "    const = gprime(pe + tb, alpha) * g(pe+tb, alpha)**(-sigma) * Cey\n",
    "    return const / (g(1,alpha)**(-sigma) * gprime(1,alpha))\n",
    "\n",
    "def Cex1_new(pe,tb, j0bar_p, j0bar, sigmastar, Cex, alpha):\n",
    "    const = gprime(pe + tb, alpha) * g(pe+tb, alpha)**(-sigmastar) / (g(1,alpha)**(-sigmastar) * gprime(1,alpha)) * Cex\n",
    "    frac = (j0bar_p / j0bar) ** (1+ (1-sigmastar)/theta)\n",
    "    return const * frac\n",
    "\n",
    "def Cem_new(pe, tb, sigma, Cem, alpha):\n",
    "    const = gprime(pe + tb, alpha) * g(pe + tb, alpha)**(-sigma) / (g(1,alpha)**(-sigmastar) * gprime(1,alpha)) * Cem\n",
    "    return const\n",
    "    \n",
    "def Vgx2_new(pe, jxbar_p, jxbar, j0bar_p, Cex, theta, sigmastar, alpha):\n",
    "    pterm = gprime(pe, alpha) * g(pe, alpha)**(-sigmastar) * pe * Cex / (g(1,alpha)**(-sigmastar) * gprime(1,alpha))**2\n",
    "    num = (1-j0bar_p)**((theta + 1 - sigmastar)/theta) - (1-jxbar_p)**((theta + 1 - sigmastar) / theta)\n",
    "    denum = jxbar * (1-jxbar)**((1-sigmastar)/theta)\n",
    "    return pterm * num / denum"
   ]
  },
  {
   "cell_type": "code",
   "execution_count": 104,
   "id": "762cbbc8-a036-4817-94ac-5c6f38181910",
   "metadata": {},
   "outputs": [
    {
     "data": {
      "text/plain": [
       "0.021877770950860884"
      ]
     },
     "execution_count": 104,
     "metadata": {},
     "output_type": "execute_result"
    }
   ],
   "source": [
    "jxbar_p"
   ]
  },
  {
   "cell_type": "code",
   "execution_count": 54,
   "id": "95e93e46-d6d1-43ac-b8e2-a5fd30fb2af6",
   "metadata": {},
   "outputs": [
    {
     "data": {
      "text/plain": [
       "25.627951530040672"
      ]
     },
     "execution_count": 63,
     "metadata": {},
     "output_type": "execute_result"
    }
   ],
   "source": [
    "CeFF_prime(pe,tb,jxbar_p, jxbar, sigmastar, theta, alpha)"
   ]
  },
  {
   "cell_type": "code",
   "execution_count": 58,
   "id": "f6f1e9c4-56d7-4c6a-a42d-e9bebb3ca0bc",
   "metadata": {},
   "outputs": [
    {
     "data": {
      "text/plain": [
       "25.627951530040665"
      ]
     },
     "execution_count": 64,
     "metadata": {},
     "output_type": "execute_result"
    }
   ],
   "source": [
    "Ceystar_new(pe,tb,jxbar_p, jxbar, sigmastar, theta, Ceystar, 1-alpha) "
   ]
  },
  {
   "cell_type": "code",
   "execution_count": 73,
   "id": "106d3fcf-b479-4087-81e2-f27617161a28",
   "metadata": {},
   "outputs": [
    {
     "data": {
      "text/plain": [
       "1.6579329158458247"
      ]
     },
     "execution_count": 73,
     "metadata": {},
     "output_type": "execute_result"
    }
   ],
   "source": [
    "Cey_new(pe,tb, sigmastar, theta, Cey, 1-alpha)"
   ]
  },
  {
   "cell_type": "code",
   "execution_count": 81,
   "id": "0d042246-48ad-4aa1-930f-95ef209fc423",
   "metadata": {},
   "outputs": [
    {
     "data": {
      "text/plain": [
       "0.08355317487818731"
      ]
     },
     "execution_count": 81,
     "metadata": {},
     "output_type": "execute_result"
    }
   ],
   "source": [
    "Cex1_new(pe, tb, j0bar_p, jxbar, sigmastar, Cex, 1-alpha)"
   ]
  },
  {
   "cell_type": "code",
   "execution_count": 90,
   "id": "14c53f64-c10e-4ed0-b6f9-0aa675294e7d",
   "metadata": {},
   "outputs": [
    {
     "data": {
      "text/plain": [
       "0.43125228441549823"
      ]
     },
     "execution_count": 90,
     "metadata": {},
     "output_type": "execute_result"
    }
   ],
   "source": [
    "Cem_new(pe, tb, sigma, Cem, 1- alpha)"
   ]
  },
  {
   "cell_type": "code",
   "execution_count": 114,
   "id": "e1517017-df83-42af-9c89-06c915b6ec9e",
   "metadata": {},
   "outputs": [
    {
     "data": {
      "text/plain": [
       "2.3174304261666916"
      ]
     },
     "execution_count": 114,
     "metadata": {},
     "output_type": "execute_result"
    }
   ],
   "source": [
    "Vgx2_new(pe, jxbar_p, jxbar, j0bar_p, Cex, theta, sigmastar, 1-alpha)"
   ]
  },
  {
   "cell_type": "code",
   "execution_count": null,
   "id": "34f68387-203a-492c-86a0-15fae61e3257",
   "metadata": {},
   "outputs": [],
   "source": []
  }
 ],
 "metadata": {
  "kernelspec": {
   "display_name": "Python 3 (ipykernel)",
   "language": "python",
   "name": "python3"
  },
  "language_info": {
   "codemirror_mode": {
    "name": "ipython",
    "version": 3
   },
   "file_extension": ".py",
   "mimetype": "text/x-python",
   "name": "python",
   "nbconvert_exporter": "python",
   "pygments_lexer": "ipython3",
   "version": "3.9.5"
  }
 },
 "nbformat": 4,
 "nbformat_minor": 5
}
