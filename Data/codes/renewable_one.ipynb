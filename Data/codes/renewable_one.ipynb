{
 "cells": [
  {
   "cell_type": "code",
   "execution_count": 3,
   "id": "ce7123e5-87c4-4f84-89fd-e770f361d648",
   "metadata": {},
   "outputs": [],
   "source": [
    "import math\n",
    "import numpy as np\n",
    "import pandas as pd\n",
    "from fun_utils import *\n",
    "from scipy.optimize import minimize, least_squares\n",
    "from scipy.optimize import fsolve\n",
    "from scipy.integrate import quad\n",
    "import matplotlib.pyplot as plt"
   ]
  },
  {
   "cell_type": "code",
   "execution_count": 4,
   "id": "a6729c02-194e-4a69-a02d-9e773e2bc10b",
   "metadata": {},
   "outputs": [],
   "source": [
    "## scenario switch\n",
    "case=3;  # 2 means no trade in goods; 3 means trade in both energy and goods\n",
    "logit = 0; # 1 means logit estimations of supply elasticity; 0 means fixed elasticities at 0.5"
   ]
  },
  {
   "cell_type": "code",
   "execution_count": 5,
   "id": "2f2f4f11-b505-4dab-8617-55a8b51e8576",
   "metadata": {},
   "outputs": [],
   "source": [
    "## parameter values\n",
    "alpha = 0.85;           # labor share parameter in manufacturing\n",
    "theta = 4;              # scopevec for comparative advantage\n",
    "sigma = 1;      # elasticity of demand for each individual manufactured good j at Home\n",
    "sigmastar = 1;  # elasticity of demand for each individual manufactured good j at Foreign\n",
    "epsilonD = alpha + (1 - alpha) * sigma;  #Home's elasticity of demand for embodied energy\n",
    "epsilonDstar = alpha + (1 - alpha) * sigmastar;  #Foreign's elasticity of demand for embodied energy\n",
    "# beta = 2.274853;\n",
    "# gamma= 0.784877595;\n",
    "beta=1.892412;\n",
    "gamma=0.807998928;\n",
    "epsilonS = 0.5;  #Homes's energy supply elasticity: beta/(1 - beta)\n",
    "epsilonSstar = 0.5;  #Foreign's energy supply elasticity: betastar/(1 - betastar)\n",
    "epsilonStar1 = 0.5\n",
    "epsilonStar2 = 0.7\n",
    "epsilonS1 = 0.5\n",
    "epsilonS2 = 0.7"
   ]
  },
  {
   "cell_type": "code",
   "execution_count": 6,
   "id": "6d18f927-3732-4ff5-a0f6-de0ecde3cfe7",
   "metadata": {},
   "outputs": [],
   "source": [
    "ParaList = (alpha, theta, sigma, sigmastar, epsilonD,epsilonDstar, epsilonS, epsilonStar1, epsilonStar2, epsilonS1, epsilonS2, beta, gamma, logit)"
   ]
  },
  {
   "cell_type": "code",
   "execution_count": 7,
   "id": "9db6357d-5dcf-44b6-a10d-55eb1de9b4fd",
   "metadata": {},
   "outputs": [],
   "source": [
    "tax_scenario= {'tax_sce': 'Unilateral', 'Base': 0}\n",
    "df = {'Qe1': 2.4800448, 'Qe2': 2, 'Qestar1': 3, 'Qestar2': 24.795946, 'Qeworld': 32.27599, 'CeHH': 4.598403, 'CeHF': 1.196111,'CeFH': 0.42160103,'CeFF': 26.059874,'Ce': 5.7945137,'Cestar': 26.481474,'Ge': 5.0200038,'Gestar': 27.255985,'Ceworld': 32.27599,'Geworld': 32.27599,'jxbar': 0.015920602214279298,'jmbar':  0.7935787194577492}"
   ]
  },
  {
   "cell_type": "code",
   "execution_count": 8,
   "id": "b6a6e370-52ea-440a-8a84-800a24a23c71",
   "metadata": {},
   "outputs": [],
   "source": [
    "## computes j values\n",
    "def jbar_hat(pe, alpha, theta, tb_mat, df):\n",
    "    jxbar_hat = (pe**(-alpha*theta) * (pe+tb_mat[0])**(-(1-alpha)*theta) / \n",
    "                 (df['jxbar'] * pe**(-alpha*theta) * (pe+tb_mat[0])**(-(1-alpha)*theta) + \n",
    "                  (1-df['jxbar']) * (pe + (1-alpha) * tb_mat[0])**(-theta)))\n",
    "    \n",
    "    j0_hat = (pe+tb_mat[0])**(-(1-alpha)*theta) / (df['jxbar'] * (pe+tb_mat[0])**(-(1-alpha)*theta) + (1-df['jxbar']) * pe**(-(1-alpha)*theta))\n",
    "    \n",
    "    jmbar_hat = 1\n",
    "    \n",
    "    ## compute final values for j's\n",
    "    jxbar_prime = jxbar_hat * df['jxbar']\n",
    "    jmbar_prime = jmbar_hat * df['jmbar']\n",
    "    j0_prime = j0_hat * df['jxbar']\n",
    "    \n",
    "    return (jxbar_hat, j0_hat, jmbar_hat, jxbar_prime, jmbar_prime, j0_prime)\n",
    "\n",
    "def integrand(i, theta, sigmastar):\n",
    "    return (i ** ((1 + theta) / theta - 1) * (1 - i) ** ((theta - sigmastar) / theta - 1)) \n",
    "\n",
    "def incomp_beta(low, hi, theta, sigmastar):\n",
    "    return quad(integrand,low, hi, args=(theta, sigmastar))[0]\n",
    "\n",
    "## computes extraction values (home, foreign)\n",
    "def compute_qe(tb_mat, petbte, epsilonSstar1, epsilonSstar2, logit, beta, gamma, pe, epsilonS1, epsilonS2, df):\n",
    "\n",
    "    Qe_prime = df['Qe1'] * (petbte)**epsilonS1 + df['Qe2'] * (pe + tb_mat[0]) ** epsilonS2\n",
    "    \n",
    "    Qestar_prime = df['Qestar1'] * pe**epsilonSstar1 + df['Qestar2'] * pe**epsilonSstar2\n",
    "    \n",
    "    return (Qe_prime, Qestar_prime)\n",
    "\n",
    "## computes consumption values (home, import, export, foreign)\n",
    "def compute_ce(pe, tb_mat, epsilonD,j0_hat, j0_prime, jmbar_hat, jxbar_prime, alpha, sigma, theta, epsilonDstar, df):\n",
    "    \n",
    "    ## home produce for home use\n",
    "    CeHH_hat = (pe + tb_mat[0]) ** (-epsilonD) * jmbar_hat ** (1 + (1 - sigma)/theta)\n",
    "    CeHH_prime = df['CeHH'] * CeHH_hat\n",
    "    \n",
    "    ## compute incomplete beta values\n",
    "    Bfunvec1_prime = incomp_beta(0, j0_prime, theta, sigmastar)\n",
    "    Bfunvec2_prime = incomp_beta(0, jxbar_prime, theta, sigmastar)\n",
    "    \n",
    "    CeFH1_hat = (pe +tb_mat[0])**(-epsilonDstar) * j0_hat**(1 + (1 - sigmastar)/theta)\n",
    "    CeFH2_hat = ((1 + (1 - sigmastar)/theta) * \n",
    "                 ((1-df['jxbar'])/df['jxbar'])**(sigmastar/theta) * \n",
    "                 pe**(-epsilonDstar) * (1 + tb_mat[0]/pe)**(-alpha) * \n",
    "                 (Bfunvec2_prime - Bfunvec1_prime) /\n",
    "                 df['jxbar']**(1+(1-sigmastar)/theta))\n",
    "    \n",
    "    CeFH1_prime = df['CeFH'] * CeFH1_hat\n",
    "    CeFH2_prime = df['CeFH'] * CeFH2_hat\n",
    "    CeFH_hat = CeFH1_hat + CeFH2_hat\n",
    "    \n",
    "    if np.isnan(CeFH_hat):\n",
    "        CeFH_hat=0\n",
    "        \n",
    "    CeFH_prime =df['CeFH'] * CeFH_hat\n",
    "    \n",
    "    CeHF_hat = (pe + tb_mat[0]) ** (-epsilonD)\n",
    "    CeHF_prime = df['CeHF'] * CeHF_hat\n",
    "    \n",
    "    CeFF_prime = df['CeFF'] * ((1 - jxbar_prime)/(1-df['jxbar'])) ** (1 + (1 - sigmastar)/theta) * pe ** (-epsilonDstar)\n",
    "    \n",
    "    return (CeHH_prime, CeFH1_prime, CeFH2_prime, CeFH_prime, CeHF_prime, CeFF_prime)\n",
    "    \n",
    "\n",
    "def compute_vg(df, pe, alpha, sigmastar, theta, epsilonDstar, jxbar_prime, j0_prime):\n",
    "    VgFH = df['CeFH'] /(1 - alpha)\n",
    "    VgFH2_hat = (pe**(1 - epsilonDstar) * ((1-j0_prime)**(1+(1-sigmastar)/theta) - (1-jxbar_prime)**(1+(1-sigmastar)/theta)) / \n",
    "                 (df['jxbar']  * (1 - df['jxbar'] )**( (1-sigmastar)/theta)))\n",
    "    VgFH2_prime = VgFH * VgFH2_hat\n",
    "    \n",
    "    return VgFH2_prime"
   ]
  },
  {
   "cell_type": "code",
   "execution_count": 9,
   "id": "c151afbb-52d7-45bf-9947-0f1cb76b604e",
   "metadata": {},
   "outputs": [],
   "source": [
    "## Comsumes:\n",
    "## p (a vector of price and tax), varphi (social cost of carbon), tax_scenario,\n",
    "## ParaList (a list of params for tuning the model) and df\n",
    "\n",
    "## Returns:\n",
    "## the sum of absolute value differences of total extraction - consumption\n",
    "## and the difference between tb (border adjustment) and it's equilibrium condition in paper.\n",
    "def opt_price(p, varphi, tax_scenario, ParaList, df):\n",
    "    pe = p[0]\n",
    "    tb_mat = p[1:]\n",
    "    alpha, theta, sigma, sigmastar, epsilonD,epsilonDstar, epsilonS, epsilonSstar1, epsilonSstar2, epsilonS1, epsilonS2, beta, gamma, logit = ParaList\n",
    "    \n",
    "    epsilonSstar = (epsilonSstar1 * df['Qestar1'] * pe**epsilonSstar1 + epsilonSstar2 * df['Qestar2'] * pe**epsilonSstar2) / (df['Qestar1'] + df['Qestar2'])\n",
    "    epsilonSstartilde = epsilonSstar1\n",
    "    \n",
    "    if tax_scenario['tax_sce']!='Unilateral':\n",
    "        print(\"shouldn't be here\")\n",
    "        return 0\n",
    "\n",
    "        \n",
    "    ## compute jbar_hat and jbar_prime values\n",
    "    jxbar_hat, j0_hat, jmbar_hat, jxbar_prime, jmbar_prime, j0_prime = jbar_hat(pe, alpha, theta, tb_mat, df)\n",
    "    \n",
    "\n",
    "    #if te is too large, Home stop producing\n",
    "    petbte = pe + tb_mat[0] - varphi\n",
    "    if (petbte < 0):\n",
    "        petbte = 0\n",
    "\n",
    "    ## compute equilibrium energy extraction\n",
    "    Qe_prime, Qestar_prime = compute_qe(tb_mat, petbte, epsilonSstar1, epsilonSstar2, logit, beta, gamma, pe, epsilonS1, epsilonS2, df)\n",
    "\n",
    "    ## compute equilibrium energy consumption\n",
    "    CeHH_prime, CeFH1_prime, CeFH2_prime, CeFH_prime, CeHF_prime, CeFF_prime = compute_ce(pe, tb_mat, epsilonD,j0_hat, j0_prime, jmbar_hat, jxbar_prime, alpha, sigma, theta, epsilonDstar, df)\n",
    "    \n",
    "    ## compute one term of value of exports (I think)\n",
    "    VgFH2_prime = compute_vg(df, pe, alpha, sigmastar, theta, epsilonDstar, jxbar_prime, j0_prime)\n",
    "    \n",
    "    ## compute difference of extraction and consumption\n",
    "    diff = Qe_prime + Qestar_prime - (CeHH_prime + CeFH_prime + CeHF_prime + CeFF_prime)\n",
    "    \n",
    "    ## compute second equilibrium condition\n",
    "    pai_g = (pe + tb_mat[0]) * CeFH2_prime / (1 - alpha) - VgFH2_prime\n",
    "    numerator = varphi * epsilonSstar * Qestar_prime - sigmastar * (1-alpha) * pai_g\n",
    "    denominator = epsilonSstar * Qestar_prime + epsilonDstar * CeFF_prime\n",
    "    diff1 = tb_mat[0] * denominator - numerator\n",
    "        \n",
    "    return abs(diff) + abs(diff1)"
   ]
  },
  {
   "cell_type": "code",
   "execution_count": 10,
   "id": "7f413f00-93b9-4478-bbf9-953c733c97b9",
   "metadata": {},
   "outputs": [],
   "source": [
    "varphi = 27.3"
   ]
  },
  {
   "cell_type": "code",
   "execution_count": 11,
   "id": "362507f8-3a7c-4bd4-b362-5781a987e3f0",
   "metadata": {},
   "outputs": [
    {
     "data": {
      "text/plain": [
       " final_simplex: (array([[0.74695233, 7.95244646],\n",
       "       [0.74695068, 7.95241333],\n",
       "       [0.74695186, 7.95243358]]), array([8.69459154e-05, 1.02515305e-04, 1.45932495e-04]))\n",
       "           fun: 8.694591537405927e-05\n",
       "       message: 'Optimization terminated successfully.'\n",
       "          nfev: 150\n",
       "           nit: 80\n",
       "        status: 0\n",
       "       success: True\n",
       "             x: array([0.74695233, 7.95244646])"
      ]
     },
     "execution_count": 11,
     "metadata": {},
     "output_type": "execute_result"
    }
   ],
   "source": [
    "res1 = minimize(opt_price, (1, 10), args = (varphi, tax_scenario, ParaList, df), bounds = [(0,np.inf), (0, np.inf)], method = 'Nelder-Mead', options = {'maxfev': 10000})\n",
    "res1"
   ]
  },
  {
   "cell_type": "code",
   "execution_count": 10,
   "id": "86ea2b42-0068-4603-b9c4-dc98f6dcdc48",
   "metadata": {},
   "outputs": [
    {
     "data": {
      "text/plain": [
       " final_simplex: (array([[0.90779309, 9.30731009],\n",
       "       [0.90779039, 9.30728004],\n",
       "       [0.90779116, 9.30729718]]), array([0.00015461, 0.00016399, 0.00018527]))\n",
       "           fun: 0.00015461206924172188\n",
       "       message: 'Optimization terminated successfully.'\n",
       "          nfev: 108\n",
       "           nit: 57\n",
       "        status: 0\n",
       "       success: True\n",
       "             x: array([0.90779309, 9.30731009])"
      ]
     },
     "execution_count": 10,
     "metadata": {},
     "output_type": "execute_result"
    }
   ],
   "source": [
    "res1 = minimize(opt_price, (1, 10), args = (varphi, tax_scenario, ParaList, df), bounds = [(0,np.inf), (0, np.inf)], method = 'Nelder-Mead', options = {'maxfev': 10000})\n",
    "res1"
   ]
  },
  {
   "cell_type": "code",
   "execution_count": 39,
   "id": "8f016055-a5ec-4b08-b3bd-c8b30582e08d",
   "metadata": {},
   "outputs": [
    {
     "data": {
      "text/plain": [
       "8.433563905896335e-05"
      ]
     },
     "execution_count": 39,
     "metadata": {},
     "output_type": "execute_result"
    }
   ],
   "source": [
    "res1.fun"
   ]
  },
  {
   "cell_type": "code",
   "execution_count": 12,
   "id": "53ef8d94-5860-43c4-bf12-abde7ce39a04",
   "metadata": {},
   "outputs": [],
   "source": [
    "results = []"
   ]
  },
  {
   "cell_type": "code",
   "execution_count": 13,
   "id": "c0bace60-100e-43fd-9a41-9c04f4b73cc4",
   "metadata": {},
   "outputs": [
    {
     "name": "stderr",
     "output_type": "stream",
     "text": [
      "C:\\Users\\Alex\\AppData\\Local\\Temp/ipykernel_12264/4170042058.py:3: RuntimeWarning: divide by zero encountered in double_scalars\n",
      "  jxbar_hat = (pe**(-alpha*theta) * (pe+tb_mat[0])**(-(1-alpha)*theta) /\n",
      "C:\\Users\\Alex\\AppData\\Local\\Temp/ipykernel_12264/4170042058.py:4: RuntimeWarning: divide by zero encountered in double_scalars\n",
      "  (df['jxbar'] * pe**(-alpha*theta) * (pe+tb_mat[0])**(-(1-alpha)*theta) +\n",
      "C:\\Users\\Alex\\AppData\\Local\\Temp/ipykernel_12264/4170042058.py:3: RuntimeWarning: invalid value encountered in double_scalars\n",
      "  jxbar_hat = (pe**(-alpha*theta) * (pe+tb_mat[0])**(-(1-alpha)*theta) /\n",
      "C:\\Users\\Alex\\AppData\\Local\\Temp/ipykernel_12264/4170042058.py:7: RuntimeWarning: divide by zero encountered in double_scalars\n",
      "  j0_hat = (pe+tb_mat[0])**(-(1-alpha)*theta) / (df['jxbar'] * (pe+tb_mat[0])**(-(1-alpha)*theta) + (1-df['jxbar']) * pe**(-(1-alpha)*theta))\n",
      "C:\\Users\\Alex\\AppData\\Local\\Temp/ipykernel_12264/4170042058.py:47: RuntimeWarning: divide by zero encountered in double_scalars\n",
      "  pe**(-epsilonDstar) * (1 + tb_mat[0]/pe)**(-alpha) *\n",
      "C:\\Users\\Alex\\AppData\\Local\\Temp/ipykernel_12264/4170042058.py:45: RuntimeWarning: invalid value encountered in double_scalars\n",
      "  CeFH2_hat = ((1 + (1 - sigmastar)/theta) *\n",
      "C:\\Users\\Alex\\AppData\\Local\\Temp/ipykernel_12264/4170042058.py:63: RuntimeWarning: divide by zero encountered in double_scalars\n",
      "  CeFF_prime = df['CeFF'] * ((1 - jxbar_prime)/(1-df['jxbar'])) ** (1 + (1 - sigmastar)/theta) * pe ** (-epsilonDstar)\n"
     ]
    }
   ],
   "source": [
    "for varphi in range(200):\n",
    "    res1 = minimize(opt_price, (0.5, 10), args = (varphi, tax_scenario, ParaList, df), bounds = [(0,np.inf), (0, np.inf)], method = 'Nelder-Mead', options = {'maxfev': 10000})\n",
    "    if res1.fun > 0.1:\n",
    "        print('did not converge', varphi)\n",
    "    results.append((varphi, res1.x[0], res1.x[1]))"
   ]
  },
  {
   "cell_type": "code",
   "execution_count": 19,
   "id": "58c3ff27-2764-4d72-9cfd-49fe627db6d4",
   "metadata": {},
   "outputs": [
    {
     "data": {
      "image/png": "[encoded data removed]",
      "text/plain": [
       "<Figure size 432x288 with 1 Axes>"
      ]
     },
     "metadata": {
      "needs_background": "light"
     },
     "output_type": "display_data"
    }
   ],
   "source": [
    "x_val = [x[0] for x in results]\n",
    "#y_val = [x[1] for x in data]\n",
    "z_val = [x[1] for x in results]\n",
    "#plt.set_ylim(0, 2)\n",
    "plt.xlabel('varphi')\n",
    "plt.ylabel('pe')\n",
    "plt.plot(x_val,z_val)\n",
    "plt.savefig('../plots/renewable/phi_pe.pdf', format='PDF')"
   ]
  },
  {
   "cell_type": "code",
   "execution_count": 20,
   "id": "3f7af1c0-1b77-4fbf-bad4-e08891d712ec",
   "metadata": {},
   "outputs": [
    {
     "data": {
      "image/png": "[encoded data removed]",
      "text/plain": [
       "<Figure size 432x288 with 1 Axes>"
      ]
     },
     "metadata": {
      "needs_background": "light"
     },
     "output_type": "display_data"
    }
   ],
   "source": [
    "x_val = [x[0] for x in results]\n",
    "#y_val = [x[1] for x in data]\n",
    "z_val = [x[2] for x in results]\n",
    "#plt.set_ylim(0, 2)\n",
    "plt.xlabel('varphi')\n",
    "plt.ylabel('tb')\n",
    "plt.plot(x_val,z_val)\n",
    "plt.savefig('../plots/renewable/phi_tb.pdf', format='PDF')"
   ]
  },
  {
   "cell_type": "code",
   "execution_count": null,
   "id": "90954006-87d5-448c-9dc0-e397a1798b1c",
   "metadata": {},
   "outputs": [],
   "source": []
  }
 ],
 "metadata": {
  "kernelspec": {
   "display_name": "Python 3 (ipykernel)",
   "language": "python",
   "name": "python3"
  },
  "language_info": {
   "codemirror_mode": {
    "name": "ipython",
    "version": 3
   },
   "file_extension": ".py",
   "mimetype": "text/x-python",
   "name": "python",
   "nbconvert_exporter": "python",
   "pygments_lexer": "ipython3",
   "version": "3.9.5"
  }
 },
 "nbformat": 4,
 "nbformat_minor": 5
}
