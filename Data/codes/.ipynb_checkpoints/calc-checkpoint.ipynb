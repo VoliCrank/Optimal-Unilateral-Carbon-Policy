{
 "cells": [
  {
   "cell_type": "code",
   "execution_count": 1,
   "id": "cc5f74fb-2e8a-45d5-b195-45a8fc07ac87",
   "metadata": {},
   "outputs": [],
   "source": [
    "from sympy import *\n",
    "from scipy.integrate import quad\n",
    "x = symbols('x')"
   ]
  },
  {
   "cell_type": "code",
   "execution_count": 2,
   "id": "b55ec01f-eb7c-4679-a5e5-a54a400469da",
   "metadata": {},
   "outputs": [],
   "source": [
    "def jxbar_prime(pe, tb, jxbar, theta, alpha):\n",
    "    return  pe ** (-alpha * theta) * (pe + tb) ** (-(1 - alpha) * theta) / (\n",
    "            jxbar * pe ** (-alpha * theta) * (pe + tb) ** (-(1 - alpha) * theta) + (\n",
    "            1 - jxbar) * (pe + (1- alpha) * tb) ** (-theta)) * jxbar\n",
    "\n",
    "def j0bar_prime(pe,tb,jxbar, theta, alpha):\n",
    "    return (pe + tb) ** (-(1 - alpha) * theta) / (\n",
    "            jxbar * (pe + tb) ** (-(1 - alpha) * theta) + (1 - jxbar) * pe ** (\n",
    "            -(1 - alpha) * theta)) * jxbar\n",
    "\n",
    "def CeFF_prime(pe,tb,jxbar_prime, jxbar, sigmastar, theta, alpha):\n",
    "    epsilonDstar = alpha + (1 - alpha) * sigmastar\n",
    "    return Ceystar * ((1 - jxbar_prime) / (1 - jxbar)) ** (1 + (1 - sigmastar) / theta) * pe ** (-epsilonDstar)\n",
    "\n",
    "def imcomp_betas(j0_prime, jxbar_prime, theta, sigmastar):\n",
    "    def tempFunction(i, theta, sigmastar):\n",
    "        return (i ** ((1 + theta) / theta - 1) * (1 - i) ** ((theta - sigmastar) / theta - 1))\n",
    "\n",
    "    Bfunvec1_prime = quad(tempFunction, 0, j0_prime, args=(theta, sigmastar))[0]\n",
    "    Bfunvec2_prime = quad(tempFunction, 0, jxbar_prime, args=(theta, sigmastar))[0]\n",
    "\n",
    "    return (Bfunvec1_prime, Bfunvec2_prime)"
   ]
  },
  {
   "cell_type": "code",
   "execution_count": 3,
   "id": "5a7e4444-2aa2-4f31-93b0-beed7bd31e2e",
   "metadata": {},
   "outputs": [],
   "source": [
    "Cex = 0.421601\n",
    "Ceystar = 26.059874\n",
    "Cey = 4.598402945\n",
    "Cem = 1.196110986\n",
    "jxbar = Cex/(Cex + Ceystar)\n",
    "alpha = 0.85\n",
    "theta = 4\n",
    "## phi = 5\n",
    "pe = 1.010698\n",
    "tb = 1.762878\n",
    "tau = 1.1\n",
    "sigmastar = 1\n",
    "sigma = 1\n",
    "jxbar_p = jxbar_prime(pe, tb, jxbar, 4, 0.85)\n",
    "j0bar_p = j0bar_prime(pe,tb,jxbar,theta,alpha)"
   ]
  },
  {
   "cell_type": "code",
   "execution_count": 4,
   "id": "69ed0a9a-2efd-41ff-8f41-6f9a806b95c5",
   "metadata": {},
   "outputs": [],
   "source": [
    "def g(p, alpha = 0.15):\n",
    "    return alpha**(-alpha) * (1-alpha)**(-(1-alpha)) * p**alpha\n",
    "\n",
    "def gprime(p, alpha = 0.15):\n",
    "    return (alpha/(1-alpha))**(1-alpha) * p**(-(1-alpha))"
   ]
  },
  {
   "cell_type": "code",
   "execution_count": 43,
   "id": "c5b5ca5c-01dc-44d0-9b27-493b060ca000",
   "metadata": {},
   "outputs": [],
   "source": [
    "def jxbar_new(pe, tb, jxbar, theta, alpha, Cex, Ceystar):\n",
    "    num = g(pe + tb, alpha)**(-theta) * Cex\n",
    "    denum = g(pe+tb, alpha)**(-theta) * Cex + (g(pe, alpha) + tb * gprime(pe, alpha))**(-theta) * Ceystar\n",
    "    return num / denum\n",
    "\n",
    "def j0bar_new(pe,tb,jxbar,theta,alpha,Cex,Ceystar):\n",
    "    num = g(pe + tb, alpha)**(-theta) * Cex\n",
    "    denum = g(pe+tb, alpha)**(-theta) * Cex + (g(pe, alpha))**(-theta) * Ceystar\n",
    "    return num / denum\n",
    "\n",
    "def Ceystar_new(pe,tb, jxbar_p, jxbar, sigmastar, theta, Ceystar, alpha):\n",
    "    const = gprime(pe, alpha) * g(pe, alpha)**(-sigmastar) * Ceystar\n",
    "    frac = ((1-jxbar_p)/ (1-jxbar))**(1+(1-sigmastar)/theta)\n",
    "    return const * frac / (g(1,alpha)**(-sigmastar) * gprime(1,alpha))\n",
    "\n",
    "def Cey_new(pe,tb, sigmastar, theta, Cey, alpha):\n",
    "    const = gprime(pe + tb, alpha) * g(pe+tb, alpha)**(-sigma) * Cey\n",
    "    return const / (g(1,alpha)**(-sigma) * gprime(1,alpha))\n",
    "\n",
    "def Cex1_new(pe,tb, j0bar_p, j0bar, sigmastar, Cex, alpha):\n",
    "    const = gprime(pe + tb, alpha) * g(pe+tb, alpha)**(-sigmastar) / (g(1,alpha)**(-sigmastar) * gprime(1,alpha)) * Cex\n",
    "    frac = (j0bar_p / j0bar) ** (1+ (1-sigmastar)/theta)\n",
    "    return const * frac\n",
    "\n",
    "def Cex2_new(pe,tb,jxbar_p, j0bar_p, jxbar, sigmastar, theta):\n",
    "    const = g(pe)**(-sigmastar) * gprime(pe + tb) / (g(1)**(-sigmastar) * gprime(1)) * Cex\n",
    "    frac = ((1-jxbar)/jxbar)**(sigmastar/theta) * (theta + 1 - sigmastar)/theta\n",
    "    jterm = 1/ jxbar**(1+(1-sigmastar)/theta)\n",
    "    B1, B2 = imcomp_betas(j0bar_p, jxbar_p, theta, sigmastar)\n",
    "    return const * frac * jterm * (B2- B1)\n",
    "    \n",
    "\n",
    "def Cem_new(pe, tb, sigma, Cem, alpha):\n",
    "    const = gprime(pe + tb, alpha) * g(pe + tb, alpha)**(-sigma) / (g(1,alpha)**(-sigmastar) * gprime(1,alpha)) * Cem\n",
    "    return const\n",
    "    \n",
    "def Vgx2_new(pe, jxbar_p, jxbar, j0bar_p, Cex, theta, sigmastar, alpha):\n",
    "    pterm = g(pe, alpha)**(1-sigmastar) *g(1)* Cex / (gprime(1,alpha) * g(1)**(1-sigmastar))\n",
    "    num = (1-j0bar_p)**((theta + 1 - sigmastar)/theta) - (1-jxbar_p)**((theta + 1 - sigmastar) / theta)\n",
    "    denum = jxbar * (1-jxbar)**((1-sigmastar)/theta)\n",
    "    return pterm * num / denum\n",
    "\n",
    "def Vgx1_new(pe, tb, j0_p, jxbar, Cex, theta, sigmastar):\n",
    "    const = (pe + tb) * g(pe+tb) **(-sigmastar) * gprime(pe + tb) / (g(1)**(-sigmastar) * gprime(1))\n",
    "    jterm = (j0_p/ jxbar)**(1+(1-sigmastar)/theta)\n",
    "    cterm = Cex / (g(1)**(-sigmastar) * gprime(1))\n",
    "    return const * jterm * cterm\n",
    "\n",
    "def S_new(pe, tb, Cex2_prime, Vgx2_prime):\n",
    "    const = g(pe+tb) / gprime(pe+tb) * Cex2_prime - Vgx2_prime\n",
    "    return const\n",
    "\n",
    "def Vgm_new(pe, tb, Cem):\n",
    "    return g(pe+tb)**(1-sigma) * Cem * g(1) / (g(1)**(1-sigma) * gprime(1))"
   ]
  },
  {
   "cell_type": "code",
   "execution_count": 26,
   "id": "762cbbc8-a036-4817-94ac-5c6f38181910",
   "metadata": {},
   "outputs": [
    {
     "data": {
      "text/plain": [
       "0.021877770950860884"
      ]
     },
     "execution_count": 26,
     "metadata": {},
     "output_type": "execute_result"
    }
   ],
   "source": [
    "jxbar_p"
   ]
  },
  {
   "cell_type": "code",
   "execution_count": 40,
   "id": "34f68387-203a-492c-86a0-15fae61e3257",
   "metadata": {},
   "outputs": [
    {
     "data": {
      "text/plain": [
       "2.4222219185583245"
      ]
     },
     "execution_count": 40,
     "metadata": {},
     "output_type": "execute_result"
    }
   ],
   "source": [
    "Cex2_prime = Cex2_new(pe, tb, jxbar_p, j0bar_p, jxbar, sigmastar, theta)\n",
    "Vgx2_prime = Vgx2_new(pe, jxbar_p, jxbar, j0bar_p, Cex, theta, sigmastar, 1-alpha)\n",
    "S_new(pe, tb, Cex2_prime, Vgx2_prime)"
   ]
  },
  {
   "cell_type": "code",
   "execution_count": 41,
   "id": "514f3f28-f875-4114-9657-aac6988445a5",
   "metadata": {},
   "outputs": [
    {
     "data": {
      "text/plain": [
       "0.23174304261666928"
      ]
     },
     "execution_count": 41,
     "metadata": {},
     "output_type": "execute_result"
    }
   ],
   "source": [
    "Vgx2_prime"
   ]
  },
  {
   "cell_type": "code",
   "execution_count": 20,
   "id": "3acbeb18-cd0f-4010-98c2-e73961ca8309",
   "metadata": {},
   "outputs": [
    {
     "data": {
      "text/plain": [
       "0.14353121896650714"
      ]
     },
     "execution_count": 20,
     "metadata": {},
     "output_type": "execute_result"
    }
   ],
   "source": [
    "Cex2_prime"
   ]
  },
  {
   "cell_type": "code",
   "execution_count": 21,
   "id": "1fc9b17b-6214-4c4c-b7c4-c60b481f2078",
   "metadata": {},
   "outputs": [
    {
     "data": {
      "text/plain": [
       "2.3174304261666916"
      ]
     },
     "execution_count": 21,
     "metadata": {},
     "output_type": "execute_result"
    }
   ],
   "source": [
    "Vgx2_prime"
   ]
  },
  {
   "cell_type": "code",
   "execution_count": 44,
   "id": "1549a4b9-ca0f-4e61-aad2-15bd4c2f58a6",
   "metadata": {},
   "outputs": [
    {
     "data": {
      "text/plain": [
       "7.97407324"
      ]
     },
     "execution_count": 44,
     "metadata": {},
     "output_type": "execute_result"
    }
   ],
   "source": [
    "Vgm_new(pe,tb,Cem)"
   ]
  },
  {
   "cell_type": "code",
   "execution_count": null,
   "id": "dae62314-ca39-49de-b27d-a9a062d9b1b5",
   "metadata": {},
   "outputs": [],
   "source": []
  }
 ],
 "metadata": {
  "kernelspec": {
   "display_name": "Python 3 (ipykernel)",
   "language": "python",
   "name": "python3"
  },
  "language_info": {
   "codemirror_mode": {
    "name": "ipython",
    "version": 3
   },
   "file_extension": ".py",
   "mimetype": "text/x-python",
   "name": "python",
   "nbconvert_exporter": "python",
   "pygments_lexer": "ipython3",
   "version": "3.9.5"
  }
 },
 "nbformat": 4,
 "nbformat_minor": 5
}
