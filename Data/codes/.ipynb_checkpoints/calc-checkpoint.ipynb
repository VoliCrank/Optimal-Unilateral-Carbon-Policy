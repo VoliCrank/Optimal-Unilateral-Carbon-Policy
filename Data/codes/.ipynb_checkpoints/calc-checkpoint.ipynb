{
 "cells": [
  {
   "cell_type": "code",
   "execution_count": 5,
   "id": "cc5f74fb-2e8a-45d5-b195-45a8fc07ac87",
   "metadata": {},
   "outputs": [],
   "source": [
    "from sympy import *\n",
    "x = symbols('x')"
   ]
  },
  {
   "cell_type": "code",
   "execution_count": 121,
   "id": "b55ec01f-eb7c-4679-a5e5-a54a400469da",
   "metadata": {},
   "outputs": [],
   "source": [
    "def jxbar_prime(pe, tb, jxbar, theta, alpha):\n",
    "    return  pe ** (-alpha * theta) * (pe + tb) ** (-(1 - alpha) * theta) / (\n",
    "            jxbar * pe ** (-alpha * theta) * (pe + tb) ** (-(1 - alpha) * theta) + (\n",
    "            1 - jxbar) * (pe + (1- alpha) * tb) ** (-theta)) * jxbar\n",
    "\n",
    "def j0bar_prime(pe,tb,jxbar, theta, alpha):\n",
    "    return (pe + tb) ** (-(1 - alpha) * theta) / (\n",
    "            jxbar * (pe + tb) ** (-(1 - alpha) * theta) + (1 - jxbar) * pe ** (\n",
    "            -(1 - alpha) * theta)) * jxbar\n",
    "\n",
    "def CeFF_prime(pe,tb,jxbar_prime, jxbar, sigmastar, theta, alpha):\n",
    "    epsilonDstar = alpha + (1 - alpha) * sigmastar\n",
    "    return Ceystar * ((1 - jxbar_prime) / (1 - jxbar)) ** (1 + (1 - sigmastar) / theta) * pe ** (-epsilonDstar)"
   ]
  },
  {
   "cell_type": "code",
   "execution_count": 122,
   "id": "5a7e4444-2aa2-4f31-93b0-beed7bd31e2e",
   "metadata": {},
   "outputs": [
    {
     "data": {
      "text/plain": [
       "0.008751063925477838"
      ]
     },
     "execution_count": 122,
     "metadata": {},
     "output_type": "execute_result"
    }
   ],
   "source": [
    "Cex = 0.421601\n",
    "Ceystar = 26.059874\n",
    "jxbar = Cex/(Cex + Ceystar)\n",
    "alpha = 0.85\n",
    "theta = 4\n",
    "pe = 1.010698\n",
    "tb = 1.762878\n",
    "tau = 1.1\n",
    "sigmastar = 1\n",
    "jxbar_prime = jxbar_prime(pe, tb, jxbar, 4, 0.85)\n",
    "j0bar_prime(pe,tb,jxbar,theta,alpha)"
   ]
  },
  {
   "cell_type": "code",
   "execution_count": 123,
   "id": "69ed0a9a-2efd-41ff-8f41-6f9a806b95c5",
   "metadata": {},
   "outputs": [],
   "source": [
    "def g(p, alpha):\n",
    "    return alpha**(-alpha) * (1-alpha)**(-(1-alpha)) * p**alpha\n",
    "\n",
    "def gprime(p, alpha):\n",
    "    return (alpha/(1-alpha))**(1-alpha) * p**(-(1-alpha))"
   ]
  },
  {
   "cell_type": "code",
   "execution_count": 129,
   "id": "c5b5ca5c-01dc-44d0-9b27-493b060ca000",
   "metadata": {},
   "outputs": [],
   "source": [
    "def jxbar_new(pe, tb, jxbar, theta, alpha, Cex, Ceystar):\n",
    "    num = g(pe + tb, alpha)**(-theta) * Cex\n",
    "    denum = g(pe+tb, alpha)**(-theta) * Cex + (g(pe, alpha) + tb * gprime(pe, alpha))**(-theta) * Ceystar\n",
    "    return num / denum\n",
    "\n",
    "def j0bar_new(pe,tb,jxbar,theta,alpha,Cex,Ceystar):\n",
    "    num = g(pe + tb, alpha)**(-theta) * Cex\n",
    "    denum = g(pe+tb, alpha)**(-theta) * Cex + (g(pe, alpha))**(-theta) * Ceystar\n",
    "    return num / denum\n",
    "\n",
    "def Ceystar_new(pe,tb, jxbar_prime, jxbar, sigmastar, theta, Ceystar, alpha):\n",
    "    const = gprime(pe, alpha) * g(pe, alpha)**(-sigmastar) * Ceystar\n",
    "    frac = ((1-jxbar_prime)/ (1-jxbar))**(1+(1-sigmastar)/theta)\n",
    "    return const * frac"
   ]
  },
  {
   "cell_type": "code",
   "execution_count": 125,
   "id": "762cbbc8-a036-4817-94ac-5c6f38181910",
   "metadata": {},
   "outputs": [
    {
     "data": {
      "text/plain": [
       "0.008751063925477845"
      ]
     },
     "execution_count": 125,
     "metadata": {},
     "output_type": "execute_result"
    }
   ],
   "source": [
    "j0bar_new(pe,tb,jxbar,theta,1-alpha,Cex,Ceystar)"
   ]
  },
  {
   "cell_type": "code",
   "execution_count": 126,
   "id": "95e93e46-d6d1-43ac-b8e2-a5fd30fb2af6",
   "metadata": {},
   "outputs": [
    {
     "data": {
      "text/plain": [
       "25.627951530040672"
      ]
     },
     "execution_count": 126,
     "metadata": {},
     "output_type": "execute_result"
    }
   ],
   "source": [
    "CeFF_prime(pe,tb,jxbar_prime, jxbar, sigmastar, theta, alpha)"
   ]
  },
  {
   "cell_type": "code",
   "execution_count": 137,
   "id": "f6f1e9c4-56d7-4c6a-a42d-e9bebb3ca0bc",
   "metadata": {},
   "outputs": [
    {
     "data": {
      "text/plain": [
       "25.62795153004067"
      ]
     },
     "execution_count": 137,
     "metadata": {},
     "output_type": "execute_result"
    }
   ],
   "source": [
    "Ceystar_new(pe,tb,jxbar_prime, jxbar, sigmastar, theta, Ceystar, 1-alpha) / (1-alpha)"
   ]
  },
  {
   "cell_type": "code",
   "execution_count": null,
   "id": "106d3fcf-b479-4087-81e2-f27617161a28",
   "metadata": {},
   "outputs": [],
   "source": []
  }
 ],
 "metadata": {
  "kernelspec": {
   "display_name": "Python 3 (ipykernel)",
   "language": "python",
   "name": "python3"
  },
  "language_info": {
   "codemirror_mode": {
    "name": "ipython",
    "version": 3
   },
   "file_extension": ".py",
   "mimetype": "text/x-python",
   "name": "python",
   "nbconvert_exporter": "python",
   "pygments_lexer": "ipython3",
   "version": "3.9.5"
  }
 },
 "nbformat": 4,
 "nbformat_minor": 5
}
