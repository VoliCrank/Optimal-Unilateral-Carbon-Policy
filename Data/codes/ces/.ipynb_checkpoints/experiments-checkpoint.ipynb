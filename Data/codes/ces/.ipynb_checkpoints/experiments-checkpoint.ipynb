{
 "cells": [
  {
   "cell_type": "code",
   "execution_count": 1,
   "id": "900a0f8a-ddf1-425b-89bf-06f5085bb084",
   "metadata": {},
   "outputs": [],
   "source": [
    "from sympy import *\n",
    "from scipy.integrate import quad\n",
    "x = symbols('x')\n",
    "import math"
   ]
  },
  {
   "cell_type": "code",
   "execution_count": 2,
   "id": "0a8b1bd9-49af-4072-92d1-781d4a7bf753",
   "metadata": {},
   "outputs": [],
   "source": [
    "def imcomp_betas(j0_prime, jxbar_prime, theta, sigmastar):\n",
    "    def tempFunction(i, theta, sigmastar):\n",
    "        return (i ** ((1 + theta) / theta - 1) * (1 - i) ** ((theta - sigmastar) / theta - 1))\n",
    "\n",
    "    Bfunvec1_prime = quad(tempFunction, 0, j0_prime, args=(theta, sigmastar))[0]\n",
    "    Bfunvec2_prime = quad(tempFunction, 0, jxbar_prime, args=(theta, sigmastar))[0]\n",
    "\n",
    "    return (Bfunvec1_prime, Bfunvec2_prime)"
   ]
  },
  {
   "cell_type": "code",
   "execution_count": 3,
   "id": "ed921c0f-786d-4825-979b-42239c3aa56e",
   "metadata": {},
   "outputs": [],
   "source": [
    "Cex = 0.421601\n",
    "Ceystar = 26.059874\n",
    "Cey = 4.598402945\n",
    "Cem = 1.196110986\n",
    "jxbar = Cex/(Cex + Ceystar)\n",
    "jmbar = Cey / (Cey + Cem)\n",
    "alpha = 0.85\n",
    "theta = 4\n",
    "## phi = 5\n",
    "pe = 0.965289922\n",
    "te = 0.368354551\n",
    "tb = 0.368354551\n",
    "sigmastar = 1\n",
    "sigma = 1\n",
    "epsilonS = 0.5  #Homes's energy supply elasticity: beta/(1 - beta)\n",
    "epsilonSstar = 0.5  #Foreign's energy supply elasticity: betastar/(1 - betastar)\n",
    "epsilonD = alpha + (1 - alpha) * sigma  #Home's elasticity of demand for embodied energy\n",
    "epsilonDstar = alpha + (1 - alpha) * sigmastar  #Foreign's elasticity of demand for embodied energy\n",
    "varphi = 1\n",
    "prop = 0.449691508\n",
    "\n",
    "Vg_prime = 38.63009333\n",
    "Vgstar_prime = 176.5431669"
   ]
  },
  {
   "cell_type": "code",
   "execution_count": 4,
   "id": "1c386003-6459-4cb6-ace8-420ed9afe51c",
   "metadata": {},
   "outputs": [],
   "source": [
    "def g(p, alpha = 0.15):\n",
    "    return alpha**(-alpha) * (1-alpha)**(-(1-alpha)) * p**alpha\n",
    "\n",
    "def gprime(p, alpha = 0.15):\n",
    "    return (alpha/(1-alpha))**(1-alpha) * p**(-(1-alpha))\n",
    "\n",
    "def k(p):\n",
    "    return gprime(p) / (g(p)-p*gprime(p))\n",
    "\n",
    "def gdprime(p, alpha = 0.15):\n",
    "    return -alpha * p**(alpha - 2) * ((1-alpha)/alpha)**alpha\n",
    "\n",
    "def Dstar(p, sigmastar):\n",
    "    return gprime(p) * g(p)**(-sigmastar)\n",
    "\n",
    "def Dstarprime(p, sigmastar):\n",
    "    return diff(Dstar(x, sigmastar),x).subs(x,p)\n",
    "\n",
    "def D1star(p,t,sigmastar):\n",
    "    return g(p)**(-sigmastar) * gprime(p + t)\n",
    "\n",
    "def D1starprime(p,t,sigmastar):\n",
    "    return diff(D1star(x,t,sigmastar),x).subs(x,p)"
   ]
  },
  {
   "cell_type": "code",
   "execution_count": 5,
   "id": "ff981f8f-69f8-44fa-9435-f054447bbebf",
   "metadata": {},
   "outputs": [],
   "source": [
    "def jxbar_new(pe, tb, jxbar, theta, Cex, Ceystar):\n",
    "    num = g(pe + tb)**(-theta) * Cex\n",
    "    denum = g(pe+tb)**(-theta) * Cex + (g(pe) + tb * gprime(pe))**(-theta) * Ceystar\n",
    "    return num / denum\n",
    "\n",
    "def j0_new(pe,tb,jxbar,theta,Cex,Ceystar):\n",
    "    num = g(pe + tb)**(-theta) * Cex\n",
    "    denum = g(pe+tb)**(-theta) * Cex + (g(pe))**(-theta) * Ceystar\n",
    "    return num / denum\n",
    "\n",
    "def Ceystar_new(pe,tb, jxbar_p, jxbar, sigmastar, theta, Ceystar):\n",
    "    const = gprime(pe) * g(pe)**(-sigmastar) * Ceystar\n",
    "    frac = ((1-jxbar_p)/ (1-jxbar))**(1+(1-sigmastar)/theta)\n",
    "    #frac = ((1-jxbar_new(pe,tb,jxbar,theta,Cex,Ceystar))/ (1-jxbar))**(1+(1-sigmastar)/theta)\n",
    "    return const * frac / (g(1)**(-sigmastar) * gprime(1))\n",
    "\n",
    "def Cey_new(pe,tb, sigmastar, theta, Cey):\n",
    "    const = gprime(pe + tb) * g(pe+tb)**(-sigma) * Cey\n",
    "    return const / (g(1)**(-sigma) * gprime(1))\n",
    "\n",
    "def Cex1_new(pe,tb, j0bar_p, j0bar, sigmastar, Cex):\n",
    "    const = gprime(pe + tb) * g(pe+tb)**(-sigmastar) / (g(1)**(-sigmastar) * gprime(1)) * Cex\n",
    "    frac = (j0bar_p / j0bar) ** (1+ (1-sigmastar)/theta)\n",
    "    return const * frac\n",
    "\n",
    "def Cex2_new(pe,tb,jxbar_p, j0bar_p, jxbar, sigmastar, theta):\n",
    "    const = g(pe)**(-sigmastar) * gprime(pe + tb) / (g(1)**(-sigmastar) * gprime(1)) * Cex\n",
    "    frac = ((1-jxbar)/jxbar)**(sigmastar/theta) * (theta + 1 - sigmastar)/theta\n",
    "    jterm = 1/ jxbar**(1+(1-sigmastar)/theta)\n",
    "    B1, B2 = imcomp_betas(j0bar_p, jxbar_p, theta, sigmastar)\n",
    "    return const * frac * jterm * (B2- B1)\n",
    "    \n",
    "\n",
    "def Cem_new(pe, tb, sigma, Cem):\n",
    "    const = gprime(pe + tb) * g(pe + tb)**(-sigma) / (g(1)**(-sigmastar) * gprime(1)) * Cem\n",
    "    return const\n",
    "    \n",
    "def Vgx2_new(pe, jxbar_p, jxbar, j0bar_p, Cex, theta, sigmastar):\n",
    "    pterm = g(pe)**(1-sigmastar) *g(1)* Cex / (gprime(1) * g(1)**(1-sigmastar))\n",
    "    num = (1-j0bar_p)**((theta + 1 - sigmastar)/theta) - (1-jxbar_p)**((theta + 1 - sigmastar) / theta)\n",
    "    denum = jxbar * (1-jxbar)**((1-sigmastar)/theta)\n",
    "    return pterm * num / denum\n",
    "\n",
    "def Vgx1_new(pe, tb, j0_p, jxbar, Cex, theta, sigmastar):\n",
    "    const = (g(pe+tb) / g(1))**(1-sigmastar) * (j0_p / jxbar)**(1+(1-sigmastar)/theta) * g(1)/gprime(1) * Cex\n",
    "    return const\n",
    "\n",
    "def S_new(pe, tb, Cex2_prime, Vgx2_prime):\n",
    "    const = g(pe+tb) / gprime(pe+tb) * Cex2_prime - Vgx2_prime\n",
    "    return const\n",
    "\n",
    "def Vgm_new(pe, tb, Cem):\n",
    "    return g(pe+tb)**(1-sigma) * Cem * g(1) / (g(1)**(1-sigma) * gprime(1))\n",
    "\n",
    "def Lg_new(pe, tb, Cey_prime, Cex1_prime, Cex2_prime):\n",
    "    return (1/k(pe+tb)) * (Cey_prime + Cex1_prime + Cex2_prime)\n",
    "\n",
    "def Lgstar_new(pe,tb,Ceystar_prime, Cem_prime):\n",
    "    return 1/k(pe) * Ceystar_prime + 1/k(pe+tb) * Cem_prime\n",
    "\n",
    "def Vgstar_new(pe,jxbar_prime,jxbar, sigmastar,theta,Ceystar, Vgx1_prime, Vgx2_prime):\n",
    "    Vgystar_prime = (g(pe) / g(1))**(1-sigmastar) * ((1-jxbar_prime)/(1-jxbar)) ** (1+(1-sigmastar)/theta) * g(1)/ gprime(1) * Ceystar\n",
    "    return Vgystar_prime + Vgx1_prime + Vgx2_prime\n"
   ]
  },
  {
   "cell_type": "code",
   "execution_count": 6,
   "id": "befbb2e8-5c99-4368-81b0-8322ab36e47a",
   "metadata": {},
   "outputs": [],
   "source": [
    "jxbar_prime = jxbar_new(pe, tb, jxbar, theta, Cex, Ceystar)\n",
    "jxbar_prime = jxbar\n",
    "j0_prime = j0_new(pe,tb,jxbar,theta,Cex,Ceystar)\n",
    "Cey_prime = Cey_new(pe,tb, sigmastar, theta, Cey)\n",
    "Cex1_prime = Cex1_new(pe,tb, j0_prime, jxbar, sigmastar, Cex)\n",
    "Cex2_prime = Cex2_new(pe, tb, jxbar_prime, j0_prime, jxbar, sigmastar, theta)\n",
    "Cem_prime = Cem_new(pe, tb, sigma, Cem)\n",
    "Ceystar_prime = Ceystar_new(pe,tb, jxbar_prime, jxbar, sigmastar, theta, Ceystar)\n",
    "Vgx1_prime = Vgx1_new(pe, tb, j0_prime, jxbar, Cex, theta, sigmastar)\n",
    "Vgx2_prime = Vgx2_new(pe, jxbar_prime, jxbar, j0_prime, Cex, theta, sigmastar)\n",
    "Vgm_prime = Vgm_new(pe, tb, Cem)\n",
    "S = S_new(pe, tb, Cex2_prime, Vgx2_prime)\n",
    "Lg_prime = Lg_new(pe, tb, Cey_prime, Cex1_prime, Cex2_prime)\n",
    "Lgstar_prime =Lgstar_new(pe,tb,Ceystar_prime, Cem_prime)\n",
    "Vgstar_prime = Vgstar_new(pe,jxbar_prime,jxbar, sigmastar,theta,Ceystar, Vgx1_prime, Vgx2_prime)"
   ]
  },
  {
   "cell_type": "code",
   "execution_count": 7,
   "id": "6816b1fc-1810-478b-884a-084ef7628ae7",
   "metadata": {},
   "outputs": [],
   "source": [
    "Cex_prime = gprime(pe) * g(pe)**(-sigmastar) / (g(1)**(-sigmastar) * gprime(1)) * (jxbar_prime / jxbar) ** (1+ (1-sigmastar)/theta) * Cex\n",
    "Ce_prime = Cey_prime + Cem_prime\n",
    "Cestar_prime = Ceystar_prime + Cex_prime\n",
    "Ceworld_prime = Ce_prime + Cestar_prime\n",
    "Qe_prime =4.40505495\n",
    "Qestar_prime = 27.33067971\n",
    "Qeworld_prime = Qe_prime + Qestar_prime\n"
   ]
  },
  {
   "cell_type": "code",
   "execution_count": 8,
   "id": "74db8cca-da3a-4bc4-a6ce-626bb1f9baeb",
   "metadata": {},
   "outputs": [],
   "source": [
    "dcestardpe = abs(Dstarprime(pe,sigmastar) / Dstar(pe,sigmastar) * Cex_prime \n",
    "                      #+ D1starprime(pe,tb,sigmastar) / D1star(pe,tb,sigmastar) * Cex2_prime\n",
    "                      + Dstarprime(pe,sigmastar) / Dstar(pe,sigmastar) * (Ceystar_prime))\n",
    "numerator = varphi * (epsilonS * Qe_prime + epsilonSstar * Qestar_prime)\n",
    "denominator = numerator / varphi + dcestardpe * pe"
   ]
  },
  {
   "cell_type": "code",
   "execution_count": 9,
   "id": "04fd677f-764a-49b6-b903-36253e511ae9",
   "metadata": {},
   "outputs": [],
   "source": [
    "epsilonSw = (Qe_prime) * epsilonS / Qeworld_prime + Qestar_prime * epsilonSstar / Qeworld_prime\n",
    "numerator = varphi * epsilonSw * Qeworld_prime\n",
    "denominator = epsilonSw * Qeworld_prime + epsilonDstar * Cestar_prime"
   ]
  },
  {
   "cell_type": "code",
   "execution_count": 10,
   "id": "ae4da8a5-4db7-4485-84fb-83644f0a66fa",
   "metadata": {},
   "outputs": [],
   "source": [
    "rho = 0.0001"
   ]
  },
  {
   "cell_type": "code",
   "execution_count": 11,
   "id": "e8dce84f-02a0-4c23-8bfc-ad82b6c685c7",
   "metadata": {},
   "outputs": [],
   "source": [
    "def g1(p, rho = rho):\n",
    "    alpha = 0.15\n",
    "    t1 = (1-alpha)**(1/(1-rho))\n",
    "    t2 = alpha**(1/(1-rho)) * p**(-rho/(1-rho))\n",
    "    return (t1 + t2)**(-(1-rho)/rho)\n",
    "\n",
    "def g1prime(p, rho = rho):\n",
    "    alpha = 0.15\n",
    "    return diff(g1(x, rho),x).subs(x,p)"
   ]
  },
  {
   "cell_type": "code",
   "execution_count": 62,
   "id": "8a7d19bf-0c4b-4aef-ab3a-fd4acbe6a22c",
   "metadata": {},
   "outputs": [],
   "source": [
    "pe = 0.965289922\n",
    "tb = 0.368354551\n",
    "prop = 0.449691508\n",
    "re = (pe + tb) / pe\n",
    "ve = (pe + tb - prop*tb)\n",
    "jmbar_prime =0.767046309\n",
    "jxbar_prime = 0.014224486\n",
    "Cey_prime = 3.447997017\n",
    "Cex_prime = 0.32250493\n",
    "Cem_prime = 0.896873797\n",
    "Ceystar_prime = 27.04347061\n",
    "Qe_prime = 4.40160679\n",
    "Qestar_prime = 27.30928598\n",
    "epsilonSw = (Qe_prime) * epsilonS / Qeworld_prime + Qestar_prime * epsilonSstar / Qeworld_prime\n",
    "djxbardpe = theta * gprime(pe) / g(pe) * jxbar_prime * (1-jxbar_prime)"
   ]
  },
  {
   "cell_type": "code",
   "execution_count": 63,
   "id": "cb6a02d5-55b1-478e-907c-734c503012f9",
   "metadata": {},
   "outputs": [],
   "source": [
    "dceystardpe = abs(Dstarprime(pe, sigmastar) / Dstar(pe, sigmastar) + (1+(1-sigmastar) / theta) / (1-jxbar_prime) * djxbardpe) * Ceystar_prime\n",
    "dcexdpe = abs((1+(1-sigmastar) / theta) / (jxbar_prime) * djxbardpe) * Cex_prime"
   ]
  },
  {
   "cell_type": "code",
   "execution_count": 69,
   "id": "fdb67b16-f5fe-4601-985b-dfa627e1da16",
   "metadata": {},
   "outputs": [
    {
     "data": {
      "text/latex": [
       "$\\displaystyle 26.81266292855$"
      ],
      "text/plain": [
       "26.8126629285500"
      ]
     },
     "execution_count": 69,
     "metadata": {},
     "output_type": "execute_result"
    }
   ],
   "source": [
    "abs(Dstarprime(pe, sigmastar) / Dstar(pe, sigmastar) + (1+(1-sigmastar) / theta) / (1-jxbar_prime) * djxbardpe) * Ceystar_prime * pe"
   ]
  },
  {
   "cell_type": "code",
   "execution_count": 65,
   "id": "8ea93e18-1371-4516-ae69-7aac960492bb",
   "metadata": {},
   "outputs": [
    {
     "data": {
      "text/plain": [
       "0.19075047788297042"
      ]
     },
     "execution_count": 65,
     "metadata": {},
     "output_type": "execute_result"
    }
   ],
   "source": [
    "abs((1+(1-sigmastar) / theta) / (jxbar_prime) * djxbardpe) * Cex_prime * pe"
   ]
  },
  {
   "cell_type": "code",
   "execution_count": 66,
   "id": "6f9d8507-1a71-4e43-bb98-cfb94f70ed5e",
   "metadata": {},
   "outputs": [
    {
     "data": {
      "text/plain": [
       "0.32250493"
      ]
     },
     "execution_count": 66,
     "metadata": {},
     "output_type": "execute_result"
    }
   ],
   "source": [
    "epsilonDstar * Cex_prime"
   ]
  },
  {
   "cell_type": "code",
   "execution_count": 67,
   "id": "e6fdc2e0-e5ff-445c-9d2a-ef5b8b6f04ba",
   "metadata": {},
   "outputs": [
    {
     "data": {
      "text/latex": [
       "$\\displaystyle 26.81266292855$"
      ],
      "text/plain": [
       "26.8126629285500"
      ]
     },
     "execution_count": 67,
     "metadata": {},
     "output_type": "execute_result"
    }
   ],
   "source": [
    "dceystardpe* pe"
   ]
  },
  {
   "cell_type": "code",
   "execution_count": 68,
   "id": "e0c61e8a-d620-42aa-9470-3576c10a375a",
   "metadata": {},
   "outputs": [
    {
     "data": {
      "text/plain": [
       "0.19075047788297042"
      ]
     },
     "execution_count": 68,
     "metadata": {},
     "output_type": "execute_result"
    }
   ],
   "source": [
    "dcexdpe *pe"
   ]
  },
  {
   "cell_type": "code",
   "execution_count": null,
   "id": "5128a2cc-6123-42a6-a85f-f1ac3dc9719b",
   "metadata": {},
   "outputs": [],
   "source": []
  }
 ],
 "metadata": {
  "kernelspec": {
   "display_name": "Python 3 (ipykernel)",
   "language": "python",
   "name": "python3"
  },
  "language_info": {
   "codemirror_mode": {
    "name": "ipython",
    "version": 3
   },
   "file_extension": ".py",
   "mimetype": "text/x-python",
   "name": "python",
   "nbconvert_exporter": "python",
   "pygments_lexer": "ipython3",
   "version": "3.9.5"
  }
 },
 "nbformat": 4,
 "nbformat_minor": 5
}
