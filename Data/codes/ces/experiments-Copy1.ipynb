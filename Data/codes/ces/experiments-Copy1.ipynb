{
 "cells": [
  {
   "cell_type": "code",
   "execution_count": 1,
   "id": "900a0f8a-ddf1-425b-89bf-06f5085bb084",
   "metadata": {},
   "outputs": [],
   "source": [
    "from sympy import *\n",
    "import sympy\n",
    "from scipy.integrate import quad\n",
    "from scipy.optimize import minimize\n",
    "x,a = symbols('x a')\n",
    "import math"
   ]
  },
  {
   "cell_type": "code",
   "execution_count": 2,
   "id": "ed921c0f-786d-4825-979b-42239c3aa56e",
   "metadata": {},
   "outputs": [],
   "source": [
    "rho = 0.5\n",
    "## define CES production function and its derivative\n",
    "def g(p, rho = rho, alpha = 0.15):\n",
    "    if rho == 0:\n",
    "        return alpha**(-alpha) * (1-alpha)**(-(1-alpha)) * p**alpha\n",
    "    else:\n",
    "        t1 = (1-alpha)**(1/(1-rho))\n",
    "        t2 = alpha**(1/(1-rho)) * p**(-rho/(1-rho))\n",
    "        return (t1 + t2)**(-(1-rho)/rho)\n",
    "\n",
    "def gprime_new(p, rho = rho, alpha = 0.15):\n",
    "    if rho == 0:\n",
    "        return (alpha/(1-alpha))**(1-alpha) * p**(-(1-alpha))\n",
    "    else:\n",
    "        t1 = (1-alpha)**(1/(1-rho))\n",
    "        t2 = alpha**(1/(1-rho)) * p**(-rho/(1-rho))\n",
    "        coef = alpha **(1/(1-rho)) * p**(-rho/(1-rho) - 1)\n",
    "        return (t1 + t2)**(-(1-rho)/rho - 1) * coef\n",
    "    \n",
    "def gprime(p, rho = rho, alpha = 0.15):\n",
    "    if rho == 0:\n",
    "        return (alpha/(1-alpha))**(1-alpha) * p**(-(1-alpha))\n",
    "    else:\n",
    "        res = diff(g(x, rho, alpha),x).subs(x,p)\n",
    "        if type(res) == sympy.core.numbers.Float:\n",
    "            res = float(res)\n",
    "        return res\n",
    "    \n",
    "def obj_fun(alpha):\n",
    "    return abs(gprime(1,alpha) / g(1,alpha) - 0.15)"
   ]
  },
  {
   "cell_type": "code",
   "execution_count": 3,
   "id": "9aea2fa0-5c00-443a-932a-74de6b5be1f0",
   "metadata": {},
   "outputs": [
    {
     "data": {
      "text/plain": [
       "0.08650519031141866"
      ]
     },
     "execution_count": 3,
     "metadata": {},
     "output_type": "execute_result"
    }
   ],
   "source": [
    "gprime(1, alpha = 0.2)"
   ]
  },
  {
   "cell_type": "code",
   "execution_count": 4,
   "id": "1c386003-6459-4cb6-ace8-420ed9afe51c",
   "metadata": {},
   "outputs": [
    {
     "data": {
      "text/plain": [
       "[-0.724387744895918, 0.295816316324489]"
      ]
     },
     "execution_count": 4,
     "metadata": {},
     "output_type": "execute_result"
    }
   ],
   "source": [
    "solve(gprime_new(1,rho, a) / g(1,rho, a) - 0.15 , a)"
   ]
  },
  {
   "cell_type": "code",
   "execution_count": 13,
   "id": "953dbe14-9a62-4201-87fc-874c126c1c8f",
   "metadata": {},
   "outputs": [
    {
     "data": {
      "text/plain": [
       "[0.0690161379156130]"
      ]
     },
     "execution_count": 13,
     "metadata": {},
     "output_type": "execute_result"
    }
   ],
   "source": [
    "solve(gprime(1,rho, a) / g(1,rho, a) - 0.15 , a)"
   ]
  },
  {
   "cell_type": "code",
   "execution_count": 5,
   "id": "e0921c5f-4d08-48ea-86eb-a22105d483ab",
   "metadata": {},
   "outputs": [
    {
     "data": {
      "text/plain": [
       "0.14999999999999966"
      ]
     },
     "execution_count": 5,
     "metadata": {},
     "output_type": "execute_result"
    }
   ],
   "source": [
    "alpha_p = 0.295816316324489\n",
    "gprime(1,rho, alpha_p) / g(1,rho, alpha_p)"
   ]
  },
  {
   "cell_type": "code",
   "execution_count": 20,
   "id": "9d8bc591-23db-4703-b9a3-285796e647d2",
   "metadata": {},
   "outputs": [
    {
     "data": {
      "text/latex": [
       "$\\displaystyle \\frac{0.176470588235294 \\left(0.176470588235294 x^{0.99009900990099} + 1.0\\right)^{0.01}}{x^{0.00990099009900991}}$"
      ],
      "text/plain": [
       "0.176470588235294*(0.176470588235294*x**0.99009900990099 + 1.0)**0.01/x**0.00990099009900991"
      ]
     },
     "execution_count": 20,
     "metadata": {},
     "output_type": "execute_result"
    }
   ],
   "source": [
    "gprime_new(x,rho, alpha_p)"
   ]
  },
  {
   "cell_type": "code",
   "execution_count": 23,
   "id": "796bfc29-1204-45af-b052-df197d6b1da3",
   "metadata": {},
   "outputs": [
    {
     "data": {
      "text/plain": [
       "0.1764705882352941"
      ]
     },
     "execution_count": 23,
     "metadata": {},
     "output_type": "execute_result"
    }
   ],
   "source": [
    "(alpha_p) **(1/(1-rho))"
   ]
  },
  {
   "cell_type": "code",
   "execution_count": 5,
   "id": "ff981f8f-69f8-44fa-9435-f054447bbebf",
   "metadata": {},
   "outputs": [],
   "source": [
    "def jxbar_new(pe, tb, jxbar, theta, Cex, Ceystar):\n",
    "    num = g(pe + tb)**(-theta) * Cex\n",
    "    denum = g(pe+tb)**(-theta) * Cex + (g(pe) + tb * gprime(pe))**(-theta) * Ceystar\n",
    "    return num / denum\n",
    "\n",
    "def j0_new(pe,tb,jxbar,theta,Cex,Ceystar):\n",
    "    num = g(pe + tb)**(-theta) * Cex\n",
    "    denum = g(pe+tb)**(-theta) * Cex + (g(pe))**(-theta) * Ceystar\n",
    "    return num / denum\n",
    "\n",
    "def Ceystar_new(pe,tb, jxbar_p, jxbar, sigmastar, theta, Ceystar):\n",
    "    const = gprime(pe) * g(pe)**(-sigmastar) * Ceystar\n",
    "    frac = ((1-jxbar_p)/ (1-jxbar))**(1+(1-sigmastar)/theta)\n",
    "    #frac = ((1-jxbar_new(pe,tb,jxbar,theta,Cex,Ceystar))/ (1-jxbar))**(1+(1-sigmastar)/theta)\n",
    "    return const * frac / (g(1)**(-sigmastar) * gprime(1))\n",
    "\n",
    "def Cey_new(pe,tb, sigmastar, theta, Cey):\n",
    "    const = gprime(pe + tb) * g(pe+tb)**(-sigma) * Cey\n",
    "    return const / (g(1)**(-sigma) * gprime(1))\n",
    "\n",
    "def Cex1_new(pe,tb, j0bar_p, j0bar, sigmastar, Cex):\n",
    "    const = gprime(pe + tb) * g(pe+tb)**(-sigmastar) / (g(1)**(-sigmastar) * gprime(1)) * Cex\n",
    "    frac = (j0bar_p / j0bar) ** (1+ (1-sigmastar)/theta)\n",
    "    return const * frac\n",
    "\n",
    "def Cex2_new(pe,tb,jxbar_p, j0bar_p, jxbar, sigmastar, theta):\n",
    "    const = g(pe)**(-sigmastar) * gprime(pe + tb) / (g(1)**(-sigmastar) * gprime(1)) * Cex\n",
    "    frac = ((1-jxbar)/jxbar)**(sigmastar/theta) * (theta + 1 - sigmastar)/theta\n",
    "    jterm = 1/ jxbar**(1+(1-sigmastar)/theta)\n",
    "    B1, B2 = imcomp_betas(j0bar_p, jxbar_p, theta, sigmastar)\n",
    "    return const * frac * jterm * (B2- B1)\n",
    "    \n",
    "\n",
    "def Cem_new(pe, tb, sigma, Cem):\n",
    "    const = gprime(pe + tb) * g(pe + tb)**(-sigma) / (g(1)**(-sigmastar) * gprime(1)) * Cem\n",
    "    return const\n",
    "    \n",
    "def Vgx2_new(pe, jxbar_p, jxbar, j0bar_p, Cex, theta, sigmastar):\n",
    "    pterm = g(pe)**(1-sigmastar) *g(1)* Cex / (gprime(1) * g(1)**(1-sigmastar))\n",
    "    num = (1-j0bar_p)**((theta + 1 - sigmastar)/theta) - (1-jxbar_p)**((theta + 1 - sigmastar) / theta)\n",
    "    denum = jxbar * (1-jxbar)**((1-sigmastar)/theta)\n",
    "    return pterm * num / denum\n",
    "\n",
    "def Vgx1_new(pe, tb, j0_p, jxbar, Cex, theta, sigmastar):\n",
    "    const = (g(pe+tb) / g(1))**(1-sigmastar) * (j0_p / jxbar)**(1+(1-sigmastar)/theta) * g(1)/gprime(1) * Cex\n",
    "    return const\n",
    "\n",
    "def S_new(pe, tb, Cex2_prime, Vgx2_prime):\n",
    "    const = g(pe+tb) / gprime(pe+tb) * Cex2_prime - Vgx2_prime\n",
    "    return const\n",
    "\n",
    "def Vgm_new(pe, tb, Cem):\n",
    "    return g(pe+tb)**(1-sigma) * Cem * g(1) / (g(1)**(1-sigma) * gprime(1))\n",
    "\n",
    "def Lg_new(pe, tb, Cey_prime, Cex1_prime, Cex2_prime):\n",
    "    return (1/k(pe+tb)) * (Cey_prime + Cex1_prime + Cex2_prime)\n",
    "\n",
    "def Lgstar_new(pe,tb,Ceystar_prime, Cem_prime):\n",
    "    return 1/k(pe) * Ceystar_prime + 1/k(pe+tb) * Cem_prime\n",
    "\n",
    "def Vgstar_new(pe,jxbar_prime,jxbar, sigmastar,theta,Ceystar, Vgx1_prime, Vgx2_prime):\n",
    "    Vgystar_prime = (g(pe) / g(1))**(1-sigmastar) * ((1-jxbar_prime)/(1-jxbar)) ** (1+(1-sigmastar)/theta) * g(1)/ gprime(1) * Ceystar\n",
    "    return Vgystar_prime + Vgx1_prime + Vgx2_prime\n"
   ]
  },
  {
   "cell_type": "code",
   "execution_count": 6,
   "id": "befbb2e8-5c99-4368-81b0-8322ab36e47a",
   "metadata": {},
   "outputs": [],
   "source": [
    "jxbar_prime = jxbar_new(pe, tb, jxbar, theta, Cex, Ceystar)\n",
    "jxbar_prime = jxbar\n",
    "j0_prime = j0_new(pe,tb,jxbar,theta,Cex,Ceystar)\n",
    "Cey_prime = Cey_new(pe,tb, sigmastar, theta, Cey)\n",
    "Cex1_prime = Cex1_new(pe,tb, j0_prime, jxbar, sigmastar, Cex)\n",
    "Cex2_prime = Cex2_new(pe, tb, jxbar_prime, j0_prime, jxbar, sigmastar, theta)\n",
    "Cem_prime = Cem_new(pe, tb, sigma, Cem)\n",
    "Ceystar_prime = Ceystar_new(pe,tb, jxbar_prime, jxbar, sigmastar, theta, Ceystar)\n",
    "Vgx1_prime = Vgx1_new(pe, tb, j0_prime, jxbar, Cex, theta, sigmastar)\n",
    "Vgx2_prime = Vgx2_new(pe, jxbar_prime, jxbar, j0_prime, Cex, theta, sigmastar)\n",
    "Vgm_prime = Vgm_new(pe, tb, Cem)\n",
    "S = S_new(pe, tb, Cex2_prime, Vgx2_prime)\n",
    "Lg_prime = Lg_new(pe, tb, Cey_prime, Cex1_prime, Cex2_prime)\n",
    "Lgstar_prime =Lgstar_new(pe,tb,Ceystar_prime, Cem_prime)\n",
    "Vgstar_prime = Vgstar_new(pe,jxbar_prime,jxbar, sigmastar,theta,Ceystar, Vgx1_prime, Vgx2_prime)"
   ]
  },
  {
   "cell_type": "code",
   "execution_count": 7,
   "id": "6816b1fc-1810-478b-884a-084ef7628ae7",
   "metadata": {},
   "outputs": [],
   "source": [
    "Cex_prime = gprime(pe) * g(pe)**(-sigmastar) / (g(1)**(-sigmastar) * gprime(1)) * (jxbar_prime / jxbar) ** (1+ (1-sigmastar)/theta) * Cex\n",
    "Ce_prime = Cey_prime + Cem_prime\n",
    "Cestar_prime = Ceystar_prime + Cex_prime\n",
    "Ceworld_prime = Ce_prime + Cestar_prime\n",
    "Qe_prime =4.40505495\n",
    "Qestar_prime = 27.33067971\n",
    "Qeworld_prime = Qe_prime + Qestar_prime\n"
   ]
  },
  {
   "cell_type": "code",
   "execution_count": 8,
   "id": "74db8cca-da3a-4bc4-a6ce-626bb1f9baeb",
   "metadata": {},
   "outputs": [],
   "source": [
    "dcestardpe = abs(Dstarprime(pe,sigmastar) / Dstar(pe,sigmastar) * Cex_prime \n",
    "                      #+ D1starprime(pe,tb,sigmastar) / D1star(pe,tb,sigmastar) * Cex2_prime\n",
    "                      + Dstarprime(pe,sigmastar) / Dstar(pe,sigmastar) * (Ceystar_prime))\n",
    "numerator = varphi * (epsilonS * Qe_prime + epsilonSstar * Qestar_prime)\n",
    "denominator = numerator / varphi + dcestardpe * pe"
   ]
  },
  {
   "cell_type": "code",
   "execution_count": 9,
   "id": "04fd677f-764a-49b6-b903-36253e511ae9",
   "metadata": {},
   "outputs": [],
   "source": [
    "epsilonSw = (Qe_prime) * epsilonS / Qeworld_prime + Qestar_prime * epsilonSstar / Qeworld_prime\n",
    "numerator = varphi * epsilonSw * Qeworld_prime\n",
    "denominator = epsilonSw * Qeworld_prime + epsilonDstar * Cestar_prime"
   ]
  },
  {
   "cell_type": "code",
   "execution_count": 10,
   "id": "ae4da8a5-4db7-4485-84fb-83644f0a66fa",
   "metadata": {},
   "outputs": [],
   "source": [
    "rho = 0.0001"
   ]
  },
  {
   "cell_type": "code",
   "execution_count": 11,
   "id": "e8dce84f-02a0-4c23-8bfc-ad82b6c685c7",
   "metadata": {},
   "outputs": [],
   "source": [
    "def g1(p, rho = rho):\n",
    "    alpha = 0.15\n",
    "    t1 = (1-alpha)**(1/(1-rho))\n",
    "    t2 = alpha**(1/(1-rho)) * p**(-rho/(1-rho))\n",
    "    return (t1 + t2)**(-(1-rho)/rho)\n",
    "\n",
    "def g1prime(p, rho = rho):\n",
    "    alpha = 0.15\n",
    "    return diff(g1(x, rho),x).subs(x,p)"
   ]
  },
  {
   "cell_type": "code",
   "execution_count": 196,
   "id": "8a7d19bf-0c4b-4aef-ab3a-fd4acbe6a22c",
   "metadata": {},
   "outputs": [],
   "source": [
    "pe = 0.965289922\n",
    "tb = 0.368354551\n",
    "prop = 0.449691508\n",
    "re = (pe + tb) / pe\n",
    "ve = (pe + tb - prop*tb)\n",
    "jmbar_prime =0.767046309\n",
    "jxbar_prime = 0.014224486\n",
    "Cey_prime = 3.447997017\n",
    "Cex_prime = 0.32250493\n",
    "Cem_prime = 0.896873797\n",
    "Ceystar_prime = 27.04347061\n",
    "Qe_prime = 4.40160679\n",
    "Qestar_prime = 27.30928598\n",
    "epsilonSw = (Qe_prime) * epsilonS / Qeworld_prime + Qestar_prime * epsilonSstar / Qeworld_prime\n",
    "djxbardpe = theta * gprime(pe) / g(pe) * jxbar_prime * (1-jxbar_prime)\n",
    "djxbardpe = diff(jxbar_temp(x,x+tb-prop*tb,theta,Cex,Ceystar),x).subs(x,pe)"
   ]
  },
  {
   "cell_type": "code",
   "execution_count": 197,
   "id": "131ad4b7-3ce5-4ba9-b2ac-ff1d1dde7d0e",
   "metadata": {},
   "outputs": [],
   "source": [
    "## new leakage for PC, EPC\n",
    "djxdve = -jxbar_prime * (1-jxbar_prime) * gprime(ve) / g(ve) * theta\n",
    "djmdve = -jmbar_prime * (1-jmbar_prime) * gprime(ve) / g(ve) * theta\n",
    "\n",
    "dceydve = Dstarprime(ve, sigma) / Dstar(ve, sigma) * Cey_prime + (1+(1-sigma)/theta) * djmdve / jmbar_prime * Cey_prime\n",
    "dcemdve = 1/(1-jmbar_prime) * (1+(1-sigma)/theta) * (-djmdve) * Cem_prime \n",
    "dcexdve = Dstarprime(ve, sigmastar) / Dstar(ve, sigmastar) * Cex_prime +  (1+(1-sigmastar) / theta) * Cex_prime / jxbar_prime * djxdve\n",
    "dceystardve = (1+(1-sigmastar) /theta) * Ceystar_prime * (-djxdve) / (1-jxbar_prime)\n",
    "\n",
    "leak = -(dceystardve + dcemdve) / (dcexdve + dceydve)\n",
    "leak2 = -dceystardve / dcexdve"
   ]
  },
  {
   "cell_type": "code",
   "execution_count": 213,
   "id": "cb6a02d5-55b1-478e-907c-734c503012f9",
   "metadata": {},
   "outputs": [],
   "source": [
    "numerator = varphi * epsilonSw * Qeworld_prime\n",
    "dceystardpe = abs(Dstarprime(pe, sigmastar) / Dstar(pe, sigmastar) - (1+(1-sigmastar) / theta) / (1-jxbar_prime) * djxbardpe) * Ceystar_prime\n",
    "dcexdpe = abs(Dstarprime(ve, sigmastar) / Dstar(ve, sigmastar)+(1+(1-sigmastar) / theta) / (jxbar_prime) * djxbardpe) * Cex_prime"
   ]
  },
  {
   "cell_type": "code",
   "execution_count": 215,
   "id": "cf3f5895-db0f-428f-bfdf-04eda6641469",
   "metadata": {},
   "outputs": [
    {
     "data": {
      "text/latex": [
       "$\\displaystyle 27.1884990213406$"
      ],
      "text/plain": [
       "27.1884990213406"
      ]
     },
     "execution_count": 215,
     "metadata": {},
     "output_type": "execute_result"
    }
   ],
   "source": [
    "dceystardpe * pe+ leak2 * dcexdpe * pe"
   ]
  },
  {
   "cell_type": "code",
   "execution_count": 165,
   "id": "fdb67b16-f5fe-4601-985b-dfa627e1da16",
   "metadata": {},
   "outputs": [
    {
     "data": {
      "text/plain": [
       "27.188498338309135"
      ]
     },
     "execution_count": 165,
     "metadata": {},
     "output_type": "execute_result"
    }
   ],
   "source": [
    "epsilonDstar * Ceystar_prime + prop * epsilonDstar * Cex_prime"
   ]
  },
  {
   "cell_type": "code",
   "execution_count": 203,
   "id": "5128a2cc-6123-42a6-a85f-f1ac3dc9719b",
   "metadata": {},
   "outputs": [
    {
     "data": {
      "text/latex": [
       "$\\displaystyle 27.0835277785971$"
      ],
      "text/plain": [
       "27.0835277785971"
      ]
     },
     "execution_count": 203,
     "metadata": {},
     "output_type": "execute_result"
    }
   ],
   "source": [
    "dceystardpe * pe"
   ]
  },
  {
   "cell_type": "code",
   "execution_count": 140,
   "id": "159cab06-7430-4ca9-b82f-e09bdce5566b",
   "metadata": {},
   "outputs": [
    {
     "data": {
      "text/latex": [
       "$\\displaystyle 0.145028408870602$"
      ],
      "text/plain": [
       "0.145028408870602"
      ]
     },
     "execution_count": 140,
     "metadata": {},
     "output_type": "execute_result"
    }
   ],
   "source": [
    "leak2 * epsilonDstar * Cex_prime"
   ]
  },
  {
   "cell_type": "code",
   "execution_count": 153,
   "id": "23c7fa18-d35a-47b5-9197-154676d087b8",
   "metadata": {},
   "outputs": [
    {
     "data": {
      "text/latex": [
       "$\\displaystyle 0.190750535457404$"
      ],
      "text/plain": [
       "0.190750535457404"
      ]
     },
     "execution_count": 153,
     "metadata": {},
     "output_type": "execute_result"
    }
   ],
   "source": [
    "abs(diff(cex_new(x,ve,jxbar,Cex,Ceystar,sigmastar,theta),x).subs(x,pe)) * pe"
   ]
  },
  {
   "cell_type": "code",
   "execution_count": 178,
   "id": "c89b74e9-955d-49f1-8d7b-b4e095116b2d",
   "metadata": {},
   "outputs": [],
   "source": [
    "def cex_new(pe,ve, jxbar, Cex, Ceystar, sigmastar, theta):\n",
    "    jxbar_p = Cex / (Cex + (g(ve) / g(pe)) ** theta * Ceystar)\n",
    "    return Dstar(ve, sigmastar) / Dstar(1, sigmastar) * (jxbar_p / jxbar) ** (1+(1-sigmastar) / theta) * Cex\n",
    "\n",
    "def ceystar_new(pe,ve, jxbar, Cex, Ceystar, sigmastar, theta):\n",
    "    jxbar_p = Cex / (Cex + (g(ve) / g(pe)) ** theta * Ceystar)\n",
    "    return Dstar(pe, sigmastar) / Dstar(1, sigmastar) * ((1-jxbar_p) / (1-jxbar)) ** (1+(1-sigmastar) / theta) * Ceystar\n",
    "\n",
    "def jxbar_temp(pe,ve, theta, Cex, Ceystar):\n",
    "    return Cex / (Cex + (g(ve) / g(pe)) ** theta * Ceystar)\n",
    "\n"
   ]
  },
  {
   "cell_type": "code",
   "execution_count": 191,
   "id": "bf4cabca-1954-42fe-82f0-bcbe1206028e",
   "metadata": {},
   "outputs": [
    {
     "data": {
      "text/latex": [
       "$\\displaystyle -27.1319284807435$"
      ],
      "text/plain": [
       "-27.1319284807435"
      ]
     },
     "execution_count": 191,
     "metadata": {},
     "output_type": "execute_result"
    }
   ],
   "source": [
    "diff(ceystar_new(x,x + tb, jxbar, Cex, Ceystar, sigmastar, theta),x).subs(x,pe) * pe"
   ]
  },
  {
   "cell_type": "code",
   "execution_count": 193,
   "id": "957b7f10-3988-4167-9aba-eebd3b16a33d",
   "metadata": {},
   "outputs": [
    {
     "data": {
      "text/latex": [
       "$\\displaystyle -27.188498516851$"
      ],
      "text/plain": [
       "-27.1884985168510"
      ]
     },
     "execution_count": 193,
     "metadata": {},
     "output_type": "execute_result"
    }
   ],
   "source": [
    "diff(ceystar_new(x,x+tb - prop*tb, jxbar, Cex, Ceystar, sigmastar, theta),x).subs(x,pe) * pe + diff(cex_new(x,x+tb - prop*tb, jxbar, Cex, Ceystar, sigmastar, theta),x).subs(x,pe) * pe * prop"
   ]
  },
  {
   "cell_type": "code",
   "execution_count": 189,
   "id": "b1d9628c-03df-4f62-9bfd-200d51722bf8",
   "metadata": {},
   "outputs": [
    {
     "data": {
      "text/latex": [
       "$\\displaystyle -0.0657892368424103$"
      ],
      "text/plain": [
       "-0.0657892368424103"
      ]
     },
     "execution_count": 189,
     "metadata": {},
     "output_type": "execute_result"
    }
   ],
   "source": [
    "diff(cex_new(x,x+tb, jxbar, Cex, Ceystar, sigmastar, theta),x).subs(x,pe) * pe * prop"
   ]
  },
  {
   "cell_type": "code",
   "execution_count": 195,
   "id": "bffd05ea-48e2-4010-99b0-bfea82160b7c",
   "metadata": {},
   "outputs": [
    {
     "data": {
      "text/latex": [
       "$\\displaystyle 0.00151264869451942$"
      ],
      "text/plain": [
       "0.00151264869451942"
      ]
     },
     "execution_count": 195,
     "metadata": {},
     "output_type": "execute_result"
    }
   ],
   "source": [
    "diff(jxbar_temp(x,x+tb-prop*tb,theta,Cex,Ceystar),x).subs(x,pe)"
   ]
  },
  {
   "cell_type": "code",
   "execution_count": 204,
   "id": "870697ee-255d-4dba-a833-d4da341b463d",
   "metadata": {},
   "outputs": [
    {
     "data": {
      "text/plain": [
       "-0.0015126485460821854"
      ]
     },
     "execution_count": 204,
     "metadata": {},
     "output_type": "execute_result"
    }
   ],
   "source": [
    "jxbar_prime * theta * (1-jxbar_prime) * g(pe) / g(ve)  * (gprime(ve) * g(pe) - gprime(pe) * g(ve)) / g(pe)**2"
   ]
  },
  {
   "cell_type": "code",
   "execution_count": 209,
   "id": "53135add-6a40-48f6-a215-e79bb8df104e",
   "metadata": {},
   "outputs": [
    {
     "data": {
      "text/latex": [
       "$\\displaystyle 0.31041313149289$"
      ],
      "text/plain": [
       "0.310413131492890"
      ]
     },
     "execution_count": 209,
     "metadata": {},
     "output_type": "execute_result"
    }
   ],
   "source": [
    "dcexdpe "
   ]
  },
  {
   "cell_type": "code",
   "execution_count": 210,
   "id": "4912e1e3-88d8-43f6-93b6-2764c545d060",
   "metadata": {},
   "outputs": [
    {
     "data": {
      "text/latex": [
       "$\\displaystyle -0.241822095519461$"
      ],
      "text/plain": [
       "-0.241822095519461"
      ]
     },
     "execution_count": 210,
     "metadata": {},
     "output_type": "execute_result"
    }
   ],
   "source": [
    "diff(cex_new(x,x+tb - prop*tb, jxbar, Cex, Ceystar, sigmastar, theta),x).subs(x,pe)"
   ]
  },
  {
   "cell_type": "code",
   "execution_count": 211,
   "id": "3c3a295d-cb08-411a-a076-d19e0cc6d0c0",
   "metadata": {},
   "outputs": [
    {
     "data": {
      "text/latex": [
       "$\\displaystyle -0.856165439487672$"
      ],
      "text/plain": [
       "-0.856165439487672"
      ]
     },
     "execution_count": 211,
     "metadata": {},
     "output_type": "execute_result"
    }
   ],
   "source": [
    "Dstarprime(ve, sigmastar) / Dstar(ve, sigmastar)"
   ]
  },
  {
   "cell_type": "code",
   "execution_count": 212,
   "id": "bd13fad7-be05-4841-92d3-b63822ec3923",
   "metadata": {},
   "outputs": [
    {
     "data": {
      "text/latex": [
       "$\\displaystyle 0.106341184807621$"
      ],
      "text/plain": [
       "0.106341184807621"
      ]
     },
     "execution_count": 212,
     "metadata": {},
     "output_type": "execute_result"
    }
   ],
   "source": [
    "(1+(1-sigmastar) / theta) / (jxbar_prime) * djxbardpe"
   ]
  },
  {
   "cell_type": "code",
   "execution_count": null,
   "id": "913c2d57-d46f-470e-b35c-8562f7cc13ed",
   "metadata": {},
   "outputs": [],
   "source": []
  }
 ],
 "metadata": {
  "kernelspec": {
   "display_name": "Python 3 (ipykernel)",
   "language": "python",
   "name": "python3"
  },
  "language_info": {
   "codemirror_mode": {
    "name": "ipython",
    "version": 3
   },
   "file_extension": ".py",
   "mimetype": "text/x-python",
   "name": "python",
   "nbconvert_exporter": "python",
   "pygments_lexer": "ipython3",
   "version": "3.9.5"
  }
 },
 "nbformat": 4,
 "nbformat_minor": 5
}
