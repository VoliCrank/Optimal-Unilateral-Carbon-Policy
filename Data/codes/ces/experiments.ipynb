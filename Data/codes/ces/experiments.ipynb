{
 "cells": [
  {
   "cell_type": "code",
   "execution_count": 1,
   "id": "900a0f8a-ddf1-425b-89bf-06f5085bb084",
   "metadata": {},
   "outputs": [],
   "source": [
    "from sympy import *\n",
    "from scipy.integrate import quad\n",
    "x = symbols('x')\n",
    "import math"
   ]
  },
  {
   "cell_type": "code",
   "execution_count": 2,
   "id": "0a8b1bd9-49af-4072-92d1-781d4a7bf753",
   "metadata": {},
   "outputs": [],
   "source": [
    "def imcomp_betas(j0_prime, jxbar_prime, theta, sigmastar):\n",
    "    def tempFunction(i, theta, sigmastar):\n",
    "        return (i ** ((1 + theta) / theta - 1) * (1 - i) ** ((theta - sigmastar) / theta - 1))\n",
    "\n",
    "    Bfunvec1_prime = quad(tempFunction, 0, j0_prime, args=(theta, sigmastar))[0]\n",
    "    Bfunvec2_prime = quad(tempFunction, 0, jxbar_prime, args=(theta, sigmastar))[0]\n",
    "\n",
    "    return (Bfunvec1_prime, Bfunvec2_prime)"
   ]
  },
  {
   "cell_type": "code",
   "execution_count": 59,
   "id": "ed921c0f-786d-4825-979b-42239c3aa56e",
   "metadata": {},
   "outputs": [],
   "source": [
    "Cex = 0.421601\n",
    "Ceystar = 26.059874\n",
    "Cey = 4.598402945\n",
    "Cem = 1.196110986\n",
    "jxbar = Cex/(Cex + Ceystar)\n",
    "jmbar = Cey / (Cey + Cem)\n",
    "alpha = 0.85\n",
    "theta = 4\n",
    "## phi = 5\n",
    "pe = 1.004700499\n",
    "te = 0.368354551\n",
    "tb = 0.349449338\n",
    "sigmastar = 1\n",
    "sigma = 1\n",
    "epsilonS = 0.5  #Homes's energy supply elasticity: beta/(1 - beta)\n",
    "epsilonSstar = 0.5  #Foreign's energy supply elasticity: betastar/(1 - betastar)\n",
    "epsilonD = alpha + (1 - alpha) * sigma  #Home's elasticity of demand for embodied energy\n",
    "epsilonDstar = alpha + (1 - alpha) * sigmastar  #Foreign's elasticity of demand for embodied energy\n",
    "varphi = 1\n",
    "prop = 0.449691508\n",
    "\n",
    "Vg_prime = 38.63009333\n",
    "Vgstar_prime = 176.5431669"
   ]
  },
  {
   "cell_type": "code",
   "execution_count": 60,
   "id": "1c386003-6459-4cb6-ace8-420ed9afe51c",
   "metadata": {},
   "outputs": [],
   "source": [
    "def g(p, alpha = 0.15):\n",
    "    return alpha**(-alpha) * (1-alpha)**(-(1-alpha)) * p**alpha\n",
    "\n",
    "def gprime(p, alpha = 0.15):\n",
    "    return (alpha/(1-alpha))**(1-alpha) * p**(-(1-alpha))\n",
    "\n",
    "def k(p):\n",
    "    return gprime(p) / (g(p)-p*gprime(p))\n",
    "\n",
    "def gdprime(p, alpha = 0.15):\n",
    "    return -alpha * p**(alpha - 2) * ((1-alpha)/alpha)**alpha\n",
    "\n",
    "def Dstar(p, sigmastar):\n",
    "    return gprime(p) * g(p)**(-sigmastar)\n",
    "\n",
    "def Dstarprime(p, sigmastar):\n",
    "    return diff(Dstar(x, sigmastar),x).subs(x,p)\n",
    "\n",
    "def D1star(p,t,sigmastar):\n",
    "    return g(p)**(-sigmastar) * gprime(p + t)\n",
    "\n",
    "def D1starprime(p,t,sigmastar):\n",
    "    return diff(D1star(x,t,sigmastar),x).subs(x,p)"
   ]
  },
  {
   "cell_type": "code",
   "execution_count": 61,
   "id": "ff981f8f-69f8-44fa-9435-f054447bbebf",
   "metadata": {},
   "outputs": [],
   "source": [
    "def jxbar_new(pe, tb, jxbar, theta, Cex, Ceystar):\n",
    "    num = g(pe + tb)**(-theta) * Cex\n",
    "    denum = g(pe+tb)**(-theta) * Cex + (g(pe) + tb * gprime(pe))**(-theta) * Ceystar\n",
    "    return num / denum\n",
    "\n",
    "def j0_new(pe,tb,jxbar,theta,Cex,Ceystar):\n",
    "    num = g(pe + tb)**(-theta) * Cex\n",
    "    denum = g(pe+tb)**(-theta) * Cex + (g(pe))**(-theta) * Ceystar\n",
    "    return num / denum\n",
    "\n",
    "def Ceystar_new(pe,tb, jxbar_p, jxbar, sigmastar, theta, Ceystar):\n",
    "    const = gprime(pe) * g(pe)**(-sigmastar) * Ceystar\n",
    "    frac = ((1-jxbar_p)/ (1-jxbar))**(1+(1-sigmastar)/theta)\n",
    "    #frac = ((1-jxbar_new(pe,tb,jxbar,theta,Cex,Ceystar))/ (1-jxbar))**(1+(1-sigmastar)/theta)\n",
    "    return const * frac / (g(1)**(-sigmastar) * gprime(1))\n",
    "\n",
    "def Cey_new(pe,tb, sigmastar, theta, Cey):\n",
    "    const = gprime(pe + tb) * g(pe+tb)**(-sigma) * Cey\n",
    "    return const / (g(1)**(-sigma) * gprime(1))\n",
    "\n",
    "def Cex1_new(pe,tb, j0bar_p, j0bar, sigmastar, Cex):\n",
    "    const = gprime(pe + tb) * g(pe+tb)**(-sigmastar) / (g(1)**(-sigmastar) * gprime(1)) * Cex\n",
    "    frac = (j0bar_p / j0bar) ** (1+ (1-sigmastar)/theta)\n",
    "    return const * frac\n",
    "\n",
    "def Cex2_new(pe,tb,jxbar_p, j0bar_p, jxbar, sigmastar, theta):\n",
    "    const = g(pe)**(-sigmastar) * gprime(pe + tb) / (g(1)**(-sigmastar) * gprime(1)) * Cex\n",
    "    frac = ((1-jxbar)/jxbar)**(sigmastar/theta) * (theta + 1 - sigmastar)/theta\n",
    "    jterm = 1/ jxbar**(1+(1-sigmastar)/theta)\n",
    "    B1, B2 = imcomp_betas(j0bar_p, jxbar_p, theta, sigmastar)\n",
    "    return const * frac * jterm * (B2- B1)\n",
    "    \n",
    "\n",
    "def Cem_new(pe, tb, sigma, Cem):\n",
    "    const = gprime(pe + tb) * g(pe + tb)**(-sigma) / (g(1)**(-sigmastar) * gprime(1)) * Cem\n",
    "    return const\n",
    "    \n",
    "def Vgx2_new(pe, jxbar_p, jxbar, j0bar_p, Cex, theta, sigmastar):\n",
    "    pterm = g(pe)**(1-sigmastar) *g(1)* Cex / (gprime(1) * g(1)**(1-sigmastar))\n",
    "    num = (1-j0bar_p)**((theta + 1 - sigmastar)/theta) - (1-jxbar_p)**((theta + 1 - sigmastar) / theta)\n",
    "    denum = jxbar * (1-jxbar)**((1-sigmastar)/theta)\n",
    "    return pterm * num / denum\n",
    "\n",
    "def Vgx1_new(pe, tb, j0_p, jxbar, Cex, theta, sigmastar):\n",
    "    const = (g(pe+tb) / g(1))**(1-sigmastar) * (j0_p / jxbar)**(1+(1-sigmastar)/theta) * g(1)/gprime(1) * Cex\n",
    "    return const\n",
    "\n",
    "def S_new(pe, tb, Cex2_prime, Vgx2_prime):\n",
    "    const = g(pe+tb) / gprime(pe+tb) * Cex2_prime - Vgx2_prime\n",
    "    return const\n",
    "\n",
    "def Vgm_new(pe, tb, Cem):\n",
    "    return g(pe+tb)**(1-sigma) * Cem * g(1) / (g(1)**(1-sigma) * gprime(1))\n",
    "\n",
    "def Lg_new(pe, tb, Cey_prime, Cex1_prime, Cex2_prime):\n",
    "    return (1/k(pe+tb)) * (Cey_prime + Cex1_prime + Cex2_prime)\n",
    "\n",
    "def Lgstar_new(pe,tb,Ceystar_prime, Cem_prime):\n",
    "    return 1/k(pe) * Ceystar_prime + 1/k(pe+tb) * Cem_prime\n",
    "\n",
    "def Vgstar_new(pe,jxbar_prime,jxbar, sigmastar,theta,Ceystar, Vgx1_prime, Vgx2_prime):\n",
    "    Vgystar_prime = (g(pe) / g(1))**(1-sigmastar) * ((1-jxbar_prime)/(1-jxbar)) ** (1+(1-sigmastar)/theta) * g(1)/ gprime(1) * Ceystar\n",
    "    return Vgystar_prime + Vgx1_prime + Vgx2_prime\n"
   ]
  },
  {
   "cell_type": "code",
   "execution_count": 62,
   "id": "befbb2e8-5c99-4368-81b0-8322ab36e47a",
   "metadata": {},
   "outputs": [],
   "source": [
    "jxbar_prime = jxbar_new(pe, tb, jxbar, theta, Cex, Ceystar)\n",
    "#jxbar_prime = jxbar\n",
    "j0_prime = j0_new(pe,tb,jxbar,theta,Cex,Ceystar)\n",
    "Cey_prime = Cey_new(pe,tb, sigmastar, theta, Cey)\n",
    "Cex1_prime = Cex1_new(pe,tb, j0_prime, jxbar, sigmastar, Cex)\n",
    "Cex2_prime = Cex2_new(pe, tb, jxbar_prime, j0_prime, jxbar, sigmastar, theta)\n",
    "Cem_prime = Cem_new(pe, tb, sigma, Cem)\n",
    "Ceystar_prime = Ceystar_new(pe,tb, jxbar_prime, jxbar, sigmastar, theta, Ceystar)\n",
    "Vgx1_prime = Vgx1_new(pe, tb, j0_prime, jxbar, Cex, theta, sigmastar)\n",
    "Vgx2_prime = Vgx2_new(pe, jxbar_prime, jxbar, j0_prime, Cex, theta, sigmastar)\n",
    "Vgm_prime = Vgm_new(pe, tb, Cem)\n",
    "S = S_new(pe, tb, Cex2_prime, Vgx2_prime)\n",
    "Lg_prime = Lg_new(pe, tb, Cey_prime, Cex1_prime, Cex2_prime)\n",
    "Lgstar_prime =Lgstar_new(pe,tb,Ceystar_prime, Cem_prime)\n",
    "Vgstar_prime = Vgstar_new(pe,jxbar_prime,jxbar, sigmastar,theta,Ceystar, Vgx1_prime, Vgx2_prime)\n",
    "sigmastar = 1"
   ]
  },
  {
   "cell_type": "code",
   "execution_count": 63,
   "id": "ac9482b9-512a-483e-83cc-fe0f058443c0",
   "metadata": {},
   "outputs": [
    {
     "data": {
      "text/plain": [
       "0.9996079502951188"
      ]
     },
     "execution_count": 63,
     "metadata": {},
     "output_type": "execute_result"
    }
   ],
   "source": [
    "(g(pe) / g(1)) ** (1-sigmastar) * ((1-jxbar_prime) / (1-jxbar)) ** (1+(1-sigmastar) / theta)"
   ]
  },
  {
   "cell_type": "code",
   "execution_count": 64,
   "id": "9d821513-38f9-4bcb-a56d-a8a6f8a40ba7",
   "metadata": {},
   "outputs": [
    {
     "data": {
      "text/plain": [
       "1.0242332582487654"
      ]
     },
     "execution_count": 64,
     "metadata": {},
     "output_type": "execute_result"
    }
   ],
   "source": [
    "(g(pe+tb) / g(1))**(1-sigmastar) * (j0_prime / jxbar) ** (1+(1-sigmastar) / theta) + (g(pe) / g(1)) ** (1-sigmastar) * ((1-j0_prime) ** (1+(1-sigmastar) / theta) - (1-jxbar_prime) ** (1+(1-sigmastar) / theta)) / jxbar / (1-jxbar) ** ((1-sigmastar)/theta)"
   ]
  },
  {
   "cell_type": "code",
   "execution_count": 65,
   "id": "7fb4b6ea-85cf-47ae-a8ad-0dec19b4d9c8",
   "metadata": {},
   "outputs": [
    {
     "data": {
      "text/plain": [
       "0.8382183137006431"
      ]
     },
     "execution_count": 65,
     "metadata": {},
     "output_type": "execute_result"
    }
   ],
   "source": [
    "(g(pe+tb) / g(1))**(1-sigmastar) * (j0_prime / jxbar) ** (1+(1-sigmastar) / theta)"
   ]
  },
  {
   "cell_type": "code",
   "execution_count": 66,
   "id": "833a5a75-50e5-4318-999a-7b8606883db4",
   "metadata": {},
   "outputs": [
    {
     "data": {
      "text/plain": [
       "0.18601494454812229"
      ]
     },
     "execution_count": 66,
     "metadata": {},
     "output_type": "execute_result"
    }
   ],
   "source": [
    "(g(pe) / g(1)) ** (1-sigmastar) * ((1-j0_prime) ** (1+(1-sigmastar) / theta) - (1-jxbar_prime) ** (1+(1-sigmastar) / theta)) / jxbar /(1-jxbar) ** ((1-sigmastar)/theta)"
   ]
  },
  {
   "cell_type": "code",
   "execution_count": 67,
   "id": "7bb45c5b-16c2-4425-9474-d25602eb51b0",
   "metadata": {},
   "outputs": [
    {
     "data": {
      "text/plain": [
       "0.522827244242886"
      ]
     },
     "execution_count": 67,
     "metadata": {},
     "output_type": "execute_result"
    }
   ],
   "source": [
    "(g(pe) / g(1)) ** (1-sigmastar) * ((1-j0_prime) ** (1+(1-sigmastar) / theta) - (1-jxbar_prime) ** (1+(1-sigmastar) / theta)) / jxbar /(1-jxbar) ** ((1-sigmastar)/theta) * Cex * g(1) / gprime(1)"
   ]
  },
  {
   "cell_type": "code",
   "execution_count": 68,
   "id": "2cc15840-2f98-4513-9570-ac235f0dd57a",
   "metadata": {},
   "outputs": [
    {
     "data": {
      "text/plain": [
       "0.522827244242886"
      ]
     },
     "execution_count": 68,
     "metadata": {},
     "output_type": "execute_result"
    }
   ],
   "source": [
    "Vgx2_prime"
   ]
  },
  {
   "cell_type": "code",
   "execution_count": 7,
   "id": "6816b1fc-1810-478b-884a-084ef7628ae7",
   "metadata": {},
   "outputs": [],
   "source": [
    "Cex_prime = gprime(pe) * g(pe)**(-sigmastar) / (g(1)**(-sigmastar) * gprime(1)) * (jxbar_prime / jxbar) ** (1+ (1-sigmastar)/theta) * Cex\n",
    "Ce_prime = Cey_prime + Cem_prime\n",
    "Cestar_prime = Ceystar_prime + Cex_prime\n",
    "Ceworld_prime = Ce_prime + Cestar_prime\n",
    "Qe_prime =4.40505495\n",
    "Qestar_prime = 27.33067971\n",
    "Qeworld_prime = Qe_prime + Qestar_prime\n"
   ]
  },
  {
   "cell_type": "code",
   "execution_count": 8,
   "id": "74db8cca-da3a-4bc4-a6ce-626bb1f9baeb",
   "metadata": {},
   "outputs": [],
   "source": [
    "dcestardpe = abs(Dstarprime(pe,sigmastar) / Dstar(pe,sigmastar) * Cex_prime \n",
    "                      #+ D1starprime(pe,tb,sigmastar) / D1star(pe,tb,sigmastar) * Cex2_prime\n",
    "                      + Dstarprime(pe,sigmastar) / Dstar(pe,sigmastar) * (Ceystar_prime))\n",
    "numerator = varphi * (epsilonS * Qe_prime + epsilonSstar * Qestar_prime)\n",
    "denominator = numerator / varphi + dcestardpe * pe"
   ]
  },
  {
   "cell_type": "code",
   "execution_count": 9,
   "id": "04fd677f-764a-49b6-b903-36253e511ae9",
   "metadata": {},
   "outputs": [],
   "source": [
    "epsilonSw = (Qe_prime) * epsilonS / Qeworld_prime + Qestar_prime * epsilonSstar / Qeworld_prime\n",
    "numerator = varphi * epsilonSw * Qeworld_prime\n",
    "denominator = epsilonSw * Qeworld_prime + epsilonDstar * Cestar_prime"
   ]
  },
  {
   "cell_type": "code",
   "execution_count": 10,
   "id": "ae4da8a5-4db7-4485-84fb-83644f0a66fa",
   "metadata": {},
   "outputs": [],
   "source": [
    "rho = 0.0001"
   ]
  },
  {
   "cell_type": "code",
   "execution_count": 11,
   "id": "e8dce84f-02a0-4c23-8bfc-ad82b6c685c7",
   "metadata": {},
   "outputs": [],
   "source": [
    "def g1(p, rho = rho):\n",
    "    alpha = 0.15\n",
    "    t1 = (1-alpha)**(1/(1-rho))\n",
    "    t2 = alpha**(1/(1-rho)) * p**(-rho/(1-rho))\n",
    "    return (t1 + t2)**(-(1-rho)/rho)\n",
    "\n",
    "def g1prime(p, rho = rho):\n",
    "    alpha = 0.15\n",
    "    return diff(g1(x, rho),x).subs(x,p)"
   ]
  },
  {
   "cell_type": "code",
   "execution_count": 12,
   "id": "c89b74e9-955d-49f1-8d7b-b4e095116b2d",
   "metadata": {},
   "outputs": [],
   "source": [
    "def cex_new(pe,ve, jxbar, Cex, Ceystar, sigmastar, theta):\n",
    "    jxbar_p = jxbar_temp(pe,ve, theta, Cex, Ceystar)\n",
    "    return Dstar(ve, sigmastar) / Dstar(1, sigmastar) * (jxbar_p / jxbar) ** (1+(1-sigmastar) / theta) * Cex\n",
    "\n",
    "def ceystar_new(pe,ve, jxbar, Cex, Ceystar, sigmastar, theta):\n",
    "    jxbar_p = jxbar_temp(pe,ve, theta, Cex, Ceystar)\n",
    "    return Dstar(pe, sigmastar) / Dstar(1, sigmastar) * ((1-jxbar_p) / (1-jxbar)) ** (1+(1-sigmastar) / theta) * Ceystar\n",
    "\n",
    "def cey_new(pe,ve,jmbar, Cey, Cem, sigma, theta):\n",
    "    jmbar_p = jmbar_temp(pe,ve, theta, Cey, Cem)\n",
    "    return Dstar(ve, sigma) / Dstar(1,sigma) * (jmbar_p / jmbar)**(1+(1-sigma)/theta) * Cey\n",
    "\n",
    "def cem_new(pe,ve,jmbar, Cey, Cem, sigma, theta):\n",
    "    jmbar_p = jmbar_temp(pe,ve, theta, Cey, Cem)\n",
    "    return Dstar(pe, sigma) / Dstar(1,sigma) * ((1-jmbar_p) / (1-jmbar))**(1+(1-sigma)/theta) * Cem\n",
    "\n",
    "def jxbar_temp(pe,ve, theta, Cex, Ceystar):\n",
    "    return Cex / (Cex + (g(ve) / g(pe)) ** theta * Ceystar)\n",
    "\n",
    "def jmbar_temp(pe,ve, theta, Cey, Cem):\n",
    "    return Cey / (Cey + Cem * (g(ve) / g(pe))**theta)\n",
    "\n"
   ]
  },
  {
   "cell_type": "code",
   "execution_count": 14,
   "id": "8a7d19bf-0c4b-4aef-ab3a-fd4acbe6a22c",
   "metadata": {},
   "outputs": [],
   "source": [
    "## PC hybrid\n",
    "pe = 0.965289922\n",
    "tb = 0.368354551\n",
    "prop = 0.449691508\n",
    "re = (pe + tb) / pe\n",
    "ve = (pe + tb - prop*tb)\n",
    "jmbar_prime =0.767046309\n",
    "jxbar_prime = 0.014224486\n",
    "Cey_prime = 3.447997017\n",
    "Cex_prime = 0.32250493\n",
    "Cem_prime = 0.896873797\n",
    "Ceystar_prime = 27.04347061\n",
    "Qe_prime = 4.40160679\n",
    "Qestar_prime = 27.30928598\n",
    "epsilonSw = (Qe_prime) * epsilonS / Qeworld_prime + Qestar_prime * epsilonSstar / Qeworld_prime\n",
    "djxbardpe = theta * gprime(pe) / g(pe) * jxbar_prime * (1-jxbar_prime)\n",
    "djxbardpe = diff(jxbar_temp(x,ve,theta,Cex,Ceystar),x).subs(x,pe)\n",
    "djmbardpe = theta * gprime(pe) / g(pe) * jmbar_prime * (1-jmbar_prime)"
   ]
  },
  {
   "cell_type": "code",
   "execution_count": 18,
   "id": "7d9f4759-7302-43e4-9ea5-7450720e300a",
   "metadata": {},
   "outputs": [],
   "source": [
    "## pure tp\n",
    "pe = 0.96549695\n",
    "tb = 0.533349171\n",
    "ve = (pe + tb)\n",
    "Cey_prime = 2.887942953\n",
    "Cex_prime = 0.21684408\n",
    "Cem_prime = 1.518318529\n",
    "Ceystar_prime = 27.09118773\n",
    "Qe_prime = 4.402078775\n",
    "Qestar_prime = 27.31221436\n",
    "jxbar_prime = 0.012273331\n",
    "jmbar_prime = 0.747013829\n",
    "epsilonSw = (Qe_prime) * epsilonS / Qeworld_prime + Qestar_prime * epsilonSstar / Qeworld_prime\n",
    "djxbardpe = theta * gprime(pe) / g(pe) * jxbar_prime * (1-jxbar_prime)\n",
    "djxbardpe = diff(jxbar_temp(x,ve,theta,Cex,Ceystar),x).subs(x,pe)\n",
    "djmbardpe = theta * gprime(pe) / g(pe) * jmbar_prime * (1-jmbar_prime)"
   ]
  },
  {
   "cell_type": "code",
   "execution_count": 15,
   "id": "131ad4b7-3ce5-4ba9-b2ac-ff1d1dde7d0e",
   "metadata": {},
   "outputs": [],
   "source": [
    "## new leakage for PC, EPC\n",
    "djxdve = -jxbar_prime * (1-jxbar_prime) * gprime(ve) / g(ve) * theta\n",
    "djmdve = -jmbar_prime * (1-jmbar_prime) * gprime(ve) / g(ve) * theta\n",
    "\n",
    "dceydve = Dstarprime(ve, sigma) / Dstar(ve, sigma) * Cey_prime + (1+(1-sigma)/theta) * djmdve / jmbar_prime * Cey_prime\n",
    "dcemdve = 1/(1-jmbar_prime) * (1+(1-sigma)/theta) * (-djmdve) * Cem_prime \n",
    "dcexdve = Dstarprime(ve, sigmastar) / Dstar(ve, sigmastar) * Cex_prime +  (1+(1-sigmastar) / theta) * Cex_prime / jxbar_prime * djxdve\n",
    "dceystardve = (1+(1-sigmastar) /theta) * Ceystar_prime * (-djxdve) / (1-jxbar_prime)\n",
    "\n",
    "leak = -(dceystardve + dcemdve) / (dcexdve + dceydve)\n",
    "leak2 = -dceystardve / dcexdve"
   ]
  },
  {
   "cell_type": "code",
   "execution_count": 16,
   "id": "cb6a02d5-55b1-478e-907c-734c503012f9",
   "metadata": {},
   "outputs": [],
   "source": [
    "numerator = varphi * epsilonSw * Qeworld_prime\n",
    "dceystardpe = abs(Dstarprime(pe, sigmastar) / Dstar(pe, sigmastar) - (1+(1-sigmastar) / theta) / (1-jxbar_prime) * djxbardpe) * Ceystar_prime\n",
    "#dceystardpe = abs(Dstarprime(pe, sigmastar) / Dstar(pe, sigmastar) * Ceystar_prime - Dstar(pe,sigmastar) * djxbardpe)\n",
    "dcexdpe = abs((1+(1-sigmastar) / theta) / (jxbar_prime) * djxbardpe) * Cex_prime"
   ]
  },
  {
   "cell_type": "code",
   "execution_count": 17,
   "id": "28f2cbeb-c9c0-465d-a5dc-8f545d545064",
   "metadata": {},
   "outputs": [
    {
     "data": {
      "text/latex": [
       "$\\displaystyle 28.4864832360412$"
      ],
      "text/plain": [
       "28.4864832360412"
      ]
     },
     "execution_count": 17,
     "metadata": {},
     "output_type": "execute_result"
    }
   ],
   "source": [
    "djxbardpe = theta * gprime(pe) / g(pe) * jxbar_prime * (1-jxbar_prime)\n",
    "djmbardpe = theta * gprime(pe) / g(pe) * jmbar_prime * (1-jmbar_prime)\n",
    "dceystardpe = abs(Dstarprime(pe, sigmastar) / Dstar(pe, sigmastar) - (1+(1-sigmastar) / theta) / (1-jxbar_prime) * djxbardpe) * Ceystar_prime\n",
    "dcexdpe = abs((1+(1-sigmastar) / theta) / (jxbar_prime) * djxbardpe) * Cex_prime\n",
    "dcemdpe = abs(Dstarprime(pe,sigma) / Dstar(pe,sigma) - (1+(1-sigma)/theta) / (1-jmbar_prime) * djmbardpe) * Cem_prime\n",
    "dceydpe = abs((1+(1-sigma)/theta) / jmbar_prime * djmbardpe) * Cey_prime\n",
    "(dceystardpe + dcemdpe)* pe - leak * (dcexdpe + dceydpe) *pe"
   ]
  },
  {
   "cell_type": "code",
   "execution_count": 23,
   "id": "b1fefa5c-9652-48ff-bde8-01ea155388f3",
   "metadata": {},
   "outputs": [
    {
     "data": {
      "text/latex": [
       "$\\displaystyle -1.07745577765086$"
      ],
      "text/plain": [
       "-1.07745577765086"
      ]
     },
     "execution_count": 23,
     "metadata": {},
     "output_type": "execute_result"
    }
   ],
   "source": [
    "Dstarprime(pe, sigmastar) / Dstar(pe, sigmastar) - (1+(1-sigmastar) / theta) / (1-jxbar_prime) * djxbardpe * Ceystar_prime + (1+(1-sigmastar) / theta) / (jxbar_prime) * djxbardpe* Cex_prime"
   ]
  },
  {
   "cell_type": "code",
   "execution_count": 19,
   "id": "fdb67b16-f5fe-4601-985b-dfa627e1da16",
   "metadata": {},
   "outputs": [
    {
     "data": {
      "text/latex": [
       "$\\displaystyle 29.3536602474179$"
      ],
      "text/plain": [
       "29.3536602474179"
      ]
     },
     "execution_count": 19,
     "metadata": {},
     "output_type": "execute_result"
    }
   ],
   "source": [
    "epsilonDstar * (Ceystar_prime + Cem_prime) + leak * epsilonD * (Cex_prime + Cey_prime)"
   ]
  },
  {
   "cell_type": "code",
   "execution_count": 20,
   "id": "dbb9c21b-fcbe-4595-abc4-a33ae942c366",
   "metadata": {},
   "outputs": [
    {
     "data": {
      "text/latex": [
       "$\\displaystyle -2.27741938063412$"
      ],
      "text/plain": [
       "-2.27741938063412"
      ]
     },
     "execution_count": 20,
     "metadata": {},
     "output_type": "execute_result"
    }
   ],
   "source": [
    "diff(cem_new(x,pe+tb,jmbar, Cey, Cem, sigma, theta), x).subs(x,pe)"
   ]
  },
  {
   "cell_type": "code",
   "execution_count": 21,
   "id": "b7362088-1a56-46e7-b9b9-24a755999993",
   "metadata": {},
   "outputs": [
    {
     "data": {
      "text/latex": [
       "$\\displaystyle -28.1328465868253$"
      ],
      "text/plain": [
       "-28.1328465868253"
      ]
     },
     "execution_count": 21,
     "metadata": {},
     "output_type": "execute_result"
    }
   ],
   "source": [
    "diff(ceystar_new(x,x+tb, jxbar, Cex, Ceystar, sigmastar, theta),x).subs(x,pe)"
   ]
  },
  {
   "cell_type": "code",
   "execution_count": 22,
   "id": "92eec1e3-d3b4-4563-bb2d-7d9b817376c7",
   "metadata": {},
   "outputs": [
    {
     "data": {
      "text/latex": [
       "$\\displaystyle -29.9562347328241$"
      ],
      "text/plain": [
       "-29.9562347328241"
      ]
     },
     "execution_count": 22,
     "metadata": {},
     "output_type": "execute_result"
    }
   ],
   "source": [
    "dgestardpe = diff(ceystar_new(x,x+tb, jxbar, Cex, Ceystar, sigmastar, theta) + cem_new(x,x+tb,jmbar, Cey, Cem, sigma, theta), x).subs(x,pe)\n",
    "dgestardpe"
   ]
  },
  {
   "cell_type": "code",
   "execution_count": 23,
   "id": "f57094b5-e442-4fa2-8979-9e665a2a0026",
   "metadata": {},
   "outputs": [
    {
     "data": {
      "text/latex": [
       "$\\displaystyle -1.86252604944785$"
      ],
      "text/plain": [
       "-1.86252604944785"
      ]
     },
     "execution_count": 23,
     "metadata": {},
     "output_type": "execute_result"
    }
   ],
   "source": [
    "dgedpe = diff(cey_new(x,x+tb,jmbar, Cey, Cem, sigma, theta) + cex_new(x,x+tb, jxbar, Cex, Ceystar, sigmastar, theta), x).subs(x,pe)\n",
    "dgedpe"
   ]
  },
  {
   "cell_type": "code",
   "execution_count": 24,
   "id": "c3f1ecc8-b429-46cd-8a24-fb25fee843b0",
   "metadata": {},
   "outputs": [
    {
     "data": {
      "text/latex": [
       "$\\displaystyle -29.3536602044735$"
      ],
      "text/plain": [
       "-29.3536602044735"
      ]
     },
     "execution_count": 24,
     "metadata": {},
     "output_type": "execute_result"
    }
   ],
   "source": [
    "dgestardpe * pe + pe* leak * dgedpe"
   ]
  },
  {
   "cell_type": "code",
   "execution_count": 25,
   "id": "9da0487b-df9a-4ed5-be49-a40f05f6d9b4",
   "metadata": {},
   "outputs": [
    {
     "data": {
      "text/latex": [
       "$\\displaystyle 0.0026807364323345$"
      ],
      "text/plain": [
       "0.00268073643233450"
      ]
     },
     "execution_count": 25,
     "metadata": {},
     "output_type": "execute_result"
    }
   ],
   "source": [
    "diff(jxbar_temp(x,x+tb, theta, Cex, Ceystar), x).subs(x,pe)"
   ]
  },
  {
   "cell_type": "code",
   "execution_count": 26,
   "id": "26ef2a54-c028-4196-b461-3397407ce2f7",
   "metadata": {},
   "outputs": [
    {
     "data": {
      "text/plain": [
       "0.002680736621134375"
      ]
     },
     "execution_count": 26,
     "metadata": {},
     "output_type": "execute_result"
    }
   ],
   "source": [
    "-theta * g(pe) / g(ve) * (gprime(ve) * g(pe) - gprime(pe) * g(ve)) / g(pe)**2 * jxbar_prime * (1-jxbar_prime)"
   ]
  },
  {
   "cell_type": "code",
   "execution_count": 156,
   "id": "81a35b7f-b020-4595-8052-79d8b092f60b",
   "metadata": {},
   "outputs": [
    {
     "data": {
      "text/latex": [
       "$\\displaystyle 0.133102025229275$"
      ],
      "text/plain": [
       "0.133102025229275"
      ]
     },
     "execution_count": 156,
     "metadata": {},
     "output_type": "execute_result"
    }
   ],
   "source": [
    "diff(ceystar_new(pe,x, jxbar, Cex, Ceystar, sigmastar, theta),x).subs(x,ve)"
   ]
  },
  {
   "cell_type": "code",
   "execution_count": 66,
   "id": "913c2d57-d46f-470e-b35c-8562f7cc13ed",
   "metadata": {},
   "outputs": [
    {
     "data": {
      "text/latex": [
       "$\\displaystyle 27.188498516851$"
      ],
      "text/plain": [
       "27.1884985168510"
      ]
     },
     "execution_count": 66,
     "metadata": {},
     "output_type": "execute_result"
    }
   ],
   "source": [
    "abs(diff(ceystar_new(x,x+tb - prop*tb, jxbar, Cex, Ceystar, sigmastar, theta),x).subs(x,pe)) * pe + pe*prop*abs(diff(cex_new(x,x+tb - prop*tb, jxbar, Cex, Ceystar, sigmastar, theta), x).subs(x,pe))"
   ]
  },
  {
   "cell_type": "code",
   "execution_count": 166,
   "id": "51755943-e951-48c6-a30c-03e5be59bc02",
   "metadata": {},
   "outputs": [
    {
     "data": {
      "text/latex": [
       "$\\displaystyle -30.4026441559173$"
      ],
      "text/plain": [
       "-30.4026441559173"
      ]
     },
     "execution_count": 166,
     "metadata": {},
     "output_type": "execute_result"
    }
   ],
   "source": [
    "(dgestardpe + leak * dgedpe)"
   ]
  },
  {
   "cell_type": "code",
   "execution_count": 168,
   "id": "e7c2f7a1-b3ef-40bd-bc40-7beda47fdf33",
   "metadata": {},
   "outputs": [
    {
     "data": {
      "text/latex": [
       "$\\displaystyle 30.4026442003964$"
      ],
      "text/plain": [
       "30.4026442003964"
      ]
     },
     "execution_count": 168,
     "metadata": {},
     "output_type": "execute_result"
    }
   ],
   "source": [
    "(dceystardpe + dcemdpe)- leak * (dcexdpe + dceydpe)"
   ]
  },
  {
   "cell_type": "code",
   "execution_count": 38,
   "id": "685adb28-f4e8-453f-b80b-1a77117279bf",
   "metadata": {},
   "outputs": [
    {
     "data": {
      "text/latex": [
       "$\\displaystyle -0.667179896581258$"
      ],
      "text/plain": [
       "-0.667179896581258"
      ]
     },
     "execution_count": 38,
     "metadata": {},
     "output_type": "execute_result"
    }
   ],
   "source": [
    "Dstarprime(pe+tb, sigmastar) / Dstar(ve, sigmastar)"
   ]
  },
  {
   "cell_type": "code",
   "execution_count": 35,
   "id": "0382a0c6-2d62-44f2-b1bf-ddb5e051a4f5",
   "metadata": {},
   "outputs": [
    {
     "data": {
      "text/latex": [
       "$\\displaystyle 0.0218587780573164$"
      ],
      "text/plain": [
       "0.0218587780573164"
      ]
     },
     "execution_count": 35,
     "metadata": {},
     "output_type": "execute_result"
    }
   ],
   "source": [
    "diff(jxbar_temp(x,x+tb, theta, Cex, Ceystar), x).subs(x,pe) / jxbar_prime * (1+(1-sigmastar)/theta) * Dstar(pe + tb, sigmastar)"
   ]
  },
  {
   "cell_type": "code",
   "execution_count": 40,
   "id": "9ee1c035-df81-4134-b23c-faa3aa78177f",
   "metadata": {},
   "outputs": [
    {
     "data": {
      "text/latex": [
       "$\\displaystyle -0.667179896581258$"
      ],
      "text/plain": [
       "-0.667179896581258"
      ]
     },
     "execution_count": 40,
     "metadata": {},
     "output_type": "execute_result"
    }
   ],
   "source": [
    "diff(gprime(x),x).subs(x,ve) / gprime(ve) - sigmastar* gprime(ve)/g(ve)"
   ]
  },
  {
   "cell_type": "code",
   "execution_count": 41,
   "id": "b3f640fd-9b5f-4e44-b666-26274d2659d0",
   "metadata": {},
   "outputs": [
    {
     "data": {
      "text/plain": [
       "0.10007698448718873"
      ]
     },
     "execution_count": 41,
     "metadata": {},
     "output_type": "execute_result"
    }
   ],
   "source": [
    "sigmastar* gprime(ve)/g(ve)"
   ]
  },
  {
   "cell_type": "code",
   "execution_count": null,
   "id": "7791030b-37f2-4aac-94a9-b46821dc4532",
   "metadata": {},
   "outputs": [],
   "source": []
  }
 ],
 "metadata": {
  "kernelspec": {
   "display_name": "Python 3 (ipykernel)",
   "language": "python",
   "name": "python3"
  },
  "language_info": {
   "codemirror_mode": {
    "name": "ipython",
    "version": 3
   },
   "file_extension": ".py",
   "mimetype": "text/x-python",
   "name": "python",
   "nbconvert_exporter": "python",
   "pygments_lexer": "ipython3",
   "version": "3.9.5"
  }
 },
 "nbformat": 4,
 "nbformat_minor": 5
}
