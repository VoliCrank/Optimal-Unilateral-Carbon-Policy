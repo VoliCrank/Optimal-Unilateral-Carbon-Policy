{
 "cells": [
  {
   "cell_type": "code",
   "execution_count": 23,
   "id": "850d1d85-aac3-41bb-9d4d-ad343891e689",
   "metadata": {},
   "outputs": [],
   "source": [
    "from sympy import *\n",
    "import pandas as pd\n",
    "from scipy.integrate import quad"
   ]
  },
  {
   "cell_type": "code",
   "execution_count": 2,
   "id": "49bc960b-a32c-454b-96c2-c2e81df61e14",
   "metadata": {},
   "outputs": [
    {
     "data": {
      "text/html": [
       "<div>\n",
       "<style scoped>\n",
       "    .dataframe tbody tr th:only-of-type {\n",
       "        vertical-align: middle;\n",
       "    }\n",
       "\n",
       "    .dataframe tbody tr th {\n",
       "        vertical-align: top;\n",
       "    }\n",
       "\n",
       "    .dataframe thead th {\n",
       "        text-align: right;\n",
       "    }\n",
       "</style>\n",
       "<table border=\"1\" class=\"dataframe\">\n",
       "  <thead>\n",
       "    <tr style=\"text-align: right;\">\n",
       "      <th></th>\n",
       "      <th></th>\n",
       "      <th>Qe</th>\n",
       "      <th>Qestar</th>\n",
       "      <th>Qeworld</th>\n",
       "      <th>CeHH</th>\n",
       "      <th>CeHF</th>\n",
       "      <th>CeFH</th>\n",
       "      <th>CeFF</th>\n",
       "      <th>Ce</th>\n",
       "      <th>Cestar</th>\n",
       "      <th>Ge</th>\n",
       "      <th>Gestar</th>\n",
       "      <th>Ceworld</th>\n",
       "      <th>Geworld</th>\n",
       "      <th>jxbar</th>\n",
       "      <th>jmbar</th>\n",
       "    </tr>\n",
       "    <tr>\n",
       "      <th>region_scenario</th>\n",
       "      <th>regionbase</th>\n",
       "      <th></th>\n",
       "      <th></th>\n",
       "      <th></th>\n",
       "      <th></th>\n",
       "      <th></th>\n",
       "      <th></th>\n",
       "      <th></th>\n",
       "      <th></th>\n",
       "      <th></th>\n",
       "      <th></th>\n",
       "      <th></th>\n",
       "      <th></th>\n",
       "      <th></th>\n",
       "      <th></th>\n",
       "      <th></th>\n",
       "    </tr>\n",
       "  </thead>\n",
       "  <tbody>\n",
       "    <tr>\n",
       "      <th>1</th>\n",
       "      <th>US as Home</th>\n",
       "      <td>4.480045</td>\n",
       "      <td>27.795946</td>\n",
       "      <td>32.275990</td>\n",
       "      <td>4.598403</td>\n",
       "      <td>1.196111</td>\n",
       "      <td>0.421601</td>\n",
       "      <td>26.059874</td>\n",
       "      <td>5.794514</td>\n",
       "      <td>26.481474</td>\n",
       "      <td>5.020004</td>\n",
       "      <td>27.255985</td>\n",
       "      <td>32.275990</td>\n",
       "      <td>32.275990</td>\n",
       "      <td>0.015921</td>\n",
       "      <td>0.793579</td>\n",
       "    </tr>\n",
       "    <tr>\n",
       "      <th>2</th>\n",
       "      <th>EU28 as Home</th>\n",
       "      <td>0.935781</td>\n",
       "      <td>31.340202</td>\n",
       "      <td>32.275986</td>\n",
       "      <td>2.950581</td>\n",
       "      <td>1.013552</td>\n",
       "      <td>0.507676</td>\n",
       "      <td>27.804173</td>\n",
       "      <td>3.964133</td>\n",
       "      <td>28.311848</td>\n",
       "      <td>3.458257</td>\n",
       "      <td>28.817724</td>\n",
       "      <td>32.275982</td>\n",
       "      <td>32.275982</td>\n",
       "      <td>0.017932</td>\n",
       "      <td>0.744319</td>\n",
       "    </tr>\n",
       "    <tr>\n",
       "      <th>3</th>\n",
       "      <th>OECD37 as Home</th>\n",
       "      <td>8.625495</td>\n",
       "      <td>23.650503</td>\n",
       "      <td>32.276001</td>\n",
       "      <td>11.293668</td>\n",
       "      <td>2.487537</td>\n",
       "      <td>0.910579</td>\n",
       "      <td>17.584217</td>\n",
       "      <td>13.781205</td>\n",
       "      <td>18.494795</td>\n",
       "      <td>12.204247</td>\n",
       "      <td>20.071754</td>\n",
       "      <td>32.276001</td>\n",
       "      <td>32.276001</td>\n",
       "      <td>0.049234</td>\n",
       "      <td>0.819498</td>\n",
       "    </tr>\n",
       "    <tr>\n",
       "      <th>4</th>\n",
       "      <th>World as Home</th>\n",
       "      <td>32.175999</td>\n",
       "      <td>0.100000</td>\n",
       "      <td>32.276001</td>\n",
       "      <td>32.146000</td>\n",
       "      <td>0.030000</td>\n",
       "      <td>0.030000</td>\n",
       "      <td>0.070000</td>\n",
       "      <td>32.175999</td>\n",
       "      <td>0.100000</td>\n",
       "      <td>32.175999</td>\n",
       "      <td>0.100000</td>\n",
       "      <td>32.276001</td>\n",
       "      <td>32.276001</td>\n",
       "      <td>0.300000</td>\n",
       "      <td>0.999068</td>\n",
       "    </tr>\n",
       "    <tr>\n",
       "      <th>5</th>\n",
       "      <th>China as Home</th>\n",
       "      <td>7.522744</td>\n",
       "      <td>24.753246</td>\n",
       "      <td>32.275990</td>\n",
       "      <td>7.345464</td>\n",
       "      <td>0.632472</td>\n",
       "      <td>1.935382</td>\n",
       "      <td>22.362669</td>\n",
       "      <td>7.977936</td>\n",
       "      <td>24.298052</td>\n",
       "      <td>9.280846</td>\n",
       "      <td>22.995142</td>\n",
       "      <td>32.275990</td>\n",
       "      <td>32.275990</td>\n",
       "      <td>0.079652</td>\n",
       "      <td>0.920722</td>\n",
       "    </tr>\n",
       "    <tr>\n",
       "      <th>6</th>\n",
       "      <th>OECD and China as Home</th>\n",
       "      <td>16.148245</td>\n",
       "      <td>16.127758</td>\n",
       "      <td>32.276001</td>\n",
       "      <td>20.103180</td>\n",
       "      <td>1.655961</td>\n",
       "      <td>1.381915</td>\n",
       "      <td>9.134943</td>\n",
       "      <td>21.759140</td>\n",
       "      <td>10.516858</td>\n",
       "      <td>21.485096</td>\n",
       "      <td>10.790904</td>\n",
       "      <td>32.276001</td>\n",
       "      <td>32.276001</td>\n",
       "      <td>0.131400</td>\n",
       "      <td>0.923896</td>\n",
       "    </tr>\n",
       "    <tr>\n",
       "      <th>7</th>\n",
       "      <th>US and EU as Home</th>\n",
       "      <td>5.415825</td>\n",
       "      <td>26.860159</td>\n",
       "      <td>32.275986</td>\n",
       "      <td>7.728876</td>\n",
       "      <td>2.029770</td>\n",
       "      <td>0.749387</td>\n",
       "      <td>21.767950</td>\n",
       "      <td>9.758646</td>\n",
       "      <td>22.517336</td>\n",
       "      <td>8.478263</td>\n",
       "      <td>23.797718</td>\n",
       "      <td>32.275982</td>\n",
       "      <td>32.275982</td>\n",
       "      <td>0.033280</td>\n",
       "      <td>0.792003</td>\n",
       "    </tr>\n",
       "  </tbody>\n",
       "</table>\n",
       "</div>"
      ],
      "text/plain": [
       "                                               Qe     Qestar    Qeworld  \\\n",
       "region_scenario regionbase                                                \n",
       "1               US as Home               4.480045  27.795946  32.275990   \n",
       "2               EU28 as Home             0.935781  31.340202  32.275986   \n",
       "3               OECD37 as Home           8.625495  23.650503  32.276001   \n",
       "4               World as Home           32.175999   0.100000  32.276001   \n",
       "5               China as Home            7.522744  24.753246  32.275990   \n",
       "6               OECD and China as Home  16.148245  16.127758  32.276001   \n",
       "7               US and EU as Home        5.415825  26.860159  32.275986   \n",
       "\n",
       "                                             CeHH      CeHF      CeFH  \\\n",
       "region_scenario regionbase                                              \n",
       "1               US as Home               4.598403  1.196111  0.421601   \n",
       "2               EU28 as Home             2.950581  1.013552  0.507676   \n",
       "3               OECD37 as Home          11.293668  2.487537  0.910579   \n",
       "4               World as Home           32.146000  0.030000  0.030000   \n",
       "5               China as Home            7.345464  0.632472  1.935382   \n",
       "6               OECD and China as Home  20.103180  1.655961  1.381915   \n",
       "7               US and EU as Home        7.728876  2.029770  0.749387   \n",
       "\n",
       "                                             CeFF         Ce     Cestar  \\\n",
       "region_scenario regionbase                                                \n",
       "1               US as Home              26.059874   5.794514  26.481474   \n",
       "2               EU28 as Home            27.804173   3.964133  28.311848   \n",
       "3               OECD37 as Home          17.584217  13.781205  18.494795   \n",
       "4               World as Home            0.070000  32.175999   0.100000   \n",
       "5               China as Home           22.362669   7.977936  24.298052   \n",
       "6               OECD and China as Home   9.134943  21.759140  10.516858   \n",
       "7               US and EU as Home       21.767950   9.758646  22.517336   \n",
       "\n",
       "                                               Ge     Gestar    Ceworld  \\\n",
       "region_scenario regionbase                                                \n",
       "1               US as Home               5.020004  27.255985  32.275990   \n",
       "2               EU28 as Home             3.458257  28.817724  32.275982   \n",
       "3               OECD37 as Home          12.204247  20.071754  32.276001   \n",
       "4               World as Home           32.175999   0.100000  32.276001   \n",
       "5               China as Home            9.280846  22.995142  32.275990   \n",
       "6               OECD and China as Home  21.485096  10.790904  32.276001   \n",
       "7               US and EU as Home        8.478263  23.797718  32.275982   \n",
       "\n",
       "                                          Geworld     jxbar     jmbar  \n",
       "region_scenario regionbase                                             \n",
       "1               US as Home              32.275990  0.015921  0.793579  \n",
       "2               EU28 as Home            32.275982  0.017932  0.744319  \n",
       "3               OECD37 as Home          32.276001  0.049234  0.819498  \n",
       "4               World as Home           32.276001  0.300000  0.999068  \n",
       "5               China as Home           32.275990  0.079652  0.920722  \n",
       "6               OECD and China as Home  32.276001  0.131400  0.923896  \n",
       "7               US and EU as Home       32.275982  0.033280  0.792003  "
      ]
     },
     "execution_count": 2,
     "metadata": {},
     "output_type": "execute_result"
    }
   ],
   "source": [
    "df = pd.read_csv(\"../output/BaselineCarbon_2015.csv\", index_col=['region_scenario','regionbase'],header='infer')\n",
    "df['jxbar']=df['CeFH']/(df['CeFH'] + df['CeFF'])\n",
    "df['jmbar']=df['CeHH']/(df['CeHH'] + df['CeHF'])\n",
    "df"
   ]
  },
  {
   "cell_type": "code",
   "execution_count": 3,
   "id": "36517621-60fc-44be-94ed-f31a9bcf044d",
   "metadata": {},
   "outputs": [],
   "source": [
    "## parameter values\n",
    "alpha = 0.85;           # labor share parameter in manufacturing\n",
    "theta = 4;              # scopevec for comparative advantage\n",
    "sigma = 1;      # elasticity of demand for each individual manufactured good j at Home\n",
    "sigmastar = 1;  # elasticity of demand for each individual manufactured good j at Foreign\n",
    "epsilonD = alpha + (1 - alpha) * sigma;  #Home's elasticity of demand for embodied energy\n",
    "epsilonDstar = alpha + (1 - alpha) * sigmastar;  #Foreign's elasticity of demand for embodied energy\n",
    "# beta = 2.274853;\n",
    "# gamma= 0.784877595;\n",
    "beta=1.892412;\n",
    "gamma=0.807998928;\n",
    "epsilonS = 0.5;  #Homes's energy supply elasticity: beta/(1 - beta)\n",
    "epsilonSstar = 0.5;  #Foreign's energy supply elasticity: betastar/(1 - betastar)\n",
    "varphi = 2"
   ]
  },
  {
   "cell_type": "code",
   "execution_count": 4,
   "id": "e7abf728-57e2-4c76-a5ae-8324b016cc26",
   "metadata": {},
   "outputs": [],
   "source": [
    "Qe = 1\n",
    "Qestar = 1"
   ]
  },
  {
   "cell_type": "code",
   "execution_count": 33,
   "id": "8f7fb291-253d-4180-aafc-12b0fd64d3af",
   "metadata": {},
   "outputs": [],
   "source": [
    "pe, tb, Qe, Qestar = symbols(\"p_e t_b Q_e Q_e^*\")\n",
    "i = symbols(\"i\")\n",
    "jxbar, jmbar = symbols(\"jxbar jmbar\")"
   ]
  },
  {
   "cell_type": "code",
   "execution_count": 34,
   "id": "1f8b88f2-6944-4d55-8850-1b97f52934e1",
   "metadata": {},
   "outputs": [],
   "source": [
    "Qe_prime = (pe + tb - varphi) ** epsilonS * Qe\n",
    "Qestar_prime = pe ** epsilonSstar * Qestar"
   ]
  },
  {
   "cell_type": "code",
   "execution_count": 35,
   "id": "dbba722e-a032-4891-b684-8d4afe0e6edf",
   "metadata": {},
   "outputs": [
    {
     "data": {
      "text/latex": [
       "$\\displaystyle Q^{*}_{e} p_{e}^{0.5}$"
      ],
      "text/plain": [
       "Q_e^**p_e**0.5"
      ]
     },
     "execution_count": 35,
     "metadata": {},
     "output_type": "execute_result"
    }
   ],
   "source": [
    "Qestar_prime"
   ]
  },
  {
   "cell_type": "code",
   "execution_count": 36,
   "id": "12cd0c4a-f26c-44bc-abf2-ba1292704162",
   "metadata": {},
   "outputs": [],
   "source": [
    "jxbar_hat = 1\n",
    "jmbar_hat = 1"
   ]
  },
  {
   "cell_type": "code",
   "execution_count": 37,
   "id": "195a691e-a91a-4220-b2b4-788bd467671e",
   "metadata": {},
   "outputs": [
    {
     "data": {
      "text/latex": [
       "$\\displaystyle \\frac{1}{p_{e}^{3.4} \\left(p_{e} + t_{b}\\right)^{0.6} \\left(\\frac{\\bar{jx}}{p_{e}^{3.4} \\left(p_{e} + t_{b}\\right)^{0.6}} + \\frac{1 - \\bar{jx}}{\\left(p_{e} + 0.15 t_{b}\\right)^{4}}\\right)}$"
      ],
      "text/plain": [
       "1/(p_e**3.4*(p_e + t_b)**0.6*(jxbar/(p_e**3.4*(p_e + t_b)**0.6) + (1 - jxbar)/(p_e + 0.15*t_b)**4))"
      ]
     },
     "execution_count": 37,
     "metadata": {},
     "output_type": "execute_result"
    }
   ],
   "source": [
    "# simulate pure_tc\n",
    "jxbar_prime = pe**(-alpha*theta) * (pe+tb)**(-(1-alpha)*theta) / (jxbar * pe**(-alpha*theta) * (pe+tb)**(-(1-alpha)*theta) + (1-jxbar) * (pe + (1-alpha) * tb)**(-theta))\n",
    "jxbar_prime"
   ]
  },
  {
   "cell_type": "code",
   "execution_count": 38,
   "id": "8027348a-3748-4963-8daa-94709ce47e66",
   "metadata": {},
   "outputs": [],
   "source": [
    "jmbar_prime = jmbar"
   ]
  },
  {
   "cell_type": "code",
   "execution_count": 39,
   "id": "9045db67-928a-4499-8241-dff4047a8ba2",
   "metadata": {},
   "outputs": [
    {
     "data": {
      "text/latex": [
       "$\\displaystyle \\frac{\\bar{jx}}{\\left(p_{e} + t_{b}\\right)^{0.6} \\left(\\frac{\\bar{jx}}{\\left(p_{e} + t_{b}\\right)^{0.6}} + \\frac{1 - \\bar{jx}}{p_{e}^{0.6}}\\right)}$"
      ],
      "text/plain": [
       "jxbar/((p_e + t_b)**0.6*(jxbar/(p_e + t_b)**0.6 + (1 - jxbar)/p_e**0.6))"
      ]
     },
     "execution_count": 39,
     "metadata": {},
     "output_type": "execute_result"
    }
   ],
   "source": [
    "j0_hat = (pe+tb)**(-(1-alpha)*theta) / (jxbar * (pe+tb)**(-(1-alpha)*theta) + (1-jxbar) * pe**(-(1-alpha)*theta))\n",
    "j0_prime = j0_hat * jxbar\n",
    "j0_prime"
   ]
  },
  {
   "cell_type": "code",
   "execution_count": 41,
   "id": "9515d473-a12d-45bb-a490-ba495c1cb658",
   "metadata": {},
   "outputs": [
    {
     "data": {
      "text/latex": [
       "$\\displaystyle CeFF$"
      ],
      "text/plain": [
       "CeFF"
      ]
     },
     "execution_count": 41,
     "metadata": {},
     "output_type": "execute_result"
    }
   ],
   "source": [
    "CeHH, CeFH, CeHF, CeFF = symbols(\"CeHH, CeFH, CeHF, CeFF\")"
   ]
  },
  {
   "cell_type": "code",
   "execution_count": 42,
   "id": "e1ce8750-9b94-40d1-b7fb-fc64261cd5fb",
   "metadata": {},
   "outputs": [
    {
     "data": {
      "text/latex": [
       "$\\displaystyle \\frac{1.0 CeHH}{\\left(p_{e} + t_{b}\\right)^{1.0}}$"
      ],
      "text/plain": [
       "1.0*CeHH/(p_e + t_b)**1.0"
      ]
     },
     "execution_count": 42,
     "metadata": {},
     "output_type": "execute_result"
    }
   ],
   "source": [
    "CeHH_hat = (pe + tb) ** (-epsilonD) * jmbar_hat ** (1 + (1 - sigma)/theta)\n",
    "CeHH_prime = CeHH * CeHH_hat\n",
    "CeHH_prime"
   ]
  },
  {
   "cell_type": "code",
   "execution_count": 43,
   "id": "b95a9763-b5fb-492b-8bcf-597ed5938301",
   "metadata": {},
   "outputs": [
    {
     "data": {
      "text/latex": [
       "$\\displaystyle \\frac{i^{0.25}}{\\left(1 - i\\right)^{0.25}}$"
      ],
      "text/plain": [
       "i**0.25/(1 - i)**0.25"
      ]
     },
     "execution_count": 43,
     "metadata": {},
     "output_type": "execute_result"
    }
   ],
   "source": [
    "(i ** ((1 + theta) / theta - 1) * (1 - i) ** ((theta - sigmastar) / theta - 1))"
   ]
  },
  {
   "cell_type": "code",
   "execution_count": 45,
   "id": "91a6bd2a-3cfd-436f-a3a3-cb6d028e3a10",
   "metadata": {},
   "outputs": [
    {
     "ename": "TypeError",
     "evalue": "cannot determine truth value of Relational",
     "output_type": "error",
     "traceback": [
      "\u001b[1;31m---------------------------------------------------------------------------\u001b[0m",
      "\u001b[1;31mTypeError\u001b[0m                                 Traceback (most recent call last)",
      "\u001b[1;32m~\\AppData\\Local\\Temp/ipykernel_21100/3198346190.py\u001b[0m in \u001b[0;36m<module>\u001b[1;34m\u001b[0m\n\u001b[0;32m      2\u001b[0m     \u001b[1;32mreturn\u001b[0m \u001b[1;33m(\u001b[0m\u001b[0mi\u001b[0m \u001b[1;33m**\u001b[0m \u001b[1;33m(\u001b[0m\u001b[1;33m(\u001b[0m\u001b[1;36m1\u001b[0m \u001b[1;33m+\u001b[0m \u001b[0mtheta\u001b[0m\u001b[1;33m)\u001b[0m \u001b[1;33m/\u001b[0m \u001b[0mtheta\u001b[0m \u001b[1;33m-\u001b[0m \u001b[1;36m1\u001b[0m\u001b[1;33m)\u001b[0m \u001b[1;33m*\u001b[0m \u001b[1;33m(\u001b[0m\u001b[1;36m1\u001b[0m \u001b[1;33m-\u001b[0m \u001b[0mi\u001b[0m\u001b[1;33m)\u001b[0m \u001b[1;33m**\u001b[0m \u001b[1;33m(\u001b[0m\u001b[1;33m(\u001b[0m\u001b[0mtheta\u001b[0m \u001b[1;33m-\u001b[0m \u001b[0msigmastar\u001b[0m\u001b[1;33m)\u001b[0m \u001b[1;33m/\u001b[0m \u001b[0mtheta\u001b[0m \u001b[1;33m-\u001b[0m \u001b[1;36m1\u001b[0m\u001b[1;33m)\u001b[0m\u001b[1;33m)\u001b[0m\u001b[1;33m\u001b[0m\u001b[1;33m\u001b[0m\u001b[0m\n\u001b[0;32m      3\u001b[0m \u001b[1;33m\u001b[0m\u001b[0m\n\u001b[1;32m----> 4\u001b[1;33m \u001b[0mBfunvec1_prime\u001b[0m \u001b[1;33m=\u001b[0m \u001b[0mquad\u001b[0m\u001b[1;33m(\u001b[0m\u001b[0mtempFunction\u001b[0m\u001b[1;33m,\u001b[0m\u001b[1;36m0\u001b[0m\u001b[1;33m,\u001b[0m\u001b[0mj0_prime\u001b[0m\u001b[1;33m,\u001b[0m \u001b[0margs\u001b[0m\u001b[1;33m=\u001b[0m\u001b[1;33m(\u001b[0m\u001b[0mtheta\u001b[0m\u001b[1;33m,\u001b[0m \u001b[0msigmastar\u001b[0m\u001b[1;33m)\u001b[0m\u001b[1;33m)\u001b[0m\u001b[1;33m[\u001b[0m\u001b[1;36m0\u001b[0m\u001b[1;33m]\u001b[0m\u001b[1;33m;\u001b[0m\u001b[1;33m\u001b[0m\u001b[1;33m\u001b[0m\u001b[0m\n\u001b[0m\u001b[0;32m      5\u001b[0m \u001b[0mBfunvec2_prime\u001b[0m \u001b[1;33m=\u001b[0m \u001b[0mquad\u001b[0m\u001b[1;33m(\u001b[0m\u001b[0mtempFunction\u001b[0m\u001b[1;33m,\u001b[0m\u001b[1;36m0\u001b[0m\u001b[1;33m,\u001b[0m\u001b[0mjxbar_prime\u001b[0m\u001b[1;33m,\u001b[0m \u001b[0margs\u001b[0m\u001b[1;33m=\u001b[0m\u001b[1;33m(\u001b[0m\u001b[0mtheta\u001b[0m\u001b[1;33m,\u001b[0m \u001b[0msigmastar\u001b[0m\u001b[1;33m)\u001b[0m\u001b[1;33m)\u001b[0m\u001b[1;33m[\u001b[0m\u001b[1;36m0\u001b[0m\u001b[1;33m]\u001b[0m\u001b[1;33m;\u001b[0m\u001b[1;33m\u001b[0m\u001b[1;33m\u001b[0m\u001b[0m\n",
      "\u001b[1;32m~\\AppData\\Roaming\\Python\\Python39\\site-packages\\scipy\\integrate\\quadpack.py\u001b[0m in \u001b[0;36mquad\u001b[1;34m(func, a, b, args, full_output, epsabs, epsrel, limit, points, weight, wvar, wopts, maxp1, limlst)\u001b[0m\n\u001b[0;32m    346\u001b[0m \u001b[1;33m\u001b[0m\u001b[0m\n\u001b[0;32m    347\u001b[0m     \u001b[1;31m# check the limits of integration: \\int_a^b, expect a < b\u001b[0m\u001b[1;33m\u001b[0m\u001b[1;33m\u001b[0m\u001b[1;33m\u001b[0m\u001b[0m\n\u001b[1;32m--> 348\u001b[1;33m     \u001b[0mflip\u001b[0m\u001b[1;33m,\u001b[0m \u001b[0ma\u001b[0m\u001b[1;33m,\u001b[0m \u001b[0mb\u001b[0m \u001b[1;33m=\u001b[0m \u001b[0mb\u001b[0m \u001b[1;33m<\u001b[0m \u001b[0ma\u001b[0m\u001b[1;33m,\u001b[0m \u001b[0mmin\u001b[0m\u001b[1;33m(\u001b[0m\u001b[0ma\u001b[0m\u001b[1;33m,\u001b[0m \u001b[0mb\u001b[0m\u001b[1;33m)\u001b[0m\u001b[1;33m,\u001b[0m \u001b[0mmax\u001b[0m\u001b[1;33m(\u001b[0m\u001b[0ma\u001b[0m\u001b[1;33m,\u001b[0m \u001b[0mb\u001b[0m\u001b[1;33m)\u001b[0m\u001b[1;33m\u001b[0m\u001b[1;33m\u001b[0m\u001b[0m\n\u001b[0m\u001b[0;32m    349\u001b[0m \u001b[1;33m\u001b[0m\u001b[0m\n\u001b[0;32m    350\u001b[0m     \u001b[1;32mif\u001b[0m \u001b[0mweight\u001b[0m \u001b[1;32mis\u001b[0m \u001b[1;32mNone\u001b[0m\u001b[1;33m:\u001b[0m\u001b[1;33m\u001b[0m\u001b[1;33m\u001b[0m\u001b[0m\n",
      "\u001b[1;32mc:\\users\\alex\\appdata\\local\\programs\\python\\python39\\lib\\site-packages\\sympy\\core\\relational.py\u001b[0m in \u001b[0;36m__bool__\u001b[1;34m(self)\u001b[0m\n\u001b[0;32m    396\u001b[0m \u001b[1;33m\u001b[0m\u001b[0m\n\u001b[0;32m    397\u001b[0m     \u001b[1;32mdef\u001b[0m \u001b[0m__bool__\u001b[0m\u001b[1;33m(\u001b[0m\u001b[0mself\u001b[0m\u001b[1;33m)\u001b[0m\u001b[1;33m:\u001b[0m\u001b[1;33m\u001b[0m\u001b[1;33m\u001b[0m\u001b[0m\n\u001b[1;32m--> 398\u001b[1;33m         \u001b[1;32mraise\u001b[0m \u001b[0mTypeError\u001b[0m\u001b[1;33m(\u001b[0m\u001b[1;34m\"cannot determine truth value of Relational\"\u001b[0m\u001b[1;33m)\u001b[0m\u001b[1;33m\u001b[0m\u001b[1;33m\u001b[0m\u001b[0m\n\u001b[0m\u001b[0;32m    399\u001b[0m \u001b[1;33m\u001b[0m\u001b[0m\n\u001b[0;32m    400\u001b[0m     \u001b[1;32mdef\u001b[0m \u001b[0m_eval_as_set\u001b[0m\u001b[1;33m(\u001b[0m\u001b[0mself\u001b[0m\u001b[1;33m)\u001b[0m\u001b[1;33m:\u001b[0m\u001b[1;33m\u001b[0m\u001b[1;33m\u001b[0m\u001b[0m\n",
      "\u001b[1;31mTypeError\u001b[0m: cannot determine truth value of Relational"
     ]
    }
   ],
   "source": [
    "def tempFunction(i, theta, sigmastar):\n",
    "    return (i ** ((1 + theta) / theta - 1) * (1 - i) ** ((theta - sigmastar) / theta - 1)) \n",
    "    \n",
    "Bfunvec1_prime = quad(tempFunction,0,j0_prime, args=(theta, sigmastar))[0];\n",
    "Bfunvec2_prime = quad(tempFunction,0,jxbar_prime, args=(theta, sigmastar))[0];"
   ]
  },
  {
   "cell_type": "code",
   "execution_count": 21,
   "id": "6712fdba-ac6b-47f7-8662-83cd7622ea35",
   "metadata": {},
   "outputs": [
    {
     "ename": "NameError",
     "evalue": "name 'Bfunvec2_prime' is not defined",
     "output_type": "error",
     "traceback": [
      "\u001b[1;31m---------------------------------------------------------------------------\u001b[0m",
      "\u001b[1;31mNameError\u001b[0m                                 Traceback (most recent call last)",
      "\u001b[1;32m~\\AppData\\Local\\Temp/ipykernel_21100/3265609598.py\u001b[0m in \u001b[0;36m<module>\u001b[1;34m\u001b[0m\n\u001b[0;32m      1\u001b[0m \u001b[0mCeFH1_hat\u001b[0m \u001b[1;33m=\u001b[0m \u001b[1;33m(\u001b[0m\u001b[0mpe\u001b[0m \u001b[1;33m+\u001b[0m\u001b[0mtb\u001b[0m\u001b[1;33m)\u001b[0m\u001b[1;33m**\u001b[0m\u001b[1;33m(\u001b[0m\u001b[1;33m-\u001b[0m\u001b[0mepsilonDstar\u001b[0m\u001b[1;33m)\u001b[0m \u001b[1;33m*\u001b[0m \u001b[0mj0_hat\u001b[0m\u001b[1;33m**\u001b[0m\u001b[1;33m(\u001b[0m\u001b[1;36m1\u001b[0m \u001b[1;33m+\u001b[0m \u001b[1;33m(\u001b[0m\u001b[1;36m1\u001b[0m \u001b[1;33m-\u001b[0m \u001b[0msigmastar\u001b[0m\u001b[1;33m)\u001b[0m\u001b[1;33m/\u001b[0m\u001b[0mtheta\u001b[0m\u001b[1;33m)\u001b[0m\u001b[1;33m\u001b[0m\u001b[1;33m\u001b[0m\u001b[0m\n\u001b[1;32m----> 2\u001b[1;33m \u001b[0mCeFH2_hat\u001b[0m \u001b[1;33m=\u001b[0m \u001b[1;33m(\u001b[0m\u001b[1;36m1\u001b[0m \u001b[1;33m+\u001b[0m \u001b[1;33m(\u001b[0m\u001b[1;36m1\u001b[0m \u001b[1;33m-\u001b[0m \u001b[0msigmastar\u001b[0m\u001b[1;33m)\u001b[0m\u001b[1;33m/\u001b[0m\u001b[0mtheta\u001b[0m\u001b[1;33m)\u001b[0m \u001b[1;33m*\u001b[0m \u001b[1;33m(\u001b[0m\u001b[1;33m(\u001b[0m\u001b[1;36m1\u001b[0m\u001b[1;33m-\u001b[0m\u001b[0mdf\u001b[0m\u001b[1;33m[\u001b[0m\u001b[1;34m'jxbar'\u001b[0m\u001b[1;33m]\u001b[0m\u001b[1;33m)\u001b[0m\u001b[1;33m/\u001b[0m\u001b[0mdf\u001b[0m\u001b[1;33m[\u001b[0m\u001b[1;34m'jxbar'\u001b[0m\u001b[1;33m]\u001b[0m\u001b[1;33m)\u001b[0m\u001b[1;33m**\u001b[0m\u001b[1;33m(\u001b[0m\u001b[0msigmastar\u001b[0m\u001b[1;33m/\u001b[0m\u001b[0mtheta\u001b[0m\u001b[1;33m)\u001b[0m \u001b[1;33m*\u001b[0m \u001b[0mpe\u001b[0m\u001b[1;33m**\u001b[0m\u001b[1;33m(\u001b[0m\u001b[1;33m-\u001b[0m\u001b[0mepsilonDstar\u001b[0m\u001b[1;33m)\u001b[0m \u001b[1;33m*\u001b[0m \u001b[1;33m(\u001b[0m\u001b[1;36m1\u001b[0m \u001b[1;33m+\u001b[0m \u001b[0mtb\u001b[0m\u001b[1;33m/\u001b[0m\u001b[0mpe\u001b[0m\u001b[1;33m)\u001b[0m\u001b[1;33m**\u001b[0m\u001b[1;33m(\u001b[0m\u001b[1;33m-\u001b[0m\u001b[0malpha\u001b[0m\u001b[1;33m)\u001b[0m \u001b[1;33m*\u001b[0m \u001b[1;33m(\u001b[0m\u001b[0mBfunvec2_prime\u001b[0m \u001b[1;33m-\u001b[0m \u001b[0mBfunvec1_prime\u001b[0m\u001b[1;33m)\u001b[0m\u001b[1;33m/\u001b[0m\u001b[0mdf\u001b[0m\u001b[1;33m[\u001b[0m\u001b[1;34m'jxbar'\u001b[0m\u001b[1;33m]\u001b[0m\u001b[1;33m**\u001b[0m\u001b[1;33m(\u001b[0m\u001b[1;36m1\u001b[0m\u001b[1;33m+\u001b[0m\u001b[1;33m(\u001b[0m\u001b[1;36m1\u001b[0m\u001b[1;33m-\u001b[0m\u001b[0msigmastar\u001b[0m\u001b[1;33m)\u001b[0m\u001b[1;33m/\u001b[0m\u001b[0mtheta\u001b[0m\u001b[1;33m)\u001b[0m\u001b[1;33m\u001b[0m\u001b[1;33m\u001b[0m\u001b[0m\n\u001b[0m\u001b[0;32m      3\u001b[0m \u001b[0mCeFH1_prime\u001b[0m \u001b[1;33m=\u001b[0m \u001b[0mdf\u001b[0m\u001b[1;33m[\u001b[0m\u001b[1;34m'CeFH'\u001b[0m\u001b[1;33m]\u001b[0m \u001b[1;33m*\u001b[0m \u001b[0mCeFH1_hat\u001b[0m\u001b[1;33m\u001b[0m\u001b[1;33m\u001b[0m\u001b[0m\n\u001b[0;32m      4\u001b[0m \u001b[0mCeFH2_prime\u001b[0m \u001b[1;33m=\u001b[0m \u001b[0mdf\u001b[0m\u001b[1;33m[\u001b[0m\u001b[1;34m'CeFH'\u001b[0m\u001b[1;33m]\u001b[0m \u001b[1;33m*\u001b[0m \u001b[0mCeFH2_hat\u001b[0m\u001b[1;33m\u001b[0m\u001b[1;33m\u001b[0m\u001b[0m\n\u001b[0;32m      5\u001b[0m \u001b[0mCeFH_hat\u001b[0m \u001b[1;33m=\u001b[0m \u001b[0mCeFH1_hat\u001b[0m \u001b[1;33m+\u001b[0m \u001b[0mCeFH2_hat\u001b[0m\u001b[1;33m;\u001b[0m\u001b[1;33m\u001b[0m\u001b[1;33m\u001b[0m\u001b[0m\n",
      "\u001b[1;31mNameError\u001b[0m: name 'Bfunvec2_prime' is not defined"
     ]
    }
   ],
   "source": [
    "CeFH1_hat = (pe +tb)**(-epsilonDstar) * j0_hat**(1 + (1 - sigmastar)/theta)\n",
    "CeFH2_hat = (1 + (1 - sigmastar)/theta) * ((1-df['jxbar'])/df['jxbar'])**(sigmastar/theta) * pe**(-epsilonDstar) * (1 + tb/pe)**(-alpha) * (Bfunvec2_prime - Bfunvec1_prime)/df['jxbar']**(1+(1-sigmastar)/theta)\n",
    "CeFH1_prime = df['CeFH'] * CeFH1_hat\n",
    "CeFH2_prime = df['CeFH'] * CeFH2_hat\n",
    "CeFH_hat = CeFH1_hat + CeFH2_hat;"
   ]
  },
  {
   "cell_type": "code",
   "execution_count": null,
   "id": "a7d89f43-3abb-42dd-acb4-0788a3bd292d",
   "metadata": {},
   "outputs": [],
   "source": []
  }
 ],
 "metadata": {
  "kernelspec": {
   "display_name": "Python 3 (ipykernel)",
   "language": "python",
   "name": "python3"
  },
  "language_info": {
   "codemirror_mode": {
    "name": "ipython",
    "version": 3
   },
   "file_extension": ".py",
   "mimetype": "text/x-python",
   "name": "python",
   "nbconvert_exporter": "python",
   "pygments_lexer": "ipython3",
   "version": "3.9.5"
  }
 },
 "nbformat": 4,
 "nbformat_minor": 5
}
