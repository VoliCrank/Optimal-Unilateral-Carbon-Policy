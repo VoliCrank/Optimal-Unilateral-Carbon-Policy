{
 "cells": [
  {
   "cell_type": "code",
   "execution_count": 1,
   "id": "ce7123e5-87c4-4f84-89fd-e770f361d648",
   "metadata": {},
   "outputs": [],
   "source": [
    "import math\n",
    "import numpy as np\n",
    "import pandas as pd\n",
    "from fun_utils import *\n",
    "from scipy.optimize import minimize, least_squares\n",
    "from scipy.optimize import fsolve\n",
    "from scipy.integrate import quad\n",
    "import matplotlib.pyplot as plt"
   ]
  },
  {
   "cell_type": "code",
   "execution_count": 2,
   "id": "a6729c02-194e-4a69-a02d-9e773e2bc10b",
   "metadata": {},
   "outputs": [],
   "source": [
    "## scenario switch\n",
    "case=3;  # 2 means no trade in goods; 3 means trade in both energy and goods\n",
    "logit = 0; # 1 means logit estimations of supply elasticity; 0 means fixed elasticities at 0.5"
   ]
  },
  {
   "cell_type": "code",
   "execution_count": 3,
   "id": "2f2f4f11-b505-4dab-8617-55a8b51e8576",
   "metadata": {},
   "outputs": [],
   "source": [
    "## parameter values\n",
    "alpha = 0.85;           # labor share parameter in manufacturing\n",
    "theta = 4;              # scopevec for comparative advantage\n",
    "sigma = 1;      # elasticity of demand for each individual manufactured good j at Home\n",
    "sigmastar = 1;  # elasticity of demand for each individual manufactured good j at Foreign\n",
    "epsilonD = alpha + (1 - alpha) * sigma;  #Home's elasticity of demand for embodied energy\n",
    "epsilonDstar = alpha + (1 - alpha) * sigmastar;  #Foreign's elasticity of demand for embodied energy\n",
    "# beta = 2.274853;\n",
    "# gamma= 0.784877595;\n",
    "beta=1.892412;\n",
    "gamma=0.807998928;\n",
    "epsilonS = 0.5;  #Homes's energy supply elasticity: beta/(1 - beta)\n",
    "epsilonSstar = 0.5;  #Foreign's energy supply elasticity: betastar/(1 - betastar)"
   ]
  },
  {
   "cell_type": "code",
   "execution_count": 4,
   "id": "6d18f927-3732-4ff5-a0f6-de0ecde3cfe7",
   "metadata": {},
   "outputs": [],
   "source": [
    "ParaList = (alpha, theta, sigma, sigmastar, epsilonD,epsilonDstar, epsilonS,epsilonSstar, beta, gamma, logit)"
   ]
  },
  {
   "cell_type": "code",
   "execution_count": 5,
   "id": "9db6357d-5dcf-44b6-a10d-55eb1de9b4fd",
   "metadata": {},
   "outputs": [],
   "source": [
    "tax_scenario= {'tax_sce': 'Unilateral', 'Base': 0}\n",
    "df = {'Qe': 4.4800448, 'Qestar': 27.795946, 'Qeworld': 32.27599, 'CeHH': 4.598403, 'CeHF': 1.196111,'CeFH': 0.42160103,'CeFF': 26.059874,'Ce': 5.7945137,'Cestar': 26.481474,'Ge': 5.0200038,'Gestar': 27.255985,'Ceworld': 32.27599,'Geworld': 32.27599,'jxbar': 0.015920602214279298,'jmbar':  0.7935787194577492}"
   ]
  },
  {
   "cell_type": "code",
   "execution_count": 6,
   "id": "c151afbb-52d7-45bf-9947-0f1cb76b604e",
   "metadata": {},
   "outputs": [],
   "source": [
    "def opt_price(p, varphi, tax_scenario, ParaList, df):\n",
    "    pe = p[0]\n",
    "    tb_mat = p[1:]\n",
    "    alpha, theta, sigma, sigmastar, epsilonD,epsilonDstar, epsilonS, epsilonSstar, beta, gamma, logit = ParaList\n",
    "\n",
    "    #solve for equilibrium\n",
    "    if tax_scenario['tax_sce']!='Unilateral':\n",
    "        print(\"shouldn't be here\")\n",
    "        return 0\n",
    "        \n",
    "     ## optimal values\n",
    "    # jxbar_hat =   (1 - df['jxbar']) ** (-1) / (((1 - df['jxbar']) ** (-1) - 1) + (1 + (1 - alpha) * tb_mat[0]/pe) ** (-theta) * (1 + tb_mat[0]/pe) ** ((1 - alpha) * theta));\n",
    "    jxbar_hat = pe**(-alpha*theta) * (pe+tb_mat[0])**(-(1-alpha)*theta) / ( df['jxbar'] * pe**(-alpha*theta) * (pe+tb_mat[0])**(-(1-alpha)*theta) + (1-df['jxbar']) * (pe + (1-alpha) * tb_mat[0])**(-theta));\n",
    "    j0_hat = (pe+tb_mat[0])**(-(1-alpha)*theta) / (df['jxbar'] * (pe+tb_mat[0])**(-(1-alpha)*theta) + (1-df['jxbar']) * pe**(-(1-alpha)*theta))\n",
    "    jmbar_hat = 1\n",
    "    \n",
    "    if tax_scenario['tax_sce']=='Unilateral':\n",
    "        te=varphi;\n",
    "\n",
    "    \n",
    "    jxbar_prime = jxbar_hat * df['jxbar'];\n",
    "    jmbar_prime = jmbar_hat * df['jmbar'];\n",
    "    \n",
    "    j0_prime = j0_hat * df['jxbar'];\n",
    "\n",
    "    def tempFunction(i, theta, sigmastar):\n",
    "        return (i ** ((1 + theta) / theta - 1) * (1 - i) ** ((theta - sigmastar) / theta - 1)) \n",
    "    \n",
    "    Bfunvec1_prime = quad(tempFunction,0,j0_prime, args=(theta, sigmastar))[0];\n",
    "    Bfunvec2_prime = quad(tempFunction,0,jxbar_prime, args=(theta, sigmastar))[0];\n",
    "\n",
    "    #if te is too large, Home stop producing\n",
    "    petbte = pe + tb_mat[0] - te;\n",
    "    z = pe + tb_mat[0] >= te;\n",
    "    petbte = petbte * z;\n",
    "\n",
    "    Qe_hat = (petbte) ** epsilonS;\n",
    "    Qestar_hat = pe ** epsilonSstar;\n",
    "          \n",
    "    if logit==1:\n",
    "        epsilonS=beta*(1-gamma)/(1-gamma+gamma*petbte**beta);\n",
    "        epsilonSstar=beta*(1-gamma)/(1-gamma+gamma*pe**beta);\n",
    "        Qe_hat = (petbte)**beta/(1-gamma+gamma*(petbte)**beta);\n",
    "        Qestar_hat = pe**beta/(1-gamma+gamma*pe**beta);\n",
    " \n",
    "    Qe_prime = df['Qe'] * Qe_hat;\n",
    "    Qestar_prime = df['Qestar'] * Qestar_hat;\n",
    "     \n",
    "    CeHH_hat = (pe + tb_mat[0]) ** (-epsilonD) * jmbar_hat ** (1 + (1 - sigma)/theta);\n",
    "    CeHH_prime = df['CeHH'] * CeHH_hat;\n",
    "       \n",
    "    \n",
    "    # CeFH_hat = (1 + (1 - sigmastar)/theta) * pe ** (-(1 - alpha) * sigmastar) * (pe + tb_mat[0]) ** (-alpha) * Bfunvec_prime/(df['jxbar'] ** (1 +1/theta)) * (1 - df['jxbar']) ** (sigmastar/theta);\n",
    "    CeFH1_hat = (pe +tb_mat[0])**(-epsilonDstar) * j0_hat**(1 + (1 - sigmastar)/theta);\n",
    "    CeFH2_hat = (1 + (1 - sigmastar)/theta) * ((1-df['jxbar'])/df['jxbar'])**(sigmastar/theta) * pe**(-epsilonDstar) * (1 + tb_mat[0]/pe)**(-alpha) * (Bfunvec2_prime - Bfunvec1_prime)/df['jxbar']**(1+(1-sigmastar)/theta);\n",
    "    CeFH1_prime = df['CeFH'] * CeFH1_hat;\n",
    "    CeFH2_prime = df['CeFH'] * CeFH2_hat;\n",
    "    CeFH_hat = CeFH1_hat + CeFH2_hat;\n",
    "    \n",
    "    if np.isnan(CeFH_hat)==True:\n",
    "        CeFH_hat=0\n",
    "    CeFH_prime =df['CeFH'] * CeFH_hat;\n",
    "    \n",
    "    \n",
    "    CeHF_hat = (pe + tb_mat[0]) ** (-epsilonD);\n",
    "    \n",
    "    CeHF_prime = df['CeHF'] * CeHF_hat;\n",
    "    \n",
    "    \n",
    "    CeFF_prime = df['CeFF'] * ((1 - jxbar_prime)/(1-df['jxbar'])) ** (1 + (1 - sigmastar)/theta) * pe ** (-epsilonDstar);\n",
    "    \n",
    "    ##\n",
    "    VgHH = df['CeHH']/(1 - alpha);\n",
    "    VgFF = df['CeFF']/(1 - alpha);\n",
    "    \n",
    "    VgFH = df['CeFH'] /(1 - alpha);\n",
    "    # VgFH_prime = VgFH * pe ** ((1 - sigmastar) * (1 - alpha)) * (1 - (1 - jxbar_prime) ** (1 + (1 - sigmastar)/theta))/ (df['jxbar'] * (1 - df['jxbar']) ** ( (1-sigmastar)/theta));\n",
    "    VgFH1_hat = (pe + tb_mat[0]) * CeFH1_hat;\n",
    "    VgFH2_hat = pe**(1 - epsilonDstar) * ((1-j0_prime)**(1+(1-sigmastar)/theta) - (1-jxbar_prime)**(1+(1-sigmastar)/theta))/ (df['jxbar']  * (1 - df['jxbar'] )**( (1-sigmastar)/theta));\n",
    "    VgFH1_prime = VgFH * VgFH1_hat;\n",
    "    VgFH2_prime = VgFH * VgFH2_hat;\n",
    "    \n",
    "    \n",
    "    diff = Qe_prime + Qestar_prime - (CeHH_prime + CeFH_prime + CeHF_prime + CeFF_prime);\n",
    "    pai_g = (pe + tb_mat[0]) * CeFH2_prime / (1 - alpha) - VgFH2_prime\n",
    "    \n",
    "    numerator = varphi * epsilonSstar * Qestar_prime - sigmastar * (1-alpha) * pai_g\n",
    "    denominator = epsilonSstar * Qestar_prime + epsilonDstar * CeFF_prime\n",
    "    diff1 = tb_mat[0] * denominator - numerator\n",
    "        \n",
    "    return abs(diff) + abs(diff1)"
   ]
  },
  {
   "cell_type": "code",
   "execution_count": 7,
   "id": "7f413f00-93b9-4478-bbf9-953c733c97b9",
   "metadata": {},
   "outputs": [],
   "source": [
    "varphi = 27.3"
   ]
  },
  {
   "cell_type": "code",
   "execution_count": 10,
   "id": "86ea2b42-0068-4603-b9c4-dc98f6dcdc48",
   "metadata": {},
   "outputs": [
    {
     "data": {
      "text/plain": [
       " final_simplex: (array([[0.90779309, 9.30731009],\n",
       "       [0.90779039, 9.30728004],\n",
       "       [0.90779116, 9.30729718]]), array([0.00015461, 0.00016399, 0.00018527]))\n",
       "           fun: 0.00015461206924172188\n",
       "       message: 'Optimization terminated successfully.'\n",
       "          nfev: 108\n",
       "           nit: 57\n",
       "        status: 0\n",
       "       success: True\n",
       "             x: array([0.90779309, 9.30731009])"
      ]
     },
     "execution_count": 10,
     "metadata": {},
     "output_type": "execute_result"
    }
   ],
   "source": [
    "res1 = minimize(opt_price, (1, 10), args = (varphi, tax_scenario, ParaList, df), bounds = [(0,np.inf), (0, np.inf)], method = 'Nelder-Mead', options = {'maxfev': 10000})\n",
    "res1"
   ]
  },
  {
   "cell_type": "code",
   "execution_count": 11,
   "id": "e3017381-f0b8-48d0-adf4-3185be460cb6",
   "metadata": {},
   "outputs": [
    {
     "data": {
      "text/plain": [
       "(9.925589010961744e-05, -5.5356179132104444e-05)"
      ]
     },
     "execution_count": 11,
     "metadata": {},
     "output_type": "execute_result"
    }
   ],
   "source": [
    "obj_val = verify([res1.x[1]], res1.x[0], varphi, tax_scenario, ParaList, df)\n",
    "obj_val"
   ]
  },
  {
   "cell_type": "code",
   "execution_count": 146,
   "id": "fe0425c0-ec70-4c50-95d6-70d13903a94a",
   "metadata": {},
   "outputs": [],
   "source": [
    "def obj_eval(tax_scenario, ParaList, df):\n",
    "    data = []\n",
    "    for pe in np.arange(0,2,0.01):\n",
    "        res1 = minimize(opt_price, (pe, 100), args = (varphi, tax_scenario, ParaList, df), bounds = [(0,np.inf), (0, np.inf)], method = 'Nelder-Mead', options = {'maxfev': 100000, 'maxiter': 10000})\n",
    "        #print(res1)\n",
    "        obj_val = verify([res1.x[1]], res1.x[0], varphi, tax_scenario, ParaList, df)\n",
    "        data.append((pe, obj_val, res1.x[0], res1.x[1]))\n",
    "    return data"
   ]
  },
  {
   "cell_type": "code",
   "execution_count": 147,
   "id": "5df72018-990a-435e-97dc-022c8f2faab8",
   "metadata": {},
   "outputs": [
    {
     "name": "stderr",
     "output_type": "stream",
     "text": [
      "C:\\Users\\Alex\\AppData\\Local\\Temp/ipykernel_22396/2572838797.py:13: RuntimeWarning: divide by zero encountered in double_scalars\n",
      "  jxbar_hat = pe**(-alpha*theta) * (pe+tb_mat[0])**(-(1-alpha)*theta) / ( df['jxbar'] * pe**(-alpha*theta) * (pe+tb_mat[0])**(-(1-alpha)*theta) + (1-df['jxbar']) * (pe + (1-alpha) * tb_mat[0])**(-theta));\n",
      "C:\\Users\\Alex\\AppData\\Local\\Temp/ipykernel_22396/2572838797.py:13: RuntimeWarning: invalid value encountered in double_scalars\n",
      "  jxbar_hat = pe**(-alpha*theta) * (pe+tb_mat[0])**(-(1-alpha)*theta) / ( df['jxbar'] * pe**(-alpha*theta) * (pe+tb_mat[0])**(-(1-alpha)*theta) + (1-df['jxbar']) * (pe + (1-alpha) * tb_mat[0])**(-theta));\n",
      "C:\\Users\\Alex\\AppData\\Local\\Temp/ipykernel_22396/2572838797.py:14: RuntimeWarning: divide by zero encountered in double_scalars\n",
      "  j0_hat = (pe+tb_mat[0])**(-(1-alpha)*theta) / (df['jxbar'] * (pe+tb_mat[0])**(-(1-alpha)*theta) + (1-df['jxbar']) * pe**(-(1-alpha)*theta))\n",
      "C:\\Users\\Alex\\AppData\\Local\\Temp/ipykernel_22396/2572838797.py:55: RuntimeWarning: divide by zero encountered in double_scalars\n",
      "  CeFH2_hat = (1 + (1 - sigmastar)/theta) * ((1-df['jxbar'])/df['jxbar'])**(sigmastar/theta) * pe**(-epsilonDstar) * (1 + tb_mat[0]/pe)**(-alpha) * (Bfunvec2_prime - Bfunvec1_prime)/df['jxbar']**(1+(1-sigmastar)/theta);\n",
      "C:\\Users\\Alex\\AppData\\Local\\Temp/ipykernel_22396/2572838797.py:55: RuntimeWarning: invalid value encountered in double_scalars\n",
      "  CeFH2_hat = (1 + (1 - sigmastar)/theta) * ((1-df['jxbar'])/df['jxbar'])**(sigmastar/theta) * pe**(-epsilonDstar) * (1 + tb_mat[0]/pe)**(-alpha) * (Bfunvec2_prime - Bfunvec1_prime)/df['jxbar']**(1+(1-sigmastar)/theta);\n",
      "C:\\Users\\Alex\\AppData\\Local\\Temp/ipykernel_22396/2572838797.py:70: RuntimeWarning: divide by zero encountered in double_scalars\n",
      "  CeFF_prime = df['CeFF'] * ((1 - jxbar_prime)/(1-df['jxbar'])) ** (1 + (1 - sigmastar)/theta) * pe ** (-epsilonDstar);\n"
     ]
    }
   ],
   "source": [
    "data = obj_eval(tax_scenario, ParaList, df)"
   ]
  },
  {
   "cell_type": "code",
   "execution_count": 148,
   "id": "498463ba-9f5d-452b-98c3-ef4dcb63854a",
   "metadata": {},
   "outputs": [
    {
     "data": {
      "text/plain": [
       "[<matplotlib.lines.Line2D at 0x134679bd2b0>]"
      ]
     },
     "execution_count": 148,
     "metadata": {},
     "output_type": "execute_result"
    },
    {
     "data": {
      "image/png": "[encoded data removed]",
      "text/plain": [
       "<Figure size 432x288 with 1 Axes>"
      ]
     },
     "metadata": {
      "needs_background": "light"
     },
     "output_type": "display_data"
    }
   ],
   "source": [
    "x_val = [x[0] for x in data]\n",
    "#y_val = [x[1] for x in data]\n",
    "z_val = [abs(x[1][0]) for x in data]\n",
    "#plt.set_ylim(0, 2)\n",
    "plt.plot(x_val,z_val)"
   ]
  },
  {
   "cell_type": "code",
   "execution_count": 127,
   "id": "a72eda3e-4b70-4cdc-90fa-d7f9172bb5e0",
   "metadata": {},
   "outputs": [
    {
     "data": {
      "text/plain": [
       "[<mpl_toolkits.mplot3d.art3d.Line3D at 0x13467ec6640>]"
      ]
     },
     "execution_count": 127,
     "metadata": {},
     "output_type": "execute_result"
    },
    {
     "data": {
      "image/png": "[encoded data removed]",
      "text/plain": [
       "<Figure size 432x288 with 1 Axes>"
      ]
     },
     "metadata": {
      "needs_background": "light"
     },
     "output_type": "display_data"
    }
   ],
   "source": [
    "ax = plt.axes(projection='3d')\n",
    "ax.plot3D(x_val, y_val, z_val, 'gray')"
   ]
  },
  {
   "cell_type": "code",
   "execution_count": 97,
   "id": "f0dd9333-f4fa-4e91-93fe-eaba478067a7",
   "metadata": {},
   "outputs": [],
   "source": [
    "def integrand(i, a, b):\n",
    "    return (i **(a-1)* (1 - i) ** ((b - 1))) "
   ]
  },
  {
   "cell_type": "code",
   "execution_count": 103,
   "id": "53e49329-108d-4841-a712-85078473a14f",
   "metadata": {},
   "outputs": [
    {
     "data": {
      "text/plain": [
       "(0.3669729873399108, 1.0975109709931985e-10)"
      ]
     },
     "execution_count": 103,
     "metadata": {},
     "output_type": "execute_result"
    }
   ],
   "source": [
    "quad(integrand,0,0.5, args=((1+theta)/theta, (theta-sigmastar)/theta))"
   ]
  },
  {
   "cell_type": "code",
   "execution_count": 105,
   "id": "f093253d-be96-44b1-8444-c8baae78c226",
   "metadata": {},
   "outputs": [
    {
     "data": {
      "text/plain": [
       "(0.3669729873399108, 1.0975109709931985e-10)"
      ]
     },
     "execution_count": 105,
     "metadata": {},
     "output_type": "execute_result"
    }
   ],
   "source": [
    "def tempFunction(i, theta, sigmastar):\n",
    "    return (i ** ((1 + theta) / theta - 1) * (1 - i) ** ((theta - sigmastar) / theta - 1)) \n",
    "    \n",
    "quad(tempFunction,0,0.5, args=(theta, sigmastar))"
   ]
  },
  {
   "cell_type": "code",
   "execution_count": null,
   "id": "c0bace60-100e-43fd-9a41-9c04f4b73cc4",
   "metadata": {},
   "outputs": [],
   "source": []
  }
 ],
 "metadata": {
  "kernelspec": {
   "display_name": "Python 3 (ipykernel)",
   "language": "python",
   "name": "python3"
  },
  "language_info": {
   "codemirror_mode": {
    "name": "ipython",
    "version": 3
   },
   "file_extension": ".py",
   "mimetype": "text/x-python",
   "name": "python",
   "nbconvert_exporter": "python",
   "pygments_lexer": "ipython3",
   "version": "3.9.5"
  }
 },
 "nbformat": 4,
 "nbformat_minor": 5
}
